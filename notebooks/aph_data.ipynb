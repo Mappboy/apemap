{
 "cells": [
  {
   "cell_type": "code",
   "execution_count": 10,
   "metadata": {
    "collapsed": true
   },
   "outputs": [
    {
     "data": {
      "text/plain": "      PHID   GivenName MiddleNames    FamilyName PreferredName  \\\n0   300147       Aaron                     VIOLI                 \n0      M3C        Adam        Paul         BANDT                 \n0   269375   Alexander     Charles         ANTIC        (Alex)   \n0      HWO  Alexander       George         HAWKE        (Alex)   \n0   144732      Alicia        Emma         PAYNE                 \n..     ...         ...         ...           ...           ...   \n0   288713         Sam                   BIRRELL                 \n0   300130         Sam                       LIM                 \n0   300122      Samuel      Thomas           RAE         (Sam)   \n0      I0U       Sarah       Coral  HANSON-YOUNG                 \n0      ZN4       Sarah        Moya     HENDERSON                 \n\n                                DisplayName DateOfBirth DateOfDeath  \\\n0                              VIOLI, Aaron                           \n0                       BANDT, Dr Adam Paul  1972-03-11               \n0           ANTIC, Alexander (Alex) Charles  1974-12-17               \n0   HAWKE, the Hon. Alexander (Alex) George  1977-07-09               \n0                        PAYNE, Alicia Emma  1982-07-24               \n..                                      ...         ...         ...   \n0                              BIRRELL, Sam                           \n0                                  LIM, Sam  1961-06-06               \n0                  RAE, Samuel (Sam) Thomas  1986-09-26               \n0                 HANSON-YOUNG, Sarah Coral  1981-12-23               \n0            HENDERSON, the Hon. Sarah Moya                           \n\n               PlaceOfBirth PlaceOfDeath  ...  \\\n0                                         ...   \n0                  Adelaide               ...   \n0                  Adelaide               ...   \n0                Wollongong               ...   \n0                  Canberra               ...   \n..                      ...          ...  ...   \n0                                         ...   \n0   Parit Zing, Muar, Johor               ...   \n0                  Canberra               ...   \n0                 Melbourne               ...   \n0                   Geelong               ...   \n\n                                RepresentedMinistries  \\\n0                                                  []   \n0                                                  []   \n0                                                  []   \n0   [Assistant Minister, Assistant Minister, Assis...   \n0                                                  []   \n..                                                ...   \n0                                                  []   \n0                                                  []   \n0                                                  []   \n0                                                  []   \n0                                [Assistant Minister]   \n\n           RepresentedShadowMinistries           ParliamentaryPositions  \\\n0                                   []                               []   \n0                                   []                               []   \n0                                   []                               []   \n0                                   []  [Member of the Speaker's Panel]   \n0                                   []                               []   \n..                                 ...                              ...   \n0                                   []                               []   \n0                                   []                               []   \n0                                   []                               []   \n0                                   []                               []   \n0   [Shadow Minister, Shadow Minister]  [Member of the Speaker's Panel]   \n\n                                              Honours  \\\n0                                                  []   \n0                                                  []   \n0                                                  []   \n0                                                  []   \n0                                                  []   \n..                                                ...   \n0                                                  []   \n0                 [Police Officer of the Year, 2020.]   \n0                                                  []   \n0                                                  []   \n0   [Walkley Award for Best Coverage of a Current ...   \n\n                                          Occupations  \\\n0                                                  []   \n0   [Barrister from 2008 to 2010., Research office...   \n0                      [Solicitor from 2002 to 2019.]   \n0   [Adviser to R Williams, MLA, 2007., Adviser to...   \n0   [Chief of Staff to Hon. J Macklin MP, Shadow M...   \n..                                                ...   \n0                                                  []   \n0   [Police Officer from 6.11.2006 to 20.5.2022., ...   \n0   [Partner at PwC from 2019 to 2021., State Secr...   \n0   [Freelance writer and columnist from 2007., Ba...   \n0   [Senior Consultant at Clifton Group, 2011., He...   \n\n                                 SecondaryOccupations  \\\n0                                                  []   \n0   [Solicitor, Social Professionals nfd, Barriste...   \n0   [Solicitor, Legal, Social and Welfare Professi...   \n0   [Retail Manager (General), Hospitality, Retail...   \n0   [Policy Analyst, Business, Human Resource and ...   \n..                                                ...   \n0                                                  []   \n0   [Security Officers and Guards nec, Police Offi...   \n0   [Call or Contact Centre Operator, Child Care W...   \n0   [Bank Worker, Sales Assistant (General), Journ...   \n0   [Public Relations Professional, Television Jou...   \n\n                                       Qualifications  \\\n0                                                  []   \n0   [Doctor of Philosophy, Monash University, Bach...   \n0   [Bachelor of Laws, University of Adelaide, Bac...   \n0   [Bachelor of Arts (Government and Philosophy),...   \n0   [Bachelor of Economics Honours, University of ...   \n..                                                ...   \n0                                                  []   \n0   [Diploma in Public Safety (Policing), Western ...   \n0   [Master of Business Administration, Melbourne ...   \n0   [Bachelor of Social Science, University of Ade...   \n0       [Bachelor of Laws Honours, Monash University]   \n\n                                    ElectorateService  \\\n0   [{'Electorate': 'Casey', 'State': 'Victoria', ...   \n0   [{'Electorate': 'Melbourne', 'State': 'Victori...   \n0                                                  []   \n0   [{'Electorate': 'Mitchell', 'State': 'New Sout...   \n0   [{'Electorate': 'Canberra', 'State': 'Australi...   \n..                                                ...   \n0   [{'Electorate': 'Nicholls', 'State': 'Victoria...   \n0   [{'Electorate': 'Tangney', 'State': 'Western A...   \n0   [{'Electorate': 'Hawke', 'State': 'Victoria', ...   \n0                                                  []   \n0   [{'Electorate': 'Corangamite', 'State': 'Victo...   \n\n                            PartyParliamentaryService  \\\n0   [{'RoSId': 59490, 'RoSType': 'Parliamentary Se...   \n0   [{'RoSId': 27172, 'RoSType': 'Parliamentary Se...   \n0   [{'RoSId': 54265, 'RoSType': 'Parliamentary Se...   \n0   [{'RoSId': 27382, 'RoSType': 'Parliamentary Se...   \n0   [{'RoSId': 54199, 'RoSType': 'Parliamentary Se...   \n..                                                ...   \n0   [{'RoSId': 59510, 'RoSType': 'Parliamentary Se...   \n0   [{'RoSId': 59223, 'RoSType': 'Parliamentary Se...   \n0   [{'RoSId': 59317, 'RoSType': 'Parliamentary Se...   \n0   [{'RoSId': 27831, 'RoSType': 'Parliamentary Se...   \n0   [{'RoSId': 27391, 'RoSType': 'Parliamentary Se...   \n\n                                PartyCommitteeService  \n0   [{'RoSId': 60048, 'RoSType': 'Committee Servic...  \n0   [{'RoSId': 1164, 'RoSType': 'Committee Service...  \n0   [{'RoSId': 54358, 'RoSType': 'Committee Servic...  \n0   [{'RoSId': 1508, 'RoSType': 'Committee Service...  \n0   [{'RoSId': 54738, 'RoSType': 'Committee Servic...  \n..                                                ...  \n0   [{'RoSId': 60028, 'RoSType': 'Committee Servic...  \n0   [{'RoSId': 59842, 'RoSType': 'Committee Servic...  \n0   [{'RoSId': 59813, 'RoSType': 'Committee Servic...  \n0   [{'RoSId': 3191, 'RoSType': 'Committee Service...  \n0   [{'RoSId': 56863, 'RoSType': 'Committee Servic...  \n\n[192 rows x 51 columns]",
      "text/html": "<div>\n<style scoped>\n    .dataframe tbody tr th:only-of-type {\n        vertical-align: middle;\n    }\n\n    .dataframe tbody tr th {\n        vertical-align: top;\n    }\n\n    .dataframe thead th {\n        text-align: right;\n    }\n</style>\n<table border=\"1\" class=\"dataframe\">\n  <thead>\n    <tr style=\"text-align: right;\">\n      <th></th>\n      <th>PHID</th>\n      <th>GivenName</th>\n      <th>MiddleNames</th>\n      <th>FamilyName</th>\n      <th>PreferredName</th>\n      <th>DisplayName</th>\n      <th>DateOfBirth</th>\n      <th>DateOfDeath</th>\n      <th>PlaceOfBirth</th>\n      <th>PlaceOfDeath</th>\n      <th>...</th>\n      <th>RepresentedMinistries</th>\n      <th>RepresentedShadowMinistries</th>\n      <th>ParliamentaryPositions</th>\n      <th>Honours</th>\n      <th>Occupations</th>\n      <th>SecondaryOccupations</th>\n      <th>Qualifications</th>\n      <th>ElectorateService</th>\n      <th>PartyParliamentaryService</th>\n      <th>PartyCommitteeService</th>\n    </tr>\n  </thead>\n  <tbody>\n    <tr>\n      <th>0</th>\n      <td>300147</td>\n      <td>Aaron</td>\n      <td></td>\n      <td>VIOLI</td>\n      <td></td>\n      <td>VIOLI, Aaron</td>\n      <td></td>\n      <td></td>\n      <td></td>\n      <td></td>\n      <td>...</td>\n      <td>[]</td>\n      <td>[]</td>\n      <td>[]</td>\n      <td>[]</td>\n      <td>[]</td>\n      <td>[]</td>\n      <td>[]</td>\n      <td>[{'Electorate': 'Casey', 'State': 'Victoria', ...</td>\n      <td>[{'RoSId': 59490, 'RoSType': 'Parliamentary Se...</td>\n      <td>[{'RoSId': 60048, 'RoSType': 'Committee Servic...</td>\n    </tr>\n    <tr>\n      <th>0</th>\n      <td>M3C</td>\n      <td>Adam</td>\n      <td>Paul</td>\n      <td>BANDT</td>\n      <td></td>\n      <td>BANDT, Dr Adam Paul</td>\n      <td>1972-03-11</td>\n      <td></td>\n      <td>Adelaide</td>\n      <td></td>\n      <td>...</td>\n      <td>[]</td>\n      <td>[]</td>\n      <td>[]</td>\n      <td>[]</td>\n      <td>[Barrister from 2008 to 2010., Research office...</td>\n      <td>[Solicitor, Social Professionals nfd, Barriste...</td>\n      <td>[Doctor of Philosophy, Monash University, Bach...</td>\n      <td>[{'Electorate': 'Melbourne', 'State': 'Victori...</td>\n      <td>[{'RoSId': 27172, 'RoSType': 'Parliamentary Se...</td>\n      <td>[{'RoSId': 1164, 'RoSType': 'Committee Service...</td>\n    </tr>\n    <tr>\n      <th>0</th>\n      <td>269375</td>\n      <td>Alexander</td>\n      <td>Charles</td>\n      <td>ANTIC</td>\n      <td>(Alex)</td>\n      <td>ANTIC, Alexander (Alex) Charles</td>\n      <td>1974-12-17</td>\n      <td></td>\n      <td>Adelaide</td>\n      <td></td>\n      <td>...</td>\n      <td>[]</td>\n      <td>[]</td>\n      <td>[]</td>\n      <td>[]</td>\n      <td>[Solicitor from 2002 to 2019.]</td>\n      <td>[Solicitor, Legal, Social and Welfare Professi...</td>\n      <td>[Bachelor of Laws, University of Adelaide, Bac...</td>\n      <td>[]</td>\n      <td>[{'RoSId': 54265, 'RoSType': 'Parliamentary Se...</td>\n      <td>[{'RoSId': 54358, 'RoSType': 'Committee Servic...</td>\n    </tr>\n    <tr>\n      <th>0</th>\n      <td>HWO</td>\n      <td>Alexander</td>\n      <td>George</td>\n      <td>HAWKE</td>\n      <td>(Alex)</td>\n      <td>HAWKE, the Hon. Alexander (Alex) George</td>\n      <td>1977-07-09</td>\n      <td></td>\n      <td>Wollongong</td>\n      <td></td>\n      <td>...</td>\n      <td>[Assistant Minister, Assistant Minister, Assis...</td>\n      <td>[]</td>\n      <td>[Member of the Speaker's Panel]</td>\n      <td>[]</td>\n      <td>[Adviser to R Williams, MLA, 2007., Adviser to...</td>\n      <td>[Retail Manager (General), Hospitality, Retail...</td>\n      <td>[Bachelor of Arts (Government and Philosophy),...</td>\n      <td>[{'Electorate': 'Mitchell', 'State': 'New Sout...</td>\n      <td>[{'RoSId': 27382, 'RoSType': 'Parliamentary Se...</td>\n      <td>[{'RoSId': 1508, 'RoSType': 'Committee Service...</td>\n    </tr>\n    <tr>\n      <th>0</th>\n      <td>144732</td>\n      <td>Alicia</td>\n      <td>Emma</td>\n      <td>PAYNE</td>\n      <td></td>\n      <td>PAYNE, Alicia Emma</td>\n      <td>1982-07-24</td>\n      <td></td>\n      <td>Canberra</td>\n      <td></td>\n      <td>...</td>\n      <td>[]</td>\n      <td>[]</td>\n      <td>[]</td>\n      <td>[]</td>\n      <td>[Chief of Staff to Hon. J Macklin MP, Shadow M...</td>\n      <td>[Policy Analyst, Business, Human Resource and ...</td>\n      <td>[Bachelor of Economics Honours, University of ...</td>\n      <td>[{'Electorate': 'Canberra', 'State': 'Australi...</td>\n      <td>[{'RoSId': 54199, 'RoSType': 'Parliamentary Se...</td>\n      <td>[{'RoSId': 54738, 'RoSType': 'Committee Servic...</td>\n    </tr>\n    <tr>\n      <th>...</th>\n      <td>...</td>\n      <td>...</td>\n      <td>...</td>\n      <td>...</td>\n      <td>...</td>\n      <td>...</td>\n      <td>...</td>\n      <td>...</td>\n      <td>...</td>\n      <td>...</td>\n      <td>...</td>\n      <td>...</td>\n      <td>...</td>\n      <td>...</td>\n      <td>...</td>\n      <td>...</td>\n      <td>...</td>\n      <td>...</td>\n      <td>...</td>\n      <td>...</td>\n      <td>...</td>\n    </tr>\n    <tr>\n      <th>0</th>\n      <td>288713</td>\n      <td>Sam</td>\n      <td></td>\n      <td>BIRRELL</td>\n      <td></td>\n      <td>BIRRELL, Sam</td>\n      <td></td>\n      <td></td>\n      <td></td>\n      <td></td>\n      <td>...</td>\n      <td>[]</td>\n      <td>[]</td>\n      <td>[]</td>\n      <td>[]</td>\n      <td>[]</td>\n      <td>[]</td>\n      <td>[]</td>\n      <td>[{'Electorate': 'Nicholls', 'State': 'Victoria...</td>\n      <td>[{'RoSId': 59510, 'RoSType': 'Parliamentary Se...</td>\n      <td>[{'RoSId': 60028, 'RoSType': 'Committee Servic...</td>\n    </tr>\n    <tr>\n      <th>0</th>\n      <td>300130</td>\n      <td>Sam</td>\n      <td></td>\n      <td>LIM</td>\n      <td></td>\n      <td>LIM, Sam</td>\n      <td>1961-06-06</td>\n      <td></td>\n      <td>Parit Zing, Muar, Johor</td>\n      <td></td>\n      <td>...</td>\n      <td>[]</td>\n      <td>[]</td>\n      <td>[]</td>\n      <td>[Police Officer of the Year, 2020.]</td>\n      <td>[Police Officer from 6.11.2006 to 20.5.2022., ...</td>\n      <td>[Security Officers and Guards nec, Police Offi...</td>\n      <td>[Diploma in Public Safety (Policing), Western ...</td>\n      <td>[{'Electorate': 'Tangney', 'State': 'Western A...</td>\n      <td>[{'RoSId': 59223, 'RoSType': 'Parliamentary Se...</td>\n      <td>[{'RoSId': 59842, 'RoSType': 'Committee Servic...</td>\n    </tr>\n    <tr>\n      <th>0</th>\n      <td>300122</td>\n      <td>Samuel</td>\n      <td>Thomas</td>\n      <td>RAE</td>\n      <td>(Sam)</td>\n      <td>RAE, Samuel (Sam) Thomas</td>\n      <td>1986-09-26</td>\n      <td></td>\n      <td>Canberra</td>\n      <td></td>\n      <td>...</td>\n      <td>[]</td>\n      <td>[]</td>\n      <td>[]</td>\n      <td>[]</td>\n      <td>[Partner at PwC from 2019 to 2021., State Secr...</td>\n      <td>[Call or Contact Centre Operator, Child Care W...</td>\n      <td>[Master of Business Administration, Melbourne ...</td>\n      <td>[{'Electorate': 'Hawke', 'State': 'Victoria', ...</td>\n      <td>[{'RoSId': 59317, 'RoSType': 'Parliamentary Se...</td>\n      <td>[{'RoSId': 59813, 'RoSType': 'Committee Servic...</td>\n    </tr>\n    <tr>\n      <th>0</th>\n      <td>I0U</td>\n      <td>Sarah</td>\n      <td>Coral</td>\n      <td>HANSON-YOUNG</td>\n      <td></td>\n      <td>HANSON-YOUNG, Sarah Coral</td>\n      <td>1981-12-23</td>\n      <td></td>\n      <td>Melbourne</td>\n      <td></td>\n      <td>...</td>\n      <td>[]</td>\n      <td>[]</td>\n      <td>[]</td>\n      <td>[]</td>\n      <td>[Freelance writer and columnist from 2007., Ba...</td>\n      <td>[Bank Worker, Sales Assistant (General), Journ...</td>\n      <td>[Bachelor of Social Science, University of Ade...</td>\n      <td>[]</td>\n      <td>[{'RoSId': 27831, 'RoSType': 'Parliamentary Se...</td>\n      <td>[{'RoSId': 3191, 'RoSType': 'Committee Service...</td>\n    </tr>\n    <tr>\n      <th>0</th>\n      <td>ZN4</td>\n      <td>Sarah</td>\n      <td>Moya</td>\n      <td>HENDERSON</td>\n      <td></td>\n      <td>HENDERSON, the Hon. Sarah Moya</td>\n      <td></td>\n      <td></td>\n      <td>Geelong</td>\n      <td></td>\n      <td>...</td>\n      <td>[Assistant Minister]</td>\n      <td>[Shadow Minister, Shadow Minister]</td>\n      <td>[Member of the Speaker's Panel]</td>\n      <td>[Walkley Award for Best Coverage of a Current ...</td>\n      <td>[Senior Consultant at Clifton Group, 2011., He...</td>\n      <td>[Public Relations Professional, Television Jou...</td>\n      <td>[Bachelor of Laws Honours, Monash University]</td>\n      <td>[{'Electorate': 'Corangamite', 'State': 'Victo...</td>\n      <td>[{'RoSId': 27391, 'RoSType': 'Parliamentary Se...</td>\n      <td>[{'RoSId': 56863, 'RoSType': 'Committee Servic...</td>\n    </tr>\n  </tbody>\n</table>\n<p>192 rows × 51 columns</p>\n</div>"
     },
     "execution_count": 10,
     "metadata": {},
     "output_type": "execute_result"
    }
   ],
   "source": [
    "\n",
    "\n",
    "import pathlib\n",
    "import sqlite3\n",
    "\n",
    "import geopandas as gpd\n",
    "\n",
    "from utils import fetch_handbook_dataframe\n",
    "\n",
    "data_dir = pathlib.Path(\"..\").resolve() / \"data\"\n",
    "gpkg = str(data_dir / \"ppm.gpkg\")\n",
    "# Create connection and load spatialite extension\n",
    "df = gpd.read_file(gpkg, layer=\"ministers\")\n",
    "aph_df = fetch_handbook_dataframe(df)\n",
    "aph_df"
   ]
  },
  {
   "cell_type": "code",
   "execution_count": 11,
   "outputs": [],
   "source": [
    "# Tidu up and create sub tables\n",
    "ministers_table = aph_df[\n",
    "    [\"PHID\", \"GivenName\", \"MiddleNames\", \"FamilyName\", \"PreferredName\", \"DisplayName\", \"DateOfBirth\", \"PlaceOfBirth\",\n",
    "     \"Image\", \"Gender\", \"MaritalStatus\", \"CountryOfBirth\", \"StateOfBirth\", \"Party\", \"PartyAbbrev\", \"SenateState\",\n",
    "     \"State\", \"StateAbbrev\", \"InCurrentParliament\", \"ServiceHistory_Start\", \"ServiceHistory_End\", \"ServiceHistory_Days\",\n",
    "     \"ElectedMemberNo\", \"ElectedSenatorNo\", \"FirstNations\"]]\n",
    "ministers_occupations = aph_df[[\"PHID\", \"Occupations\"]].explode(\"Occupations\")\n",
    "ministers_secondary_occupations = aph_df[[\"PHID\", \"SecondaryOccupations\"]].explode(\"SecondaryOccupations\")\n",
    "ministers_qualifications = aph_df[[\"PHID\", \"Qualifications\"]].explode(\"Qualifications\")\n",
    "ministers_secondary_schools = aph_df[[\"PHID\", \"SecondarySchool\"]].explode(\"SecondarySchool\")"
   ],
   "metadata": {
    "collapsed": false
   }
  },
  {
   "cell_type": "code",
   "execution_count": 22,
   "outputs": [
    {
     "data": {
      "text/plain": "231"
     },
     "execution_count": 22,
     "metadata": {},
     "output_type": "execute_result"
    }
   ],
   "source": [
    "mss = ministers_secondary_schools.set_index(\"PHID\")\n",
    "mss = mss.SecondarySchool.str.split(\"/\").explode()\n",
    "mss = mss.reset_index()\n",
    "db_con = sqlite3.connect(gpkg)\n",
    "\n",
    "mss.dropna().to_sql(\"ministers_secondary_school\", db_con, if_exists=\"replace\",\n",
    "                                         index_label=\"fid\")"
   ],
   "metadata": {
    "collapsed": false
   }
  },
  {
   "cell_type": "code",
   "execution_count": 10,
   "outputs": [
    {
     "data": {
      "text/plain": "361"
     },
     "execution_count": 10,
     "metadata": {},
     "output_type": "execute_result"
    }
   ],
   "source": [
    "# Write data to gpkg\n",
    "db_con = sqlite3.connect(gpkg)\n",
    "ministers_table.to_sql(\"ministers_aph\", db_con, if_exists=\"replace\")\n",
    "ministers_occupations.dropna().to_sql(\"ministers_occupations\", db_con, if_exists=\"replace\", index_label=\"fid\")\n",
    "ministers_secondary_occupations.dropna().to_sql(\"ministers_secondary_occupations\", db_con, if_exists=\"replace\",\n",
    "                                                index_label=\"fid\")\n",
    "ministers_qualifications.dropna().to_sql(\"ministers_secondary_qualifications\", db_con, if_exists=\"replace\",\n",
    "                                         index_label=\"fid\")\n",
    "aph_df.to_parquet(data_dir / \"aph_all.parquet\")"
   ],
   "metadata": {
    "collapsed": false
   }
  },
  {
   "cell_type": "code",
   "execution_count": 23,
   "outputs": [],
   "source": [
    "import pandas as pd\n",
    "\n",
    "import pathlib\n",
    "import geopandas as gpd\n",
    "\n",
    "data_dir = pathlib.Path(\"..\").resolve() / \"data\"\n",
    "gpkg = str(data_dir / \"ppm.gpkg\")\n",
    "\n",
    "aus_schools = gpd.read_file(data_dir / \"school-location-2022.csv\")\n",
    "aus_schools[\"geometry\"] = gpd.points_from_xy(aus_schools.Longitude, aus_schools.Latitude)\n",
    "aus_schools.set_crs(\"EPSG:4326\", inplace=True)\n",
    "df = gpd.read_file(gpkg, layer=\"education\")\n",
    "df.set_crs(\"EPSG:4326\", inplace=True)\n",
    "aus_schools = aus_schools[aus_schools[\"School Type\"].isin([\"Secondary\", \"Combined\"])]"
   ],
   "metadata": {
    "collapsed": false
   }
  },
  {
   "cell_type": "code",
   "execution_count": 34,
   "outputs": [
    {
     "name": "stderr",
     "output_type": "stream",
     "text": [
      "/home/cam/.cache/pypoetry/virtualenvs/pollypedagogymap-NEXWE1VB-py3.10/lib/python3.10/site-packages/geopandas/geodataframe.py:1443: SettingWithCopyWarning: \n",
      "A value is trying to be set on a copy of a slice from a DataFrame.\n",
      "Try using .loc[row_indexer,col_indexer] = value instead\n",
      "\n",
      "See the caveats in the documentation: https://pandas.pydata.org/pandas-docs/stable/user_guide/indexing.html#returning-a-view-versus-a-copy\n",
      "  super().__setitem__(key, value)\n",
      "/home/cam/.cache/pypoetry/virtualenvs/pollypedagogymap-NEXWE1VB-py3.10/lib/python3.10/site-packages/geopandas/geodataframe.py:393: SettingWithCopyWarning: \n",
      "A value is trying to be set on a copy of a slice from a DataFrame\n",
      "\n",
      "See the caveats in the documentation: https://pandas.pydata.org/pandas-docs/stable/user_guide/indexing.html#returning-a-view-versus-a-copy\n",
      "  self.rename(columns={geometry_col: col}, inplace=inplace)\n",
      "/home/cam/.cache/pypoetry/virtualenvs/pollypedagogymap-NEXWE1VB-py3.10/lib/python3.10/site-packages/geopandas/geodataframe.py:1443: SettingWithCopyWarning: \n",
      "A value is trying to be set on a copy of a slice from a DataFrame.\n",
      "Try using .loc[row_indexer,col_indexer] = value instead\n",
      "\n",
      "See the caveats in the documentation: https://pandas.pydata.org/pandas-docs/stable/user_guide/indexing.html#returning-a-view-versus-a-copy\n",
      "  super().__setitem__(key, value)\n"
     ]
    }
   ],
   "source": [
    "merged = pd.merge(df, aus_schools, how=\"inner\", left_on=df.school_name, right_on=aus_schools[\"School Name\"])\n",
    "matched_schools = merged[merged.geometry_x.buffer(0.01).intersects(merged.geometry_y)]\n",
    "cleaned_matched_schools = matched_schools[\n",
    "    [\"school_name\", \"school_link\", \"operational_status\", \"ACARA SML ID\", \"Suburb\", \"State\", \"Postcode\", \"School Sector\",\n",
    "     \"School Type\", \"ABS Remoteness Area\", \"ABS Remoteness Area Name\", \"Meshblock\", \"Statistical Area 1\",\n",
    "     \"Statistical Area 2\", \"Statistical Area 2 Name\", \"Statistical Area 3\", \"Statistical Area 3 Name\",\n",
    "     \"Statistical Area 4\", \"Statistical Area 4 Name\", \"Local Government Area\", \"Local Government Area Name\",\n",
    "     \"State Electoral Division\", \"State Electoral Division Name\", \"Commonwealth Electoral Division\",\n",
    "     \"Commonwealth Electoral Division Name\", \"geometry_x\"]]\n",
    "cleaned_matched_schools.set_geometry(\"geometry_x\", inplace=True)\n",
    "cleaned_matched_schools.rename_geometry(\"geometry\", inplace=True)\n",
    "cleaned_matched_schools.to_file(str(data_dir / \"ppm.gpkg\"), layer='secondary_schools', driver=\"GPKG\", )"
   ],
   "metadata": {
    "collapsed": false
   }
  },
  {
   "cell_type": "code",
   "execution_count": 8,
   "outputs": [],
   "source": [
    "aus_schools_reproj = aus_schools.to_crs(\"EPSG:9473\")\n",
    "df_repoj = df[df.is_high_school > 0].to_crs(\"EPSG:9473\")\n",
    "matched_dist = df_repoj.sjoin_nearest(aus_schools_reproj, how=\"left\", max_distance=1000)\n",
    "merged = pd.merge(df, aus_schools, how=\"inner\", left_on=df.school_name, right_on=aus_schools[\"School Name\"])\n",
    "merged.set_crs(\"EPSG:4326\").to_crs(\"EPSG:9473\")"
   ],
   "metadata": {
    "collapsed": false
   }
  },
  {
   "cell_type": "code",
   "execution_count": 26,
   "outputs": [
    {
     "data": {
      "text/plain": "     ogc_fid                         school_name  \\\n1        2.0              Mazenod College, Perth   \n3        4.0      Anglican Church Grammar School   \n4        5.0                     Aquinas College   \n5        6.0         Armadale Senior High School   \n5        6.0         Armadale Senior High School   \n..       ...                                 ...   \n276    198.0  Victorian School of Correspondence   \n277    217.0       Westfields Sports High School   \n278    183.0       Wilson Park Secondary College   \n279    186.0                 Wynyard High School   \n280    239.0           York District High School   \n\n                                 school_link  is_university  is_high_school  \\\n1    http://www.wikidata.org/entity/Q1914698              0               1   \n3    http://www.wikidata.org/entity/Q4763439              0               1   \n4    http://www.wikidata.org/entity/Q4782971              0               1   \n5    http://www.wikidata.org/entity/Q4792525              0               1   \n5    http://www.wikidata.org/entity/Q4792525              0               1   \n..                                       ...            ...             ...   \n276      http://www.wikidata.org/entity/None              0               1   \n277  http://www.wikidata.org/entity/Q7988785              0               1   \n278   https://www.wikidata.org/wiki/Q7604726              0               1   \n279   http://www.wikidata.org/entity/Q916063              0               1   \n280      http://www.wikidata.org/entity/None              0               1   \n\n     is_alt_edu operational_status                                 wkt  \\\n1             0                NaN             Point(116.039 -32.0067)   \n3             0                NaN             Point(153.054 -27.4819)   \n4             0                NaN  Point(145.235555555 -37.823055555)   \n5             0                NaN             Point(116.015 -32.1617)   \n5             0                NaN             Point(116.015 -32.1617)   \n..          ...                ...                                 ...   \n276           0                NaN      Point(143.3906074 -36.9847807)   \n277           0                NaN       Point(150.9199898 -33.867973)   \n278           0        amalgamated        Point(144.574444 -37.708333)   \n279           0                NaN      Point(145.7169952 -40.9868049)   \n280           0                NaN      Point(116.7601699 -31.8932228)   \n\n     is_public                           geometry  ...  Statistical Area 3  \\\n1          NaN  POINT (-1490830.304 -3581328.902)  ...               50605   \n3          NaN   POINT (2045962.495 -3149848.066)  ...               30502   \n4          NaN   POINT (1170372.722 -4195626.036)  ...               21103   \n5          NaN  POINT (-1490896.410 -3598813.109)  ...               50601   \n5          NaN  POINT (-1490896.410 -3598813.109)  ...               50601   \n..         ...                                ...  ...                 ...   \n276        NaN   POINT (1015944.306 -4087658.653)  ...                 NaN   \n277        NaN   POINT (1734669.468 -3824698.788)  ...               12702   \n278        NaN   POINT (1113350.803 -4177123.446)  ...               21304   \n279        NaN   POINT (1175621.137 -4544906.794)  ...               60401   \n280        NaN  POINT (-1425308.127 -3560495.993)  ...               50902   \n\n    Statistical Area 3 Name Statistical Area 4  \\\n1                 Kalamunda                506   \n3     Brisbane Inner - East                305   \n4                 Maroondah                211   \n5                  Armadale                506   \n5                  Armadale                506   \n..                      ...                ...   \n276                     NaN                NaN   \n277               Fairfield                127   \n278  Melton - Bacchus Marsh                213   \n279     Burnie - Ulverstone                604   \n280      Wheat Belt - North                509   \n\n            Statistical Area 4 Name Local Government Area  \\\n1                Perth - South East                 54200   \n3               Brisbane Inner City                 31000   \n4            Melbourne - Outer East                 24410   \n5                Perth - South East                 50210   \n5                Perth - South East                 50210   \n..                              ...                   ...   \n276                             NaN                   NaN   \n277             Sydney - South West                 12850   \n278                Melbourne - West                 24650   \n279             West and North West                 65410   \n280  Western Australia - Wheat Belt                 59370   \n\n    Local Government Area Name State Electoral Division  \\\n1                    Kalamunda                    52702   \n3                     Brisbane                    30076   \n4                    Maroondah                    27101   \n5                     Armadale                    50202   \n5                     Armadale                    50202   \n..                         ...                      ...   \n276                        NaN                      NaN   \n277                  Fairfield                    10029   \n278                     Melton                    24808   \n279            Waratah-Wynyard                    60209   \n280                       York                    51401   \n\n        State Electoral Division Name Commonwealth Electoral Division  \\\n1       Kalamunda (East Metropolitan)                             509   \n3                      South Brisbane                             313   \n4     Ringwood (Eastern Metropolitan)                             211   \n5        Armadale (East Metropolitan)                             502   \n5        Armadale (East Metropolitan)                             502   \n..                                ...                             ...   \n276                               NaN                             NaN   \n277                         Fairfield                             128   \n278         Melton (Western Victoria)                             218   \n279               Braddon (Murchison)                             602   \n280  Central Wheatbelt (Agricultural)                             512   \n\n    Commonwealth Electoral Division Name  \n1                                Hasluck  \n3                               Griffith  \n4                                 Deakin  \n5                                   Burt  \n5                                   Burt  \n..                                   ...  \n276                                  NaN  \n277                              McMahon  \n278                               Gorton  \n279                              Braddon  \n280                               Pearce  \n\n[218 rows x 41 columns]",
      "text/html": "<div>\n<style scoped>\n    .dataframe tbody tr th:only-of-type {\n        vertical-align: middle;\n    }\n\n    .dataframe tbody tr th {\n        vertical-align: top;\n    }\n\n    .dataframe thead th {\n        text-align: right;\n    }\n</style>\n<table border=\"1\" class=\"dataframe\">\n  <thead>\n    <tr style=\"text-align: right;\">\n      <th></th>\n      <th>ogc_fid</th>\n      <th>school_name</th>\n      <th>school_link</th>\n      <th>is_university</th>\n      <th>is_high_school</th>\n      <th>is_alt_edu</th>\n      <th>operational_status</th>\n      <th>wkt</th>\n      <th>is_public</th>\n      <th>geometry</th>\n      <th>...</th>\n      <th>Statistical Area 3</th>\n      <th>Statistical Area 3 Name</th>\n      <th>Statistical Area 4</th>\n      <th>Statistical Area 4 Name</th>\n      <th>Local Government Area</th>\n      <th>Local Government Area Name</th>\n      <th>State Electoral Division</th>\n      <th>State Electoral Division Name</th>\n      <th>Commonwealth Electoral Division</th>\n      <th>Commonwealth Electoral Division Name</th>\n    </tr>\n  </thead>\n  <tbody>\n    <tr>\n      <th>1</th>\n      <td>2.0</td>\n      <td>Mazenod College, Perth</td>\n      <td>http://www.wikidata.org/entity/Q1914698</td>\n      <td>0</td>\n      <td>1</td>\n      <td>0</td>\n      <td>NaN</td>\n      <td>Point(116.039 -32.0067)</td>\n      <td>NaN</td>\n      <td>POINT (-1490830.304 -3581328.902)</td>\n      <td>...</td>\n      <td>50605</td>\n      <td>Kalamunda</td>\n      <td>506</td>\n      <td>Perth - South East</td>\n      <td>54200</td>\n      <td>Kalamunda</td>\n      <td>52702</td>\n      <td>Kalamunda (East Metropolitan)</td>\n      <td>509</td>\n      <td>Hasluck</td>\n    </tr>\n    <tr>\n      <th>3</th>\n      <td>4.0</td>\n      <td>Anglican Church Grammar School</td>\n      <td>http://www.wikidata.org/entity/Q4763439</td>\n      <td>0</td>\n      <td>1</td>\n      <td>0</td>\n      <td>NaN</td>\n      <td>Point(153.054 -27.4819)</td>\n      <td>NaN</td>\n      <td>POINT (2045962.495 -3149848.066)</td>\n      <td>...</td>\n      <td>30502</td>\n      <td>Brisbane Inner - East</td>\n      <td>305</td>\n      <td>Brisbane Inner City</td>\n      <td>31000</td>\n      <td>Brisbane</td>\n      <td>30076</td>\n      <td>South Brisbane</td>\n      <td>313</td>\n      <td>Griffith</td>\n    </tr>\n    <tr>\n      <th>4</th>\n      <td>5.0</td>\n      <td>Aquinas College</td>\n      <td>http://www.wikidata.org/entity/Q4782971</td>\n      <td>0</td>\n      <td>1</td>\n      <td>0</td>\n      <td>NaN</td>\n      <td>Point(145.235555555 -37.823055555)</td>\n      <td>NaN</td>\n      <td>POINT (1170372.722 -4195626.036)</td>\n      <td>...</td>\n      <td>21103</td>\n      <td>Maroondah</td>\n      <td>211</td>\n      <td>Melbourne - Outer East</td>\n      <td>24410</td>\n      <td>Maroondah</td>\n      <td>27101</td>\n      <td>Ringwood (Eastern Metropolitan)</td>\n      <td>211</td>\n      <td>Deakin</td>\n    </tr>\n    <tr>\n      <th>5</th>\n      <td>6.0</td>\n      <td>Armadale Senior High School</td>\n      <td>http://www.wikidata.org/entity/Q4792525</td>\n      <td>0</td>\n      <td>1</td>\n      <td>0</td>\n      <td>NaN</td>\n      <td>Point(116.015 -32.1617)</td>\n      <td>NaN</td>\n      <td>POINT (-1490896.410 -3598813.109)</td>\n      <td>...</td>\n      <td>50601</td>\n      <td>Armadale</td>\n      <td>506</td>\n      <td>Perth - South East</td>\n      <td>50210</td>\n      <td>Armadale</td>\n      <td>50202</td>\n      <td>Armadale (East Metropolitan)</td>\n      <td>502</td>\n      <td>Burt</td>\n    </tr>\n    <tr>\n      <th>5</th>\n      <td>6.0</td>\n      <td>Armadale Senior High School</td>\n      <td>http://www.wikidata.org/entity/Q4792525</td>\n      <td>0</td>\n      <td>1</td>\n      <td>0</td>\n      <td>NaN</td>\n      <td>Point(116.015 -32.1617)</td>\n      <td>NaN</td>\n      <td>POINT (-1490896.410 -3598813.109)</td>\n      <td>...</td>\n      <td>50601</td>\n      <td>Armadale</td>\n      <td>506</td>\n      <td>Perth - South East</td>\n      <td>50210</td>\n      <td>Armadale</td>\n      <td>50202</td>\n      <td>Armadale (East Metropolitan)</td>\n      <td>502</td>\n      <td>Burt</td>\n    </tr>\n    <tr>\n      <th>...</th>\n      <td>...</td>\n      <td>...</td>\n      <td>...</td>\n      <td>...</td>\n      <td>...</td>\n      <td>...</td>\n      <td>...</td>\n      <td>...</td>\n      <td>...</td>\n      <td>...</td>\n      <td>...</td>\n      <td>...</td>\n      <td>...</td>\n      <td>...</td>\n      <td>...</td>\n      <td>...</td>\n      <td>...</td>\n      <td>...</td>\n      <td>...</td>\n      <td>...</td>\n      <td>...</td>\n    </tr>\n    <tr>\n      <th>276</th>\n      <td>198.0</td>\n      <td>Victorian School of Correspondence</td>\n      <td>http://www.wikidata.org/entity/None</td>\n      <td>0</td>\n      <td>1</td>\n      <td>0</td>\n      <td>NaN</td>\n      <td>Point(143.3906074 -36.9847807)</td>\n      <td>NaN</td>\n      <td>POINT (1015944.306 -4087658.653)</td>\n      <td>...</td>\n      <td>NaN</td>\n      <td>NaN</td>\n      <td>NaN</td>\n      <td>NaN</td>\n      <td>NaN</td>\n      <td>NaN</td>\n      <td>NaN</td>\n      <td>NaN</td>\n      <td>NaN</td>\n      <td>NaN</td>\n    </tr>\n    <tr>\n      <th>277</th>\n      <td>217.0</td>\n      <td>Westfields Sports High School</td>\n      <td>http://www.wikidata.org/entity/Q7988785</td>\n      <td>0</td>\n      <td>1</td>\n      <td>0</td>\n      <td>NaN</td>\n      <td>Point(150.9199898 -33.867973)</td>\n      <td>NaN</td>\n      <td>POINT (1734669.468 -3824698.788)</td>\n      <td>...</td>\n      <td>12702</td>\n      <td>Fairfield</td>\n      <td>127</td>\n      <td>Sydney - South West</td>\n      <td>12850</td>\n      <td>Fairfield</td>\n      <td>10029</td>\n      <td>Fairfield</td>\n      <td>128</td>\n      <td>McMahon</td>\n    </tr>\n    <tr>\n      <th>278</th>\n      <td>183.0</td>\n      <td>Wilson Park Secondary College</td>\n      <td>https://www.wikidata.org/wiki/Q7604726</td>\n      <td>0</td>\n      <td>1</td>\n      <td>0</td>\n      <td>amalgamated</td>\n      <td>Point(144.574444 -37.708333)</td>\n      <td>NaN</td>\n      <td>POINT (1113350.803 -4177123.446)</td>\n      <td>...</td>\n      <td>21304</td>\n      <td>Melton - Bacchus Marsh</td>\n      <td>213</td>\n      <td>Melbourne - West</td>\n      <td>24650</td>\n      <td>Melton</td>\n      <td>24808</td>\n      <td>Melton (Western Victoria)</td>\n      <td>218</td>\n      <td>Gorton</td>\n    </tr>\n    <tr>\n      <th>279</th>\n      <td>186.0</td>\n      <td>Wynyard High School</td>\n      <td>http://www.wikidata.org/entity/Q916063</td>\n      <td>0</td>\n      <td>1</td>\n      <td>0</td>\n      <td>NaN</td>\n      <td>Point(145.7169952 -40.9868049)</td>\n      <td>NaN</td>\n      <td>POINT (1175621.137 -4544906.794)</td>\n      <td>...</td>\n      <td>60401</td>\n      <td>Burnie - Ulverstone</td>\n      <td>604</td>\n      <td>West and North West</td>\n      <td>65410</td>\n      <td>Waratah-Wynyard</td>\n      <td>60209</td>\n      <td>Braddon (Murchison)</td>\n      <td>602</td>\n      <td>Braddon</td>\n    </tr>\n    <tr>\n      <th>280</th>\n      <td>239.0</td>\n      <td>York District High School</td>\n      <td>http://www.wikidata.org/entity/None</td>\n      <td>0</td>\n      <td>1</td>\n      <td>0</td>\n      <td>NaN</td>\n      <td>Point(116.7601699 -31.8932228)</td>\n      <td>NaN</td>\n      <td>POINT (-1425308.127 -3560495.993)</td>\n      <td>...</td>\n      <td>50902</td>\n      <td>Wheat Belt - North</td>\n      <td>509</td>\n      <td>Western Australia - Wheat Belt</td>\n      <td>59370</td>\n      <td>York</td>\n      <td>51401</td>\n      <td>Central Wheatbelt (Agricultural)</td>\n      <td>512</td>\n      <td>Pearce</td>\n    </tr>\n  </tbody>\n</table>\n<p>218 rows × 41 columns</p>\n</div>"
     },
     "execution_count": 26,
     "metadata": {},
     "output_type": "execute_result"
    }
   ],
   "source": [
    "matched_dist"
   ],
   "metadata": {
    "collapsed": false
   }
  },
  {
   "cell_type": "code",
   "execution_count": 9,
   "outputs": [],
   "source": [
    "from thefuzz import fuzz\n",
    "\n",
    "\n",
    "def calc_dist(x):\n",
    "    if isinstance(x[\"School Name\"], str) and isinstance(x[\"school_name\"], str):\n",
    "        s1, s2 = x[\"school_name\"], x[\"School Name\"]\n",
    "        return fuzz.ratio(s1, s2)\n",
    "    return 0\n",
    "\n",
    "\n",
    "matched_dist[\"school_name_str_match\"] = matched_dist.apply(calc_dist, axis=1)\n",
    "merged[\"school_name_str_match\"] = merged.apply(calc_dist, axis=1)"
   ],
   "metadata": {
    "collapsed": false
   }
  },
  {
   "cell_type": "code",
   "execution_count": 10,
   "outputs": [
    {
     "name": "stderr",
     "output_type": "stream",
     "text": [
      "/home/cam/.cache/pypoetry/virtualenvs/pollypedagogymap-NEXWE1VB-py3.10/lib/python3.10/site-packages/geopandas/array.py:1406: UserWarning: CRS not set for some of the concatenation inputs. Setting output's CRS as GDA2020 / Australian Albers (the single non-null crs provided).\n",
      "  warnings.warn(\n",
      "/home/cam/.cache/pypoetry/virtualenvs/pollypedagogymap-NEXWE1VB-py3.10/lib/python3.10/site-packages/geopandas/array.py:1406: UserWarning: CRS not set for some of the concatenation inputs. Setting output's CRS as WGS 84 (the single non-null crs provided).\n",
      "  warnings.warn(\n"
     ]
    }
   ],
   "source": [
    "all_merged = pd.concat([matched_dist, merged])"
   ],
   "metadata": {
    "collapsed": false
   }
  },
  {
   "cell_type": "code",
   "execution_count": 11,
   "outputs": [],
   "source": [
    "all_merged_deduped =  all_merged.sort_values(\"school_name_str_match\").drop_duplicates(\"school_name\", keep=\"last\")"
   ],
   "metadata": {
    "collapsed": false
   }
  },
  {
   "cell_type": "code",
   "execution_count": 13,
   "outputs": [
    {
     "data": {
      "text/plain": "     ogc_fid                             school_name  \\\n232    219.0  Harvey Agricultural Senior High School   \n230    201.0                   Greythorn High School   \n203      NaN                 Boronia Heights College   \n138    141.0                       St. Paul's School   \n267    231.0                    St Andrew Muar Johor   \n133    136.0                     Norwood High School   \n271    190.0                  Swanbourne High School   \n78      81.0                     Enfield High School   \n276    198.0      Victorian School of Correspondence   \n237    244.0             Kambalda Senior High School   \n\n                                  school_link  is_university  is_high_school  \\\n232                                       NaN              0               1   \n230   http://www.wikidata.org/entity/Q5608510              0               1   \n203   http://www.wikidata.org/entity/Q4946270              0               1   \n138   http://www.wikidata.org/entity/Q7595174              0               1   \n267       http://www.wikidata.org/entity/None              0               1   \n133  http://www.wikidata.org/entity/Q62516299              0               1   \n271       http://www.wikidata.org/entity/None              0               1   \n78    http://www.wikidata.org/entity/Q5377304              0               1   \n276       http://www.wikidata.org/entity/None              0               1   \n237                                       NaN              0               1   \n\n     is_alt_edu operational_status                                     wkt  \\\n232           0                NaN          Point(115.8772958 -33.1340183)   \n230           0                NaN                 Point(145.096 -37.8017)   \n203           0        amalgamated                Point(145.300833 -37.86)   \n138           0                NaN               Point(121.52749 25.02591)   \n267           0                NaN              Point(102.5729627 2.05415)   \n133           0                NaN                 Point(144.961 -37.8014)   \n271           0                NaN            Point(115.76678 -31.9711404)   \n78            0             closed  Point(138.6044383 -34.849003347396675)   \n276           0                NaN          Point(143.3906074 -36.9847807)   \n237           0                NaN            Point(121.662514 -31.201572)   \n\n     is_public                           geometry  ...  Local Government Area  \\\n232        NaN  POINT (-1489993.022 -3708241.967)  ...                    NaN   \n230        1.0   POINT (1158316.899 -4192010.732)  ...                    NaN   \n203        1.0                               None  ...                    NaN   \n138        NaN   POINT (-1453385.237 2238181.201)  ...                    NaN   \n267        NaN   POINT (-3575232.595 -205975.521)  ...                    NaN   \n133        NaN  POINT (17865737.514 -9060438.022)  ...                    NaN   \n271        NaN  POINT (-1516625.221 -3580586.069)  ...                    NaN   \n78         NaN    POINT (601825.541 -3820876.028)  ...                    NaN   \n276        NaN   POINT (1015944.306 -4087658.653)  ...                    NaN   \n237        NaN   POINT (-974312.928 -3437397.597)  ...                    NaN   \n\n    Local Government Area Name State Electoral Division  \\\n232                        NaN                      NaN   \n230                        NaN                      NaN   \n203                        NaN                      NaN   \n138                        NaN                      NaN   \n267                        NaN                      NaN   \n133                        NaN                      NaN   \n271                        NaN                      NaN   \n78                         NaN                      NaN   \n276                        NaN                      NaN   \n237                        NaN                      NaN   \n\n    State Electoral Division Name Commonwealth Electoral Division  \\\n232                           NaN                             NaN   \n230                           NaN                             NaN   \n203                           NaN                             NaN   \n138                           NaN                             NaN   \n267                           NaN                             NaN   \n133                           NaN                             NaN   \n271                           NaN                             NaN   \n78                            NaN                             NaN   \n276                           NaN                             NaN   \n237                           NaN                             NaN   \n\n    Commonwealth Electoral Division Name school_name_str_match key_0  \\\n232                                  NaN                     0   NaN   \n230                                  NaN                     0   NaN   \n203                                  NaN                     0   NaN   \n138                                  NaN                     0   NaN   \n267                                  NaN                     0   NaN   \n133                                  NaN                     0   NaN   \n271                                  NaN                     0   NaN   \n78                                   NaN                     0   NaN   \n276                                  NaN                     0   NaN   \n237                                  NaN                     0   NaN   \n\n    geometry_x geometry_y  \n232       None       None  \n230       None       None  \n203       None       None  \n138       None       None  \n267       None       None  \n133       None       None  \n271       None       None  \n78        None       None  \n276       None       None  \n237       None       None  \n\n[10 rows x 45 columns]",
      "text/html": "<div>\n<style scoped>\n    .dataframe tbody tr th:only-of-type {\n        vertical-align: middle;\n    }\n\n    .dataframe tbody tr th {\n        vertical-align: top;\n    }\n\n    .dataframe thead th {\n        text-align: right;\n    }\n</style>\n<table border=\"1\" class=\"dataframe\">\n  <thead>\n    <tr style=\"text-align: right;\">\n      <th></th>\n      <th>ogc_fid</th>\n      <th>school_name</th>\n      <th>school_link</th>\n      <th>is_university</th>\n      <th>is_high_school</th>\n      <th>is_alt_edu</th>\n      <th>operational_status</th>\n      <th>wkt</th>\n      <th>is_public</th>\n      <th>geometry</th>\n      <th>...</th>\n      <th>Local Government Area</th>\n      <th>Local Government Area Name</th>\n      <th>State Electoral Division</th>\n      <th>State Electoral Division Name</th>\n      <th>Commonwealth Electoral Division</th>\n      <th>Commonwealth Electoral Division Name</th>\n      <th>school_name_str_match</th>\n      <th>key_0</th>\n      <th>geometry_x</th>\n      <th>geometry_y</th>\n    </tr>\n  </thead>\n  <tbody>\n    <tr>\n      <th>232</th>\n      <td>219.0</td>\n      <td>Harvey Agricultural Senior High School</td>\n      <td>NaN</td>\n      <td>0</td>\n      <td>1</td>\n      <td>0</td>\n      <td>NaN</td>\n      <td>Point(115.8772958 -33.1340183)</td>\n      <td>NaN</td>\n      <td>POINT (-1489993.022 -3708241.967)</td>\n      <td>...</td>\n      <td>NaN</td>\n      <td>NaN</td>\n      <td>NaN</td>\n      <td>NaN</td>\n      <td>NaN</td>\n      <td>NaN</td>\n      <td>0</td>\n      <td>NaN</td>\n      <td>None</td>\n      <td>None</td>\n    </tr>\n    <tr>\n      <th>230</th>\n      <td>201.0</td>\n      <td>Greythorn High School</td>\n      <td>http://www.wikidata.org/entity/Q5608510</td>\n      <td>0</td>\n      <td>1</td>\n      <td>0</td>\n      <td>NaN</td>\n      <td>Point(145.096 -37.8017)</td>\n      <td>1.0</td>\n      <td>POINT (1158316.899 -4192010.732)</td>\n      <td>...</td>\n      <td>NaN</td>\n      <td>NaN</td>\n      <td>NaN</td>\n      <td>NaN</td>\n      <td>NaN</td>\n      <td>NaN</td>\n      <td>0</td>\n      <td>NaN</td>\n      <td>None</td>\n      <td>None</td>\n    </tr>\n    <tr>\n      <th>203</th>\n      <td>NaN</td>\n      <td>Boronia Heights College</td>\n      <td>http://www.wikidata.org/entity/Q4946270</td>\n      <td>0</td>\n      <td>1</td>\n      <td>0</td>\n      <td>amalgamated</td>\n      <td>Point(145.300833 -37.86)</td>\n      <td>1.0</td>\n      <td>None</td>\n      <td>...</td>\n      <td>NaN</td>\n      <td>NaN</td>\n      <td>NaN</td>\n      <td>NaN</td>\n      <td>NaN</td>\n      <td>NaN</td>\n      <td>0</td>\n      <td>NaN</td>\n      <td>None</td>\n      <td>None</td>\n    </tr>\n    <tr>\n      <th>138</th>\n      <td>141.0</td>\n      <td>St. Paul's School</td>\n      <td>http://www.wikidata.org/entity/Q7595174</td>\n      <td>0</td>\n      <td>1</td>\n      <td>0</td>\n      <td>NaN</td>\n      <td>Point(121.52749 25.02591)</td>\n      <td>NaN</td>\n      <td>POINT (-1453385.237 2238181.201)</td>\n      <td>...</td>\n      <td>NaN</td>\n      <td>NaN</td>\n      <td>NaN</td>\n      <td>NaN</td>\n      <td>NaN</td>\n      <td>NaN</td>\n      <td>0</td>\n      <td>NaN</td>\n      <td>None</td>\n      <td>None</td>\n    </tr>\n    <tr>\n      <th>267</th>\n      <td>231.0</td>\n      <td>St Andrew Muar Johor</td>\n      <td>http://www.wikidata.org/entity/None</td>\n      <td>0</td>\n      <td>1</td>\n      <td>0</td>\n      <td>NaN</td>\n      <td>Point(102.5729627 2.05415)</td>\n      <td>NaN</td>\n      <td>POINT (-3575232.595 -205975.521)</td>\n      <td>...</td>\n      <td>NaN</td>\n      <td>NaN</td>\n      <td>NaN</td>\n      <td>NaN</td>\n      <td>NaN</td>\n      <td>NaN</td>\n      <td>0</td>\n      <td>NaN</td>\n      <td>None</td>\n      <td>None</td>\n    </tr>\n    <tr>\n      <th>133</th>\n      <td>136.0</td>\n      <td>Norwood High School</td>\n      <td>http://www.wikidata.org/entity/Q62516299</td>\n      <td>0</td>\n      <td>1</td>\n      <td>0</td>\n      <td>NaN</td>\n      <td>Point(144.961 -37.8014)</td>\n      <td>NaN</td>\n      <td>POINT (17865737.514 -9060438.022)</td>\n      <td>...</td>\n      <td>NaN</td>\n      <td>NaN</td>\n      <td>NaN</td>\n      <td>NaN</td>\n      <td>NaN</td>\n      <td>NaN</td>\n      <td>0</td>\n      <td>NaN</td>\n      <td>None</td>\n      <td>None</td>\n    </tr>\n    <tr>\n      <th>271</th>\n      <td>190.0</td>\n      <td>Swanbourne High School</td>\n      <td>http://www.wikidata.org/entity/None</td>\n      <td>0</td>\n      <td>1</td>\n      <td>0</td>\n      <td>NaN</td>\n      <td>Point(115.76678 -31.9711404)</td>\n      <td>NaN</td>\n      <td>POINT (-1516625.221 -3580586.069)</td>\n      <td>...</td>\n      <td>NaN</td>\n      <td>NaN</td>\n      <td>NaN</td>\n      <td>NaN</td>\n      <td>NaN</td>\n      <td>NaN</td>\n      <td>0</td>\n      <td>NaN</td>\n      <td>None</td>\n      <td>None</td>\n    </tr>\n    <tr>\n      <th>78</th>\n      <td>81.0</td>\n      <td>Enfield High School</td>\n      <td>http://www.wikidata.org/entity/Q5377304</td>\n      <td>0</td>\n      <td>1</td>\n      <td>0</td>\n      <td>closed</td>\n      <td>Point(138.6044383 -34.849003347396675)</td>\n      <td>NaN</td>\n      <td>POINT (601825.541 -3820876.028)</td>\n      <td>...</td>\n      <td>NaN</td>\n      <td>NaN</td>\n      <td>NaN</td>\n      <td>NaN</td>\n      <td>NaN</td>\n      <td>NaN</td>\n      <td>0</td>\n      <td>NaN</td>\n      <td>None</td>\n      <td>None</td>\n    </tr>\n    <tr>\n      <th>276</th>\n      <td>198.0</td>\n      <td>Victorian School of Correspondence</td>\n      <td>http://www.wikidata.org/entity/None</td>\n      <td>0</td>\n      <td>1</td>\n      <td>0</td>\n      <td>NaN</td>\n      <td>Point(143.3906074 -36.9847807)</td>\n      <td>NaN</td>\n      <td>POINT (1015944.306 -4087658.653)</td>\n      <td>...</td>\n      <td>NaN</td>\n      <td>NaN</td>\n      <td>NaN</td>\n      <td>NaN</td>\n      <td>NaN</td>\n      <td>NaN</td>\n      <td>0</td>\n      <td>NaN</td>\n      <td>None</td>\n      <td>None</td>\n    </tr>\n    <tr>\n      <th>237</th>\n      <td>244.0</td>\n      <td>Kambalda Senior High School</td>\n      <td>NaN</td>\n      <td>0</td>\n      <td>1</td>\n      <td>0</td>\n      <td>NaN</td>\n      <td>Point(121.662514 -31.201572)</td>\n      <td>NaN</td>\n      <td>POINT (-974312.928 -3437397.597)</td>\n      <td>...</td>\n      <td>NaN</td>\n      <td>NaN</td>\n      <td>NaN</td>\n      <td>NaN</td>\n      <td>NaN</td>\n      <td>NaN</td>\n      <td>0</td>\n      <td>NaN</td>\n      <td>None</td>\n      <td>None</td>\n    </tr>\n  </tbody>\n</table>\n<p>10 rows × 45 columns</p>\n</div>"
     },
     "execution_count": 13,
     "metadata": {},
     "output_type": "execute_result"
    }
   ],
   "source": [
    "all_merged_deduped[all_merged_deduped[\"ACARA SML ID\"].isna()]"
   ],
   "metadata": {
    "collapsed": false
   }
  },
  {
   "cell_type": "code",
   "execution_count": 12,
   "outputs": [],
   "source": [
    "all_merged_deduped = all_merged_deduped[\n",
    "    [\"school_name\", \"school_link\", \"operational_status\", \"ACARA SML ID\", \"Suburb\", \"State\", \"Postcode\", \"School Sector\",\n",
    "     \"School Type\", \"ABS Remoteness Area\", \"ABS Remoteness Area Name\", \"Meshblock\", \"Statistical Area 1\",\n",
    "     \"Statistical Area 2\", \"Statistical Area 2 Name\", \"Statistical Area 3\", \"Statistical Area 3 Name\",\n",
    "     \"Statistical Area 4\", \"Statistical Area 4 Name\", \"Local Government Area\", \"Local Government Area Name\",\n",
    "     \"State Electoral Division\", \"State Electoral Division Name\", \"Commonwealth Electoral Division\",\n",
    "     \"Commonwealth Electoral Division Name\", \"geometry_x\"]]\n",
    "all_merged_deduped.set_geometry(\"geometry_x\", inplace=True)\n",
    "all_merged_deduped.rename_geometry(\"geometry\", inplace=True)\n",
    "all_merged_deduped.to_crs(\"EPSG:4326\", inplace=True)\n"
   ],
   "metadata": {
    "collapsed": false
   }
  },
  {
   "cell_type": "code",
   "execution_count": 22,
   "outputs": [],
   "source": [
    "all_merged_deduped.to_file(gpkg, layer='education__acara', driver=\"GPKG\")"
   ],
   "metadata": {
    "collapsed": false
   }
  },
  {
   "cell_type": "code",
   "execution_count": null,
   "outputs": [],
   "source": [],
   "metadata": {
    "collapsed": false
   }
  }
 ],
 "metadata": {
  "kernelspec": {
   "display_name": "Python 3",
   "language": "python",
   "name": "python3"
  },
  "language_info": {
   "codemirror_mode": {
    "name": "ipython",
    "version": 2
   },
   "file_extension": ".py",
   "mimetype": "text/x-python",
   "name": "python",
   "nbconvert_exporter": "python",
   "pygments_lexer": "ipython2",
   "version": "2.7.6"
  }
 },
 "nbformat": 4,
 "nbformat_minor": 0
}
