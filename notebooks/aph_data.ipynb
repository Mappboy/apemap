{
 "cells": [
  {
   "cell_type": "code",
   "execution_count": null,
   "metadata": {
    "collapsed": true,
    "pycharm": {
     "is_executing": true
    }
   },
   "outputs": [],
   "source": [
    "\n",
    "\n",
    "import pathlib\n",
    "import sqlite3\n",
    "\n",
    "import geopandas as gpd\n",
    "\n",
    "from utils import fetch_handbook_dataframe\n",
    "\n",
    "data_dir = pathlib.Path(\"..\").resolve() / \"data\"\n",
    "gpkg = str(data_dir / \"ppm.gpkg\")\n",
    "# Create connection and load spatialite extension\n",
    "df = gpd.read_file(gpkg, layer=\"ministers\")\n",
    "aph_df = fetch_handbook_dataframe(df)\n",
    "aph_df"
   ]
  },
  {
   "cell_type": "code",
   "execution_count": 7,
   "outputs": [],
   "source": [
    "# Tidu up and create sub tables\n",
    "ministers_table = aph_df[\n",
    "    [\"PHID\", \"GivenName\", \"MiddleNames\", \"FamilyName\", \"PreferredName\", \"DisplayName\", \"DateOfBirth\", \"PlaceOfBirth\",\n",
    "     \"Image\", \"Gender\", \"MaritalStatus\", \"CountryOfBirth\", \"StateOfBirth\", \"Party\", \"PartyAbbrev\", \"SenateState\",\n",
    "     \"State\", \"StateAbbrev\", \"InCurrentParliament\", \"ServiceHistory_Start\", \"ServiceHistory_End\", \"ServiceHistory_Days\",\n",
    "     \"ElectedMemberNo\", \"ElectedSenatorNo\", \"FirstNations\"]]\n",
    "ministers_occupations = aph_df[[\"PHID\", \"Occupations\"]].explode(\"Occupations\")\n",
    "ministers_secondary_occupations = aph_df[[\"PHID\", \"SecondaryOccupations\"]].explode(\"SecondaryOccupations\")\n",
    "ministers_qualifications = aph_df[[\"PHID\", \"Qualifications\"]].explode(\"Qualifications\")"
   ],
   "metadata": {
    "collapsed": false
   }
  },
  {
   "cell_type": "code",
   "execution_count": 10,
   "outputs": [
    {
     "data": {
      "text/plain": "361"
     },
     "execution_count": 10,
     "metadata": {},
     "output_type": "execute_result"
    }
   ],
   "source": [
    "# Write data to gpkg\n",
    "db_con = sqlite3.connect(gpkg)\n",
    "ministers_table.to_sql(\"ministers_aph\", db_con, if_exists=\"replace\")\n",
    "ministers_occupations.dropna().to_sql(\"ministers_occupations\", db_con, if_exists=\"replace\", index_label=\"fid\")\n",
    "ministers_secondary_occupations.dropna().to_sql(\"ministers_secondary_occupations\", db_con, if_exists=\"replace\",\n",
    "                                                index_label=\"fid\")\n",
    "ministers_qualifications.dropna().to_sql(\"ministers_secondary_qualifications\", db_con, if_exists=\"replace\",\n",
    "                                         index_label=\"fid\")\n",
    "aph_df.to_parquet(data_dir / \"aph_all.parquet\")"
   ],
   "metadata": {
    "collapsed": false
   }
  },
  {
   "cell_type": "code",
   "execution_count": 1,
   "outputs": [],
   "source": [
    "import pandas as pd\n",
    "\n",
    "import pathlib\n",
    "import geopandas as gpd\n",
    "\n",
    "data_dir = pathlib.Path(\"..\").resolve() / \"data\"\n",
    "gpkg = str(data_dir / \"ppm.gpkg\")\n",
    "\n",
    "aus_schools = gpd.read_file(data_dir / \"school-location-2022.csv\")\n",
    "aus_schools[\"geometry\"] = gpd.points_from_xy(aus_schools.Longitude, aus_schools.Latitude)\n",
    "aus_schools.set_crs(\"EPSG:4326\", inplace=True)\n",
    "df = gpd.read_file(gpkg, layer=\"education\")\n",
    "df.set_crs(\"EPSG:4326\", inplace=True)\n",
    "aus_schools = aus_schools[aus_schools[\"School Type\"].isin([\"Secondary\", \"Combined\"])]"
   ],
   "metadata": {
    "collapsed": false
   }
  },
  {
   "cell_type": "code",
   "execution_count": 34,
   "outputs": [
    {
     "name": "stderr",
     "output_type": "stream",
     "text": [
      "/home/cam/.cache/pypoetry/virtualenvs/pollypedagogymap-NEXWE1VB-py3.10/lib/python3.10/site-packages/geopandas/geodataframe.py:1443: SettingWithCopyWarning: \n",
      "A value is trying to be set on a copy of a slice from a DataFrame.\n",
      "Try using .loc[row_indexer,col_indexer] = value instead\n",
      "\n",
      "See the caveats in the documentation: https://pandas.pydata.org/pandas-docs/stable/user_guide/indexing.html#returning-a-view-versus-a-copy\n",
      "  super().__setitem__(key, value)\n",
      "/home/cam/.cache/pypoetry/virtualenvs/pollypedagogymap-NEXWE1VB-py3.10/lib/python3.10/site-packages/geopandas/geodataframe.py:393: SettingWithCopyWarning: \n",
      "A value is trying to be set on a copy of a slice from a DataFrame\n",
      "\n",
      "See the caveats in the documentation: https://pandas.pydata.org/pandas-docs/stable/user_guide/indexing.html#returning-a-view-versus-a-copy\n",
      "  self.rename(columns={geometry_col: col}, inplace=inplace)\n",
      "/home/cam/.cache/pypoetry/virtualenvs/pollypedagogymap-NEXWE1VB-py3.10/lib/python3.10/site-packages/geopandas/geodataframe.py:1443: SettingWithCopyWarning: \n",
      "A value is trying to be set on a copy of a slice from a DataFrame.\n",
      "Try using .loc[row_indexer,col_indexer] = value instead\n",
      "\n",
      "See the caveats in the documentation: https://pandas.pydata.org/pandas-docs/stable/user_guide/indexing.html#returning-a-view-versus-a-copy\n",
      "  super().__setitem__(key, value)\n"
     ]
    }
   ],
   "source": [
    "merged = pd.merge(df, aus_schools, how=\"inner\", left_on=df.school_name, right_on=aus_schools[\"School Name\"])\n",
    "matched_schools = merged[merged.geometry_x.buffer(0.01).intersects(merged.geometry_y)]\n",
    "cleaned_matched_schools = matched_schools[\n",
    "    [\"school_name\", \"school_link\", \"operational_status\", \"ACARA SML ID\", \"Suburb\", \"State\", \"Postcode\", \"School Sector\",\n",
    "     \"School Type\", \"ABS Remoteness Area\", \"ABS Remoteness Area Name\", \"Meshblock\", \"Statistical Area 1\",\n",
    "     \"Statistical Area 2\", \"Statistical Area 2 Name\", \"Statistical Area 3\", \"Statistical Area 3 Name\",\n",
    "     \"Statistical Area 4\", \"Statistical Area 4 Name\", \"Local Government Area\", \"Local Government Area Name\",\n",
    "     \"State Electoral Division\", \"State Electoral Division Name\", \"Commonwealth Electoral Division\",\n",
    "     \"Commonwealth Electoral Division Name\", \"geometry_x\"]]\n",
    "cleaned_matched_schools.set_geometry(\"geometry_x\", inplace=True)\n",
    "cleaned_matched_schools.rename_geometry(\"geometry\", inplace=True)\n",
    "cleaned_matched_schools.to_file(str(data_dir / \"ppm.gpkg\"), layer='secondary_schools', driver=\"GPKG\", )"
   ],
   "metadata": {
    "collapsed": false
   }
  },
  {
   "cell_type": "code",
   "execution_count": 2,
   "outputs": [
    {
     "ename": "AttributeError",
     "evalue": "You are calling a geospatial method on the GeoDataFrame, but the active geometry column ('geometry') is not present. \nThere are columns with geometry data type (['geometry_x', 'geometry_y']), and you can either set one as the active geometry with df.set_geometry(\"name\") or access the column as a GeoSeries (df[\"name\"]) and call the method directly on it.",
     "output_type": "error",
     "traceback": [
      "\u001B[0;31m---------------------------------------------------------------------------\u001B[0m",
      "\u001B[0;31mAttributeError\u001B[0m                            Traceback (most recent call last)",
      "Cell \u001B[0;32mIn[2], line 5\u001B[0m\n\u001B[1;32m      3\u001B[0m matched_dist \u001B[38;5;241m=\u001B[39m df_repoj\u001B[38;5;241m.\u001B[39msjoin_nearest(aus_schools_reproj, how\u001B[38;5;241m=\u001B[39m\u001B[38;5;124m\"\u001B[39m\u001B[38;5;124mleft\u001B[39m\u001B[38;5;124m\"\u001B[39m, max_distance\u001B[38;5;241m=\u001B[39m\u001B[38;5;241m1000\u001B[39m)\n\u001B[1;32m      4\u001B[0m merged \u001B[38;5;241m=\u001B[39m pd\u001B[38;5;241m.\u001B[39mmerge(df, aus_schools, how\u001B[38;5;241m=\u001B[39m\u001B[38;5;124m\"\u001B[39m\u001B[38;5;124minner\u001B[39m\u001B[38;5;124m\"\u001B[39m, left_on\u001B[38;5;241m=\u001B[39mdf\u001B[38;5;241m.\u001B[39mschool_name, right_on\u001B[38;5;241m=\u001B[39maus_schools[\u001B[38;5;124m\"\u001B[39m\u001B[38;5;124mSchool Name\u001B[39m\u001B[38;5;124m\"\u001B[39m])\n\u001B[0;32m----> 5\u001B[0m \u001B[43mmerged\u001B[49m\u001B[38;5;241;43m.\u001B[39;49m\u001B[43mset_crs\u001B[49m\u001B[43m(\u001B[49m\u001B[38;5;124;43m\"\u001B[39;49m\u001B[38;5;124;43mEPSG:4326\u001B[39;49m\u001B[38;5;124;43m\"\u001B[39;49m\u001B[43m)\u001B[49m\u001B[38;5;241m.\u001B[39mto_crs(\u001B[38;5;124m\"\u001B[39m\u001B[38;5;124mEPSG:9473\u001B[39m\u001B[38;5;124m\"\u001B[39m)\n",
      "File \u001B[0;32m~/.cache/pypoetry/virtualenvs/pollypedagogymap-NEXWE1VB-py3.10/lib/python3.10/site-packages/geopandas/geodataframe.py:1279\u001B[0m, in \u001B[0;36mGeoDataFrame.set_crs\u001B[0;34m(self, crs, epsg, inplace, allow_override)\u001B[0m\n\u001B[1;32m   1277\u001B[0m \u001B[38;5;28;01melse\u001B[39;00m:\n\u001B[1;32m   1278\u001B[0m     df \u001B[38;5;241m=\u001B[39m \u001B[38;5;28mself\u001B[39m\n\u001B[0;32m-> 1279\u001B[0m df\u001B[38;5;241m.\u001B[39mgeometry \u001B[38;5;241m=\u001B[39m \u001B[43mdf\u001B[49m\u001B[38;5;241;43m.\u001B[39;49m\u001B[43mgeometry\u001B[49m\u001B[38;5;241m.\u001B[39mset_crs(\n\u001B[1;32m   1280\u001B[0m     crs\u001B[38;5;241m=\u001B[39mcrs, epsg\u001B[38;5;241m=\u001B[39mepsg, allow_override\u001B[38;5;241m=\u001B[39mallow_override, inplace\u001B[38;5;241m=\u001B[39m\u001B[38;5;28;01mTrue\u001B[39;00m\n\u001B[1;32m   1281\u001B[0m )\n\u001B[1;32m   1282\u001B[0m \u001B[38;5;28;01mreturn\u001B[39;00m df\n",
      "File \u001B[0;32m~/.cache/pypoetry/virtualenvs/pollypedagogymap-NEXWE1VB-py3.10/lib/python3.10/site-packages/pandas/core/generic.py:5902\u001B[0m, in \u001B[0;36mNDFrame.__getattr__\u001B[0;34m(self, name)\u001B[0m\n\u001B[1;32m   5895\u001B[0m \u001B[38;5;28;01mif\u001B[39;00m (\n\u001B[1;32m   5896\u001B[0m     name \u001B[38;5;129;01mnot\u001B[39;00m \u001B[38;5;129;01min\u001B[39;00m \u001B[38;5;28mself\u001B[39m\u001B[38;5;241m.\u001B[39m_internal_names_set\n\u001B[1;32m   5897\u001B[0m     \u001B[38;5;129;01mand\u001B[39;00m name \u001B[38;5;129;01mnot\u001B[39;00m \u001B[38;5;129;01min\u001B[39;00m \u001B[38;5;28mself\u001B[39m\u001B[38;5;241m.\u001B[39m_metadata\n\u001B[1;32m   5898\u001B[0m     \u001B[38;5;129;01mand\u001B[39;00m name \u001B[38;5;129;01mnot\u001B[39;00m \u001B[38;5;129;01min\u001B[39;00m \u001B[38;5;28mself\u001B[39m\u001B[38;5;241m.\u001B[39m_accessors\n\u001B[1;32m   5899\u001B[0m     \u001B[38;5;129;01mand\u001B[39;00m \u001B[38;5;28mself\u001B[39m\u001B[38;5;241m.\u001B[39m_info_axis\u001B[38;5;241m.\u001B[39m_can_hold_identifiers_and_holds_name(name)\n\u001B[1;32m   5900\u001B[0m ):\n\u001B[1;32m   5901\u001B[0m     \u001B[38;5;28;01mreturn\u001B[39;00m \u001B[38;5;28mself\u001B[39m[name]\n\u001B[0;32m-> 5902\u001B[0m \u001B[38;5;28;01mreturn\u001B[39;00m \u001B[38;5;28;43mobject\u001B[39;49m\u001B[38;5;241;43m.\u001B[39;49m\u001B[38;5;21;43m__getattribute__\u001B[39;49m\u001B[43m(\u001B[49m\u001B[38;5;28;43mself\u001B[39;49m\u001B[43m,\u001B[49m\u001B[43m \u001B[49m\u001B[43mname\u001B[49m\u001B[43m)\u001B[49m\n",
      "File \u001B[0;32m~/.cache/pypoetry/virtualenvs/pollypedagogymap-NEXWE1VB-py3.10/lib/python3.10/site-packages/geopandas/geodataframe.py:232\u001B[0m, in \u001B[0;36mGeoDataFrame._get_geometry\u001B[0;34m(self)\u001B[0m\n\u001B[1;32m    225\u001B[0m     \u001B[38;5;28;01melse\u001B[39;00m:\n\u001B[1;32m    226\u001B[0m         msg \u001B[38;5;241m+\u001B[39m\u001B[38;5;241m=\u001B[39m (\n\u001B[1;32m    227\u001B[0m             \u001B[38;5;124m\"\u001B[39m\u001B[38;5;130;01m\\n\u001B[39;00m\u001B[38;5;124mThere are no existing columns with geometry data type. You can \u001B[39m\u001B[38;5;124m\"\u001B[39m\n\u001B[1;32m    228\u001B[0m             \u001B[38;5;124m\"\u001B[39m\u001B[38;5;124madd a geometry column as the active geometry column with \u001B[39m\u001B[38;5;124m\"\u001B[39m\n\u001B[1;32m    229\u001B[0m             \u001B[38;5;124m\"\u001B[39m\u001B[38;5;124mdf.set_geometry. \u001B[39m\u001B[38;5;124m\"\u001B[39m\n\u001B[1;32m    230\u001B[0m         )\n\u001B[0;32m--> 232\u001B[0m     \u001B[38;5;28;01mraise\u001B[39;00m \u001B[38;5;167;01mAttributeError\u001B[39;00m(msg)\n\u001B[1;32m    233\u001B[0m \u001B[38;5;28;01mreturn\u001B[39;00m \u001B[38;5;28mself\u001B[39m[\u001B[38;5;28mself\u001B[39m\u001B[38;5;241m.\u001B[39m_geometry_column_name]\n",
      "\u001B[0;31mAttributeError\u001B[0m: You are calling a geospatial method on the GeoDataFrame, but the active geometry column ('geometry') is not present. \nThere are columns with geometry data type (['geometry_x', 'geometry_y']), and you can either set one as the active geometry with df.set_geometry(\"name\") or access the column as a GeoSeries (df[\"name\"]) and call the method directly on it."
     ]
    }
   ],
   "source": [
    "aus_schools_reproj = aus_schools.to_crs(\"EPSG:9473\")\n",
    "df_repoj = df[df.is_high_school > 0].to_crs(\"EPSG:9473\")\n",
    "matched_dist = df_repoj.sjoin_nearest(aus_schools_reproj, how=\"left\", max_distance=1000)\n",
    "merged = pd.merge(df, aus_schools, how=\"inner\", left_on=df.school_name, right_on=aus_schools[\"School Name\"])\n",
    "merged.set_crs(\"EPSG:4326\").to_crs(\"EPSG:9473\")"
   ],
   "metadata": {
    "collapsed": false
   }
  },
  {
   "cell_type": "code",
   "execution_count": 26,
   "outputs": [
    {
     "data": {
      "text/plain": "     ogc_fid                         school_name  \\\n1        2.0              Mazenod College, Perth   \n3        4.0      Anglican Church Grammar School   \n4        5.0                     Aquinas College   \n5        6.0         Armadale Senior High School   \n5        6.0         Armadale Senior High School   \n..       ...                                 ...   \n276    198.0  Victorian School of Correspondence   \n277    217.0       Westfields Sports High School   \n278    183.0       Wilson Park Secondary College   \n279    186.0                 Wynyard High School   \n280    239.0           York District High School   \n\n                                 school_link  is_university  is_high_school  \\\n1    http://www.wikidata.org/entity/Q1914698              0               1   \n3    http://www.wikidata.org/entity/Q4763439              0               1   \n4    http://www.wikidata.org/entity/Q4782971              0               1   \n5    http://www.wikidata.org/entity/Q4792525              0               1   \n5    http://www.wikidata.org/entity/Q4792525              0               1   \n..                                       ...            ...             ...   \n276      http://www.wikidata.org/entity/None              0               1   \n277  http://www.wikidata.org/entity/Q7988785              0               1   \n278   https://www.wikidata.org/wiki/Q7604726              0               1   \n279   http://www.wikidata.org/entity/Q916063              0               1   \n280      http://www.wikidata.org/entity/None              0               1   \n\n     is_alt_edu operational_status                                 wkt  \\\n1             0                NaN             Point(116.039 -32.0067)   \n3             0                NaN             Point(153.054 -27.4819)   \n4             0                NaN  Point(145.235555555 -37.823055555)   \n5             0                NaN             Point(116.015 -32.1617)   \n5             0                NaN             Point(116.015 -32.1617)   \n..          ...                ...                                 ...   \n276           0                NaN      Point(143.3906074 -36.9847807)   \n277           0                NaN       Point(150.9199898 -33.867973)   \n278           0        amalgamated        Point(144.574444 -37.708333)   \n279           0                NaN      Point(145.7169952 -40.9868049)   \n280           0                NaN      Point(116.7601699 -31.8932228)   \n\n     is_public                           geometry  ...  Statistical Area 3  \\\n1          NaN  POINT (-1490830.304 -3581328.902)  ...               50605   \n3          NaN   POINT (2045962.495 -3149848.066)  ...               30502   \n4          NaN   POINT (1170372.722 -4195626.036)  ...               21103   \n5          NaN  POINT (-1490896.410 -3598813.109)  ...               50601   \n5          NaN  POINT (-1490896.410 -3598813.109)  ...               50601   \n..         ...                                ...  ...                 ...   \n276        NaN   POINT (1015944.306 -4087658.653)  ...                 NaN   \n277        NaN   POINT (1734669.468 -3824698.788)  ...               12702   \n278        NaN   POINT (1113350.803 -4177123.446)  ...               21304   \n279        NaN   POINT (1175621.137 -4544906.794)  ...               60401   \n280        NaN  POINT (-1425308.127 -3560495.993)  ...               50902   \n\n    Statistical Area 3 Name Statistical Area 4  \\\n1                 Kalamunda                506   \n3     Brisbane Inner - East                305   \n4                 Maroondah                211   \n5                  Armadale                506   \n5                  Armadale                506   \n..                      ...                ...   \n276                     NaN                NaN   \n277               Fairfield                127   \n278  Melton - Bacchus Marsh                213   \n279     Burnie - Ulverstone                604   \n280      Wheat Belt - North                509   \n\n            Statistical Area 4 Name Local Government Area  \\\n1                Perth - South East                 54200   \n3               Brisbane Inner City                 31000   \n4            Melbourne - Outer East                 24410   \n5                Perth - South East                 50210   \n5                Perth - South East                 50210   \n..                              ...                   ...   \n276                             NaN                   NaN   \n277             Sydney - South West                 12850   \n278                Melbourne - West                 24650   \n279             West and North West                 65410   \n280  Western Australia - Wheat Belt                 59370   \n\n    Local Government Area Name State Electoral Division  \\\n1                    Kalamunda                    52702   \n3                     Brisbane                    30076   \n4                    Maroondah                    27101   \n5                     Armadale                    50202   \n5                     Armadale                    50202   \n..                         ...                      ...   \n276                        NaN                      NaN   \n277                  Fairfield                    10029   \n278                     Melton                    24808   \n279            Waratah-Wynyard                    60209   \n280                       York                    51401   \n\n        State Electoral Division Name Commonwealth Electoral Division  \\\n1       Kalamunda (East Metropolitan)                             509   \n3                      South Brisbane                             313   \n4     Ringwood (Eastern Metropolitan)                             211   \n5        Armadale (East Metropolitan)                             502   \n5        Armadale (East Metropolitan)                             502   \n..                                ...                             ...   \n276                               NaN                             NaN   \n277                         Fairfield                             128   \n278         Melton (Western Victoria)                             218   \n279               Braddon (Murchison)                             602   \n280  Central Wheatbelt (Agricultural)                             512   \n\n    Commonwealth Electoral Division Name  \n1                                Hasluck  \n3                               Griffith  \n4                                 Deakin  \n5                                   Burt  \n5                                   Burt  \n..                                   ...  \n276                                  NaN  \n277                              McMahon  \n278                               Gorton  \n279                              Braddon  \n280                               Pearce  \n\n[218 rows x 41 columns]",
      "text/html": "<div>\n<style scoped>\n    .dataframe tbody tr th:only-of-type {\n        vertical-align: middle;\n    }\n\n    .dataframe tbody tr th {\n        vertical-align: top;\n    }\n\n    .dataframe thead th {\n        text-align: right;\n    }\n</style>\n<table border=\"1\" class=\"dataframe\">\n  <thead>\n    <tr style=\"text-align: right;\">\n      <th></th>\n      <th>ogc_fid</th>\n      <th>school_name</th>\n      <th>school_link</th>\n      <th>is_university</th>\n      <th>is_high_school</th>\n      <th>is_alt_edu</th>\n      <th>operational_status</th>\n      <th>wkt</th>\n      <th>is_public</th>\n      <th>geometry</th>\n      <th>...</th>\n      <th>Statistical Area 3</th>\n      <th>Statistical Area 3 Name</th>\n      <th>Statistical Area 4</th>\n      <th>Statistical Area 4 Name</th>\n      <th>Local Government Area</th>\n      <th>Local Government Area Name</th>\n      <th>State Electoral Division</th>\n      <th>State Electoral Division Name</th>\n      <th>Commonwealth Electoral Division</th>\n      <th>Commonwealth Electoral Division Name</th>\n    </tr>\n  </thead>\n  <tbody>\n    <tr>\n      <th>1</th>\n      <td>2.0</td>\n      <td>Mazenod College, Perth</td>\n      <td>http://www.wikidata.org/entity/Q1914698</td>\n      <td>0</td>\n      <td>1</td>\n      <td>0</td>\n      <td>NaN</td>\n      <td>Point(116.039 -32.0067)</td>\n      <td>NaN</td>\n      <td>POINT (-1490830.304 -3581328.902)</td>\n      <td>...</td>\n      <td>50605</td>\n      <td>Kalamunda</td>\n      <td>506</td>\n      <td>Perth - South East</td>\n      <td>54200</td>\n      <td>Kalamunda</td>\n      <td>52702</td>\n      <td>Kalamunda (East Metropolitan)</td>\n      <td>509</td>\n      <td>Hasluck</td>\n    </tr>\n    <tr>\n      <th>3</th>\n      <td>4.0</td>\n      <td>Anglican Church Grammar School</td>\n      <td>http://www.wikidata.org/entity/Q4763439</td>\n      <td>0</td>\n      <td>1</td>\n      <td>0</td>\n      <td>NaN</td>\n      <td>Point(153.054 -27.4819)</td>\n      <td>NaN</td>\n      <td>POINT (2045962.495 -3149848.066)</td>\n      <td>...</td>\n      <td>30502</td>\n      <td>Brisbane Inner - East</td>\n      <td>305</td>\n      <td>Brisbane Inner City</td>\n      <td>31000</td>\n      <td>Brisbane</td>\n      <td>30076</td>\n      <td>South Brisbane</td>\n      <td>313</td>\n      <td>Griffith</td>\n    </tr>\n    <tr>\n      <th>4</th>\n      <td>5.0</td>\n      <td>Aquinas College</td>\n      <td>http://www.wikidata.org/entity/Q4782971</td>\n      <td>0</td>\n      <td>1</td>\n      <td>0</td>\n      <td>NaN</td>\n      <td>Point(145.235555555 -37.823055555)</td>\n      <td>NaN</td>\n      <td>POINT (1170372.722 -4195626.036)</td>\n      <td>...</td>\n      <td>21103</td>\n      <td>Maroondah</td>\n      <td>211</td>\n      <td>Melbourne - Outer East</td>\n      <td>24410</td>\n      <td>Maroondah</td>\n      <td>27101</td>\n      <td>Ringwood (Eastern Metropolitan)</td>\n      <td>211</td>\n      <td>Deakin</td>\n    </tr>\n    <tr>\n      <th>5</th>\n      <td>6.0</td>\n      <td>Armadale Senior High School</td>\n      <td>http://www.wikidata.org/entity/Q4792525</td>\n      <td>0</td>\n      <td>1</td>\n      <td>0</td>\n      <td>NaN</td>\n      <td>Point(116.015 -32.1617)</td>\n      <td>NaN</td>\n      <td>POINT (-1490896.410 -3598813.109)</td>\n      <td>...</td>\n      <td>50601</td>\n      <td>Armadale</td>\n      <td>506</td>\n      <td>Perth - South East</td>\n      <td>50210</td>\n      <td>Armadale</td>\n      <td>50202</td>\n      <td>Armadale (East Metropolitan)</td>\n      <td>502</td>\n      <td>Burt</td>\n    </tr>\n    <tr>\n      <th>5</th>\n      <td>6.0</td>\n      <td>Armadale Senior High School</td>\n      <td>http://www.wikidata.org/entity/Q4792525</td>\n      <td>0</td>\n      <td>1</td>\n      <td>0</td>\n      <td>NaN</td>\n      <td>Point(116.015 -32.1617)</td>\n      <td>NaN</td>\n      <td>POINT (-1490896.410 -3598813.109)</td>\n      <td>...</td>\n      <td>50601</td>\n      <td>Armadale</td>\n      <td>506</td>\n      <td>Perth - South East</td>\n      <td>50210</td>\n      <td>Armadale</td>\n      <td>50202</td>\n      <td>Armadale (East Metropolitan)</td>\n      <td>502</td>\n      <td>Burt</td>\n    </tr>\n    <tr>\n      <th>...</th>\n      <td>...</td>\n      <td>...</td>\n      <td>...</td>\n      <td>...</td>\n      <td>...</td>\n      <td>...</td>\n      <td>...</td>\n      <td>...</td>\n      <td>...</td>\n      <td>...</td>\n      <td>...</td>\n      <td>...</td>\n      <td>...</td>\n      <td>...</td>\n      <td>...</td>\n      <td>...</td>\n      <td>...</td>\n      <td>...</td>\n      <td>...</td>\n      <td>...</td>\n      <td>...</td>\n    </tr>\n    <tr>\n      <th>276</th>\n      <td>198.0</td>\n      <td>Victorian School of Correspondence</td>\n      <td>http://www.wikidata.org/entity/None</td>\n      <td>0</td>\n      <td>1</td>\n      <td>0</td>\n      <td>NaN</td>\n      <td>Point(143.3906074 -36.9847807)</td>\n      <td>NaN</td>\n      <td>POINT (1015944.306 -4087658.653)</td>\n      <td>...</td>\n      <td>NaN</td>\n      <td>NaN</td>\n      <td>NaN</td>\n      <td>NaN</td>\n      <td>NaN</td>\n      <td>NaN</td>\n      <td>NaN</td>\n      <td>NaN</td>\n      <td>NaN</td>\n      <td>NaN</td>\n    </tr>\n    <tr>\n      <th>277</th>\n      <td>217.0</td>\n      <td>Westfields Sports High School</td>\n      <td>http://www.wikidata.org/entity/Q7988785</td>\n      <td>0</td>\n      <td>1</td>\n      <td>0</td>\n      <td>NaN</td>\n      <td>Point(150.9199898 -33.867973)</td>\n      <td>NaN</td>\n      <td>POINT (1734669.468 -3824698.788)</td>\n      <td>...</td>\n      <td>12702</td>\n      <td>Fairfield</td>\n      <td>127</td>\n      <td>Sydney - South West</td>\n      <td>12850</td>\n      <td>Fairfield</td>\n      <td>10029</td>\n      <td>Fairfield</td>\n      <td>128</td>\n      <td>McMahon</td>\n    </tr>\n    <tr>\n      <th>278</th>\n      <td>183.0</td>\n      <td>Wilson Park Secondary College</td>\n      <td>https://www.wikidata.org/wiki/Q7604726</td>\n      <td>0</td>\n      <td>1</td>\n      <td>0</td>\n      <td>amalgamated</td>\n      <td>Point(144.574444 -37.708333)</td>\n      <td>NaN</td>\n      <td>POINT (1113350.803 -4177123.446)</td>\n      <td>...</td>\n      <td>21304</td>\n      <td>Melton - Bacchus Marsh</td>\n      <td>213</td>\n      <td>Melbourne - West</td>\n      <td>24650</td>\n      <td>Melton</td>\n      <td>24808</td>\n      <td>Melton (Western Victoria)</td>\n      <td>218</td>\n      <td>Gorton</td>\n    </tr>\n    <tr>\n      <th>279</th>\n      <td>186.0</td>\n      <td>Wynyard High School</td>\n      <td>http://www.wikidata.org/entity/Q916063</td>\n      <td>0</td>\n      <td>1</td>\n      <td>0</td>\n      <td>NaN</td>\n      <td>Point(145.7169952 -40.9868049)</td>\n      <td>NaN</td>\n      <td>POINT (1175621.137 -4544906.794)</td>\n      <td>...</td>\n      <td>60401</td>\n      <td>Burnie - Ulverstone</td>\n      <td>604</td>\n      <td>West and North West</td>\n      <td>65410</td>\n      <td>Waratah-Wynyard</td>\n      <td>60209</td>\n      <td>Braddon (Murchison)</td>\n      <td>602</td>\n      <td>Braddon</td>\n    </tr>\n    <tr>\n      <th>280</th>\n      <td>239.0</td>\n      <td>York District High School</td>\n      <td>http://www.wikidata.org/entity/None</td>\n      <td>0</td>\n      <td>1</td>\n      <td>0</td>\n      <td>NaN</td>\n      <td>Point(116.7601699 -31.8932228)</td>\n      <td>NaN</td>\n      <td>POINT (-1425308.127 -3560495.993)</td>\n      <td>...</td>\n      <td>50902</td>\n      <td>Wheat Belt - North</td>\n      <td>509</td>\n      <td>Western Australia - Wheat Belt</td>\n      <td>59370</td>\n      <td>York</td>\n      <td>51401</td>\n      <td>Central Wheatbelt (Agricultural)</td>\n      <td>512</td>\n      <td>Pearce</td>\n    </tr>\n  </tbody>\n</table>\n<p>218 rows × 41 columns</p>\n</div>"
     },
     "execution_count": 26,
     "metadata": {},
     "output_type": "execute_result"
    }
   ],
   "source": [
    "matched_dist"
   ],
   "metadata": {
    "collapsed": false
   }
  },
  {
   "cell_type": "code",
   "execution_count": 3,
   "outputs": [],
   "source": [
    "from thefuzz import fuzz\n",
    "\n",
    "\n",
    "def calc_dist(x):\n",
    "    if isinstance(x[\"School Name\"], str) and isinstance(x[\"school_name\"], str):\n",
    "        s1, s2 = x[\"school_name\"], x[\"School Name\"]\n",
    "        return fuzz.ratio(s1, s2)\n",
    "    return 0\n",
    "\n",
    "\n",
    "matched_dist[\"school_name_str_match\"] = matched_dist.apply(calc_dist, axis=1)\n",
    "merged[\"school_name_str_match\"] = merged.apply(calc_dist, axis=1)"
   ],
   "metadata": {
    "collapsed": false
   }
  },
  {
   "cell_type": "code",
   "execution_count": 4,
   "outputs": [
    {
     "name": "stderr",
     "output_type": "stream",
     "text": [
      "/home/cam/.cache/pypoetry/virtualenvs/pollypedagogymap-NEXWE1VB-py3.10/lib/python3.10/site-packages/geopandas/array.py:1406: UserWarning: CRS not set for some of the concatenation inputs. Setting output's CRS as GDA2020 / Australian Albers (the single non-null crs provided).\n",
      "  warnings.warn(\n",
      "/home/cam/.cache/pypoetry/virtualenvs/pollypedagogymap-NEXWE1VB-py3.10/lib/python3.10/site-packages/geopandas/array.py:1406: UserWarning: CRS not set for some of the concatenation inputs. Setting output's CRS as WGS 84 (the single non-null crs provided).\n",
      "  warnings.warn(\n"
     ]
    }
   ],
   "source": [
    "all_merged = pd.concat([matched_dist, merged])"
   ],
   "metadata": {
    "collapsed": false
   }
  },
  {
   "cell_type": "code",
   "execution_count": 5,
   "outputs": [],
   "source": [
    "all_merged_deduped =  all_merged.sort_values(\"school_name_str_match\").drop_duplicates(\"school_name\", keep=\"last\")"
   ],
   "metadata": {
    "collapsed": false
   }
  },
  {
   "cell_type": "code",
   "execution_count": 13,
   "outputs": [
    {
     "data": {
      "text/plain": "     ogc_fid                             school_name  \\\n232    219.0  Harvey Agricultural Senior High School   \n230    201.0                   Greythorn High School   \n203      NaN                 Boronia Heights College   \n138    141.0                       St. Paul's School   \n267    231.0                    St Andrew Muar Johor   \n133    136.0                     Norwood High School   \n271    190.0                  Swanbourne High School   \n78      81.0                     Enfield High School   \n276    198.0      Victorian School of Correspondence   \n237    244.0             Kambalda Senior High School   \n\n                                  school_link  is_university  is_high_school  \\\n232                                       NaN              0               1   \n230   http://www.wikidata.org/entity/Q5608510              0               1   \n203   http://www.wikidata.org/entity/Q4946270              0               1   \n138   http://www.wikidata.org/entity/Q7595174              0               1   \n267       http://www.wikidata.org/entity/None              0               1   \n133  http://www.wikidata.org/entity/Q62516299              0               1   \n271       http://www.wikidata.org/entity/None              0               1   \n78    http://www.wikidata.org/entity/Q5377304              0               1   \n276       http://www.wikidata.org/entity/None              0               1   \n237                                       NaN              0               1   \n\n     is_alt_edu operational_status                                     wkt  \\\n232           0                NaN          Point(115.8772958 -33.1340183)   \n230           0                NaN                 Point(145.096 -37.8017)   \n203           0        amalgamated                Point(145.300833 -37.86)   \n138           0                NaN               Point(121.52749 25.02591)   \n267           0                NaN              Point(102.5729627 2.05415)   \n133           0                NaN                 Point(144.961 -37.8014)   \n271           0                NaN            Point(115.76678 -31.9711404)   \n78            0             closed  Point(138.6044383 -34.849003347396675)   \n276           0                NaN          Point(143.3906074 -36.9847807)   \n237           0                NaN            Point(121.662514 -31.201572)   \n\n     is_public                           geometry  ...  Local Government Area  \\\n232        NaN  POINT (-1489993.022 -3708241.967)  ...                    NaN   \n230        1.0   POINT (1158316.899 -4192010.732)  ...                    NaN   \n203        1.0                               None  ...                    NaN   \n138        NaN   POINT (-1453385.237 2238181.201)  ...                    NaN   \n267        NaN   POINT (-3575232.595 -205975.521)  ...                    NaN   \n133        NaN  POINT (17865737.514 -9060438.022)  ...                    NaN   \n271        NaN  POINT (-1516625.221 -3580586.069)  ...                    NaN   \n78         NaN    POINT (601825.541 -3820876.028)  ...                    NaN   \n276        NaN   POINT (1015944.306 -4087658.653)  ...                    NaN   \n237        NaN   POINT (-974312.928 -3437397.597)  ...                    NaN   \n\n    Local Government Area Name State Electoral Division  \\\n232                        NaN                      NaN   \n230                        NaN                      NaN   \n203                        NaN                      NaN   \n138                        NaN                      NaN   \n267                        NaN                      NaN   \n133                        NaN                      NaN   \n271                        NaN                      NaN   \n78                         NaN                      NaN   \n276                        NaN                      NaN   \n237                        NaN                      NaN   \n\n    State Electoral Division Name Commonwealth Electoral Division  \\\n232                           NaN                             NaN   \n230                           NaN                             NaN   \n203                           NaN                             NaN   \n138                           NaN                             NaN   \n267                           NaN                             NaN   \n133                           NaN                             NaN   \n271                           NaN                             NaN   \n78                            NaN                             NaN   \n276                           NaN                             NaN   \n237                           NaN                             NaN   \n\n    Commonwealth Electoral Division Name school_name_str_match key_0  \\\n232                                  NaN                     0   NaN   \n230                                  NaN                     0   NaN   \n203                                  NaN                     0   NaN   \n138                                  NaN                     0   NaN   \n267                                  NaN                     0   NaN   \n133                                  NaN                     0   NaN   \n271                                  NaN                     0   NaN   \n78                                   NaN                     0   NaN   \n276                                  NaN                     0   NaN   \n237                                  NaN                     0   NaN   \n\n    geometry_x geometry_y  \n232       None       None  \n230       None       None  \n203       None       None  \n138       None       None  \n267       None       None  \n133       None       None  \n271       None       None  \n78        None       None  \n276       None       None  \n237       None       None  \n\n[10 rows x 45 columns]",
      "text/html": "<div>\n<style scoped>\n    .dataframe tbody tr th:only-of-type {\n        vertical-align: middle;\n    }\n\n    .dataframe tbody tr th {\n        vertical-align: top;\n    }\n\n    .dataframe thead th {\n        text-align: right;\n    }\n</style>\n<table border=\"1\" class=\"dataframe\">\n  <thead>\n    <tr style=\"text-align: right;\">\n      <th></th>\n      <th>ogc_fid</th>\n      <th>school_name</th>\n      <th>school_link</th>\n      <th>is_university</th>\n      <th>is_high_school</th>\n      <th>is_alt_edu</th>\n      <th>operational_status</th>\n      <th>wkt</th>\n      <th>is_public</th>\n      <th>geometry</th>\n      <th>...</th>\n      <th>Local Government Area</th>\n      <th>Local Government Area Name</th>\n      <th>State Electoral Division</th>\n      <th>State Electoral Division Name</th>\n      <th>Commonwealth Electoral Division</th>\n      <th>Commonwealth Electoral Division Name</th>\n      <th>school_name_str_match</th>\n      <th>key_0</th>\n      <th>geometry_x</th>\n      <th>geometry_y</th>\n    </tr>\n  </thead>\n  <tbody>\n    <tr>\n      <th>232</th>\n      <td>219.0</td>\n      <td>Harvey Agricultural Senior High School</td>\n      <td>NaN</td>\n      <td>0</td>\n      <td>1</td>\n      <td>0</td>\n      <td>NaN</td>\n      <td>Point(115.8772958 -33.1340183)</td>\n      <td>NaN</td>\n      <td>POINT (-1489993.022 -3708241.967)</td>\n      <td>...</td>\n      <td>NaN</td>\n      <td>NaN</td>\n      <td>NaN</td>\n      <td>NaN</td>\n      <td>NaN</td>\n      <td>NaN</td>\n      <td>0</td>\n      <td>NaN</td>\n      <td>None</td>\n      <td>None</td>\n    </tr>\n    <tr>\n      <th>230</th>\n      <td>201.0</td>\n      <td>Greythorn High School</td>\n      <td>http://www.wikidata.org/entity/Q5608510</td>\n      <td>0</td>\n      <td>1</td>\n      <td>0</td>\n      <td>NaN</td>\n      <td>Point(145.096 -37.8017)</td>\n      <td>1.0</td>\n      <td>POINT (1158316.899 -4192010.732)</td>\n      <td>...</td>\n      <td>NaN</td>\n      <td>NaN</td>\n      <td>NaN</td>\n      <td>NaN</td>\n      <td>NaN</td>\n      <td>NaN</td>\n      <td>0</td>\n      <td>NaN</td>\n      <td>None</td>\n      <td>None</td>\n    </tr>\n    <tr>\n      <th>203</th>\n      <td>NaN</td>\n      <td>Boronia Heights College</td>\n      <td>http://www.wikidata.org/entity/Q4946270</td>\n      <td>0</td>\n      <td>1</td>\n      <td>0</td>\n      <td>amalgamated</td>\n      <td>Point(145.300833 -37.86)</td>\n      <td>1.0</td>\n      <td>None</td>\n      <td>...</td>\n      <td>NaN</td>\n      <td>NaN</td>\n      <td>NaN</td>\n      <td>NaN</td>\n      <td>NaN</td>\n      <td>NaN</td>\n      <td>0</td>\n      <td>NaN</td>\n      <td>None</td>\n      <td>None</td>\n    </tr>\n    <tr>\n      <th>138</th>\n      <td>141.0</td>\n      <td>St. Paul's School</td>\n      <td>http://www.wikidata.org/entity/Q7595174</td>\n      <td>0</td>\n      <td>1</td>\n      <td>0</td>\n      <td>NaN</td>\n      <td>Point(121.52749 25.02591)</td>\n      <td>NaN</td>\n      <td>POINT (-1453385.237 2238181.201)</td>\n      <td>...</td>\n      <td>NaN</td>\n      <td>NaN</td>\n      <td>NaN</td>\n      <td>NaN</td>\n      <td>NaN</td>\n      <td>NaN</td>\n      <td>0</td>\n      <td>NaN</td>\n      <td>None</td>\n      <td>None</td>\n    </tr>\n    <tr>\n      <th>267</th>\n      <td>231.0</td>\n      <td>St Andrew Muar Johor</td>\n      <td>http://www.wikidata.org/entity/None</td>\n      <td>0</td>\n      <td>1</td>\n      <td>0</td>\n      <td>NaN</td>\n      <td>Point(102.5729627 2.05415)</td>\n      <td>NaN</td>\n      <td>POINT (-3575232.595 -205975.521)</td>\n      <td>...</td>\n      <td>NaN</td>\n      <td>NaN</td>\n      <td>NaN</td>\n      <td>NaN</td>\n      <td>NaN</td>\n      <td>NaN</td>\n      <td>0</td>\n      <td>NaN</td>\n      <td>None</td>\n      <td>None</td>\n    </tr>\n    <tr>\n      <th>133</th>\n      <td>136.0</td>\n      <td>Norwood High School</td>\n      <td>http://www.wikidata.org/entity/Q62516299</td>\n      <td>0</td>\n      <td>1</td>\n      <td>0</td>\n      <td>NaN</td>\n      <td>Point(144.961 -37.8014)</td>\n      <td>NaN</td>\n      <td>POINT (17865737.514 -9060438.022)</td>\n      <td>...</td>\n      <td>NaN</td>\n      <td>NaN</td>\n      <td>NaN</td>\n      <td>NaN</td>\n      <td>NaN</td>\n      <td>NaN</td>\n      <td>0</td>\n      <td>NaN</td>\n      <td>None</td>\n      <td>None</td>\n    </tr>\n    <tr>\n      <th>271</th>\n      <td>190.0</td>\n      <td>Swanbourne High School</td>\n      <td>http://www.wikidata.org/entity/None</td>\n      <td>0</td>\n      <td>1</td>\n      <td>0</td>\n      <td>NaN</td>\n      <td>Point(115.76678 -31.9711404)</td>\n      <td>NaN</td>\n      <td>POINT (-1516625.221 -3580586.069)</td>\n      <td>...</td>\n      <td>NaN</td>\n      <td>NaN</td>\n      <td>NaN</td>\n      <td>NaN</td>\n      <td>NaN</td>\n      <td>NaN</td>\n      <td>0</td>\n      <td>NaN</td>\n      <td>None</td>\n      <td>None</td>\n    </tr>\n    <tr>\n      <th>78</th>\n      <td>81.0</td>\n      <td>Enfield High School</td>\n      <td>http://www.wikidata.org/entity/Q5377304</td>\n      <td>0</td>\n      <td>1</td>\n      <td>0</td>\n      <td>closed</td>\n      <td>Point(138.6044383 -34.849003347396675)</td>\n      <td>NaN</td>\n      <td>POINT (601825.541 -3820876.028)</td>\n      <td>...</td>\n      <td>NaN</td>\n      <td>NaN</td>\n      <td>NaN</td>\n      <td>NaN</td>\n      <td>NaN</td>\n      <td>NaN</td>\n      <td>0</td>\n      <td>NaN</td>\n      <td>None</td>\n      <td>None</td>\n    </tr>\n    <tr>\n      <th>276</th>\n      <td>198.0</td>\n      <td>Victorian School of Correspondence</td>\n      <td>http://www.wikidata.org/entity/None</td>\n      <td>0</td>\n      <td>1</td>\n      <td>0</td>\n      <td>NaN</td>\n      <td>Point(143.3906074 -36.9847807)</td>\n      <td>NaN</td>\n      <td>POINT (1015944.306 -4087658.653)</td>\n      <td>...</td>\n      <td>NaN</td>\n      <td>NaN</td>\n      <td>NaN</td>\n      <td>NaN</td>\n      <td>NaN</td>\n      <td>NaN</td>\n      <td>0</td>\n      <td>NaN</td>\n      <td>None</td>\n      <td>None</td>\n    </tr>\n    <tr>\n      <th>237</th>\n      <td>244.0</td>\n      <td>Kambalda Senior High School</td>\n      <td>NaN</td>\n      <td>0</td>\n      <td>1</td>\n      <td>0</td>\n      <td>NaN</td>\n      <td>Point(121.662514 -31.201572)</td>\n      <td>NaN</td>\n      <td>POINT (-974312.928 -3437397.597)</td>\n      <td>...</td>\n      <td>NaN</td>\n      <td>NaN</td>\n      <td>NaN</td>\n      <td>NaN</td>\n      <td>NaN</td>\n      <td>NaN</td>\n      <td>0</td>\n      <td>NaN</td>\n      <td>None</td>\n      <td>None</td>\n    </tr>\n  </tbody>\n</table>\n<p>10 rows × 45 columns</p>\n</div>"
     },
     "execution_count": 13,
     "metadata": {},
     "output_type": "execute_result"
    }
   ],
   "source": [
    "all_merged_deduped[all_merged_deduped[\"ACARA SML ID\"].isna()]"
   ],
   "metadata": {
    "collapsed": false
   }
  },
  {
   "cell_type": "code",
   "execution_count": 6,
   "outputs": [
    {
     "data": {
      "text/plain": "     ogc_fid                             school_name  \\\n276    198.0      Victorian School of Correspondence   \n78      81.0                     Enfield High School   \n267    231.0                    St Andrew Muar Johor   \n230    201.0                   Greythorn High School   \n232    219.0  Harvey Agricultural Senior High School   \n..       ...                                     ...   \n206      NaN                 Marist Regional College   \n205      NaN             Clairvaux MacKillop College   \n204      NaN                Murwillumbah High School   \n214    237.0                    Adelaide High School   \n156    239.0               York District High School   \n\n                                 school_link  is_university  is_high_school  \\\n276      http://www.wikidata.org/entity/None              0               1   \n78   http://www.wikidata.org/entity/Q5377304              0               1   \n267      http://www.wikidata.org/entity/None              0               1   \n230  http://www.wikidata.org/entity/Q5608510              0               1   \n232                                      NaN              0               1   \n..                                       ...            ...             ...   \n206  http://www.wikidata.org/entity/Q6765687              0               1   \n205  http://www.wikidata.org/entity/Q5125395              0               1   \n204  http://www.wikidata.org/entity/Q6939835              0               1   \n214  http://www.wikidata.org/entity/Q4681726              0               1   \n156      http://www.wikidata.org/entity/None              0               1   \n\n     is_alt_edu operational_status                                     wkt  \\\n276           0                NaN          Point(143.3906074 -36.9847807)   \n78            0             closed  Point(138.6044383 -34.849003347396675)   \n267           0                NaN              Point(102.5729627 2.05415)   \n230           0             closed                 Point(145.096 -37.8017)   \n232           0                NaN            Point(115.913733 -33.129635)   \n..          ...                ...                                     ...   \n206           0                NaN            Point(145.886293 -41.048046)   \n205           0                NaN          Point(153.0783765 -27.5529882)   \n204           0                NaN          Point(153.3905989 -28.3346911)   \n214           0                NaN           Point(138.586967 -34.9255505)   \n156           0                NaN          Point(116.7601699 -31.8932228)   \n\n     is_public                           geometry  ...  Local Government Area  \\\n276        NaN   POINT (1015944.306 -4087658.653)  ...                    NaN   \n78         NaN    POINT (601825.541 -3820876.028)  ...                    NaN   \n267        NaN   POINT (-3575232.595 -205975.521)  ...                    NaN   \n230        1.0   POINT (1158316.899 -4192010.732)  ...                    NaN   \n232        NaN  POINT (-1489993.022 -3708241.967)  ...                    NaN   \n..         ...                                ...  ...                    ...   \n206        NaN   POINT (1189351.115 -4553098.855)  ...                  60610   \n205        0.0   POINT (2046999.966 -3158105.419)  ...                  31000   \n204        0.0   POINT (2062424.449 -3249614.559)  ...                  17550   \n214        1.0    POINT (599795.898 -3829300.774)  ...                  40070   \n156        NaN                               None  ...                  59370   \n\n    Local Government Area Name State Electoral Division  \\\n276                        NaN                      NaN   \n78                         NaN                      NaN   \n267                        NaN                      NaN   \n230                        NaN                      NaN   \n232                        NaN                      NaN   \n..                         ...                      ...   \n206                     Burnie                    60209   \n205                   Brisbane                    30049   \n204                      Tweed                    10045   \n214                   Adelaide                    40001   \n156                       York                    51401   \n\n        State Electoral Division Name Commonwealth Electoral Division  \\\n276                               NaN                             NaN   \n78                                NaN                             NaN   \n267                               NaN                             NaN   \n230                               NaN                             NaN   \n232                               NaN                             NaN   \n..                                ...                             ...   \n206               Braddon (Murchison)                             602   \n205                         Mansfield                             302   \n204                           Lismore                             138   \n214                          Adelaide                             401   \n156  Central Wheatbelt (Agricultural)                             512   \n\n    Commonwealth Electoral Division Name school_name_str_match  \\\n276                                  NaN                     0   \n78                                   NaN                     0   \n267                                  NaN                     0   \n230                                  NaN                     0   \n232                                  NaN                     0   \n..                                   ...                   ...   \n206                              Braddon                   100   \n205                               Bonner                   100   \n204                             Richmond                   100   \n214                             Adelaide                   100   \n156                               Pearce                   100   \n\n                         key_0                   geometry_x  \\\n276                        NaN                         None   \n78                         NaN                         None   \n267                        NaN                         None   \n230                        NaN                         None   \n232                        NaN                         None   \n..                         ...                          ...   \n206                        NaN                         None   \n205                        NaN                         None   \n204                        NaN                         None   \n214                        NaN                         None   \n156  York District High School  POINT (116.76017 -31.89322)   \n\n                      geometry_y  \n276                         None  \n78                          None  \n267                         None  \n230                         None  \n232                         None  \n..                           ...  \n206                         None  \n205                         None  \n204                         None  \n214                         None  \n156  POINT (116.76023 -31.89367)  \n\n[215 rows x 45 columns]",
      "text/html": "<div>\n<style scoped>\n    .dataframe tbody tr th:only-of-type {\n        vertical-align: middle;\n    }\n\n    .dataframe tbody tr th {\n        vertical-align: top;\n    }\n\n    .dataframe thead th {\n        text-align: right;\n    }\n</style>\n<table border=\"1\" class=\"dataframe\">\n  <thead>\n    <tr style=\"text-align: right;\">\n      <th></th>\n      <th>ogc_fid</th>\n      <th>school_name</th>\n      <th>school_link</th>\n      <th>is_university</th>\n      <th>is_high_school</th>\n      <th>is_alt_edu</th>\n      <th>operational_status</th>\n      <th>wkt</th>\n      <th>is_public</th>\n      <th>geometry</th>\n      <th>...</th>\n      <th>Local Government Area</th>\n      <th>Local Government Area Name</th>\n      <th>State Electoral Division</th>\n      <th>State Electoral Division Name</th>\n      <th>Commonwealth Electoral Division</th>\n      <th>Commonwealth Electoral Division Name</th>\n      <th>school_name_str_match</th>\n      <th>key_0</th>\n      <th>geometry_x</th>\n      <th>geometry_y</th>\n    </tr>\n  </thead>\n  <tbody>\n    <tr>\n      <th>276</th>\n      <td>198.0</td>\n      <td>Victorian School of Correspondence</td>\n      <td>http://www.wikidata.org/entity/None</td>\n      <td>0</td>\n      <td>1</td>\n      <td>0</td>\n      <td>NaN</td>\n      <td>Point(143.3906074 -36.9847807)</td>\n      <td>NaN</td>\n      <td>POINT (1015944.306 -4087658.653)</td>\n      <td>...</td>\n      <td>NaN</td>\n      <td>NaN</td>\n      <td>NaN</td>\n      <td>NaN</td>\n      <td>NaN</td>\n      <td>NaN</td>\n      <td>0</td>\n      <td>NaN</td>\n      <td>None</td>\n      <td>None</td>\n    </tr>\n    <tr>\n      <th>78</th>\n      <td>81.0</td>\n      <td>Enfield High School</td>\n      <td>http://www.wikidata.org/entity/Q5377304</td>\n      <td>0</td>\n      <td>1</td>\n      <td>0</td>\n      <td>closed</td>\n      <td>Point(138.6044383 -34.849003347396675)</td>\n      <td>NaN</td>\n      <td>POINT (601825.541 -3820876.028)</td>\n      <td>...</td>\n      <td>NaN</td>\n      <td>NaN</td>\n      <td>NaN</td>\n      <td>NaN</td>\n      <td>NaN</td>\n      <td>NaN</td>\n      <td>0</td>\n      <td>NaN</td>\n      <td>None</td>\n      <td>None</td>\n    </tr>\n    <tr>\n      <th>267</th>\n      <td>231.0</td>\n      <td>St Andrew Muar Johor</td>\n      <td>http://www.wikidata.org/entity/None</td>\n      <td>0</td>\n      <td>1</td>\n      <td>0</td>\n      <td>NaN</td>\n      <td>Point(102.5729627 2.05415)</td>\n      <td>NaN</td>\n      <td>POINT (-3575232.595 -205975.521)</td>\n      <td>...</td>\n      <td>NaN</td>\n      <td>NaN</td>\n      <td>NaN</td>\n      <td>NaN</td>\n      <td>NaN</td>\n      <td>NaN</td>\n      <td>0</td>\n      <td>NaN</td>\n      <td>None</td>\n      <td>None</td>\n    </tr>\n    <tr>\n      <th>230</th>\n      <td>201.0</td>\n      <td>Greythorn High School</td>\n      <td>http://www.wikidata.org/entity/Q5608510</td>\n      <td>0</td>\n      <td>1</td>\n      <td>0</td>\n      <td>closed</td>\n      <td>Point(145.096 -37.8017)</td>\n      <td>1.0</td>\n      <td>POINT (1158316.899 -4192010.732)</td>\n      <td>...</td>\n      <td>NaN</td>\n      <td>NaN</td>\n      <td>NaN</td>\n      <td>NaN</td>\n      <td>NaN</td>\n      <td>NaN</td>\n      <td>0</td>\n      <td>NaN</td>\n      <td>None</td>\n      <td>None</td>\n    </tr>\n    <tr>\n      <th>232</th>\n      <td>219.0</td>\n      <td>Harvey Agricultural Senior High School</td>\n      <td>NaN</td>\n      <td>0</td>\n      <td>1</td>\n      <td>0</td>\n      <td>NaN</td>\n      <td>Point(115.913733 -33.129635)</td>\n      <td>NaN</td>\n      <td>POINT (-1489993.022 -3708241.967)</td>\n      <td>...</td>\n      <td>NaN</td>\n      <td>NaN</td>\n      <td>NaN</td>\n      <td>NaN</td>\n      <td>NaN</td>\n      <td>NaN</td>\n      <td>0</td>\n      <td>NaN</td>\n      <td>None</td>\n      <td>None</td>\n    </tr>\n    <tr>\n      <th>...</th>\n      <td>...</td>\n      <td>...</td>\n      <td>...</td>\n      <td>...</td>\n      <td>...</td>\n      <td>...</td>\n      <td>...</td>\n      <td>...</td>\n      <td>...</td>\n      <td>...</td>\n      <td>...</td>\n      <td>...</td>\n      <td>...</td>\n      <td>...</td>\n      <td>...</td>\n      <td>...</td>\n      <td>...</td>\n      <td>...</td>\n      <td>...</td>\n      <td>...</td>\n      <td>...</td>\n    </tr>\n    <tr>\n      <th>206</th>\n      <td>NaN</td>\n      <td>Marist Regional College</td>\n      <td>http://www.wikidata.org/entity/Q6765687</td>\n      <td>0</td>\n      <td>1</td>\n      <td>0</td>\n      <td>NaN</td>\n      <td>Point(145.886293 -41.048046)</td>\n      <td>NaN</td>\n      <td>POINT (1189351.115 -4553098.855)</td>\n      <td>...</td>\n      <td>60610</td>\n      <td>Burnie</td>\n      <td>60209</td>\n      <td>Braddon (Murchison)</td>\n      <td>602</td>\n      <td>Braddon</td>\n      <td>100</td>\n      <td>NaN</td>\n      <td>None</td>\n      <td>None</td>\n    </tr>\n    <tr>\n      <th>205</th>\n      <td>NaN</td>\n      <td>Clairvaux MacKillop College</td>\n      <td>http://www.wikidata.org/entity/Q5125395</td>\n      <td>0</td>\n      <td>1</td>\n      <td>0</td>\n      <td>NaN</td>\n      <td>Point(153.0783765 -27.5529882)</td>\n      <td>0.0</td>\n      <td>POINT (2046999.966 -3158105.419)</td>\n      <td>...</td>\n      <td>31000</td>\n      <td>Brisbane</td>\n      <td>30049</td>\n      <td>Mansfield</td>\n      <td>302</td>\n      <td>Bonner</td>\n      <td>100</td>\n      <td>NaN</td>\n      <td>None</td>\n      <td>None</td>\n    </tr>\n    <tr>\n      <th>204</th>\n      <td>NaN</td>\n      <td>Murwillumbah High School</td>\n      <td>http://www.wikidata.org/entity/Q6939835</td>\n      <td>0</td>\n      <td>1</td>\n      <td>0</td>\n      <td>NaN</td>\n      <td>Point(153.3905989 -28.3346911)</td>\n      <td>0.0</td>\n      <td>POINT (2062424.449 -3249614.559)</td>\n      <td>...</td>\n      <td>17550</td>\n      <td>Tweed</td>\n      <td>10045</td>\n      <td>Lismore</td>\n      <td>138</td>\n      <td>Richmond</td>\n      <td>100</td>\n      <td>NaN</td>\n      <td>None</td>\n      <td>None</td>\n    </tr>\n    <tr>\n      <th>214</th>\n      <td>237.0</td>\n      <td>Adelaide High School</td>\n      <td>http://www.wikidata.org/entity/Q4681726</td>\n      <td>0</td>\n      <td>1</td>\n      <td>0</td>\n      <td>NaN</td>\n      <td>Point(138.586967 -34.9255505)</td>\n      <td>1.0</td>\n      <td>POINT (599795.898 -3829300.774)</td>\n      <td>...</td>\n      <td>40070</td>\n      <td>Adelaide</td>\n      <td>40001</td>\n      <td>Adelaide</td>\n      <td>401</td>\n      <td>Adelaide</td>\n      <td>100</td>\n      <td>NaN</td>\n      <td>None</td>\n      <td>None</td>\n    </tr>\n    <tr>\n      <th>156</th>\n      <td>239.0</td>\n      <td>York District High School</td>\n      <td>http://www.wikidata.org/entity/None</td>\n      <td>0</td>\n      <td>1</td>\n      <td>0</td>\n      <td>NaN</td>\n      <td>Point(116.7601699 -31.8932228)</td>\n      <td>NaN</td>\n      <td>None</td>\n      <td>...</td>\n      <td>59370</td>\n      <td>York</td>\n      <td>51401</td>\n      <td>Central Wheatbelt (Agricultural)</td>\n      <td>512</td>\n      <td>Pearce</td>\n      <td>100</td>\n      <td>York District High School</td>\n      <td>POINT (116.76017 -31.89322)</td>\n      <td>POINT (116.76023 -31.89367)</td>\n    </tr>\n  </tbody>\n</table>\n<p>215 rows × 45 columns</p>\n</div>"
     },
     "execution_count": 6,
     "metadata": {},
     "output_type": "execute_result"
    }
   ],
   "source": [
    "all_merged_deduped"
   ],
   "metadata": {
    "collapsed": false
   }
  },
  {
   "cell_type": "code",
   "execution_count": null,
   "outputs": [],
   "source": [
    "all_merged_deduped.to_file(gpkg, layer='education__acara', driver=\"GPKG\")"
   ],
   "metadata": {
    "collapsed": false
   }
  }
 ],
 "metadata": {
  "kernelspec": {
   "display_name": "Python 3",
   "language": "python",
   "name": "python3"
  },
  "language_info": {
   "codemirror_mode": {
    "name": "ipython",
    "version": 2
   },
   "file_extension": ".py",
   "mimetype": "text/x-python",
   "name": "python",
   "nbconvert_exporter": "python",
   "pygments_lexer": "ipython2",
   "version": "2.7.6"
  }
 },
 "nbformat": 4,
 "nbformat_minor": 0
}
