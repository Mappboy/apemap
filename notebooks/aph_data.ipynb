{
 "cells": [
  {
   "cell_type": "code",
   "execution_count": 1,
   "metadata": {
    "collapsed": true
   },
   "outputs": [
    {
     "data": {
      "text/plain": "      PHID   GivenName MiddleNames    FamilyName PreferredName  \\\n0   300147       Aaron                     VIOLI                 \n0      M3C        Adam        Paul         BANDT                 \n0   269375   Alexander     Charles         ANTIC        (Alex)   \n0      HWO  Alexander       George         HAWKE        (Alex)   \n0   144732      Alicia        Emma         PAYNE                 \n..     ...         ...         ...           ...           ...   \n0   288713         Sam                   BIRRELL                 \n0   300130         Sam                       LIM                 \n0   300122      Samuel      Thomas           RAE         (Sam)   \n0      I0U       Sarah       Coral  HANSON-YOUNG                 \n0      ZN4       Sarah        Moya     HENDERSON                 \n\n                                DisplayName DateOfBirth DateOfDeath  \\\n0                              VIOLI, Aaron                           \n0                       BANDT, Dr Adam Paul  1972-03-11               \n0           ANTIC, Alexander (Alex) Charles  1974-12-17               \n0   HAWKE, the Hon. Alexander (Alex) George  1977-07-09               \n0                        PAYNE, Alicia Emma  1982-07-24               \n..                                      ...         ...         ...   \n0                              BIRRELL, Sam                           \n0                                  LIM, Sam  1961-06-06               \n0                  RAE, Samuel (Sam) Thomas  1986-09-26               \n0                 HANSON-YOUNG, Sarah Coral  1981-12-23               \n0            HENDERSON, the Hon. Sarah Moya                           \n\n               PlaceOfBirth PlaceOfDeath  ...  \\\n0                                         ...   \n0                  Adelaide               ...   \n0                  Adelaide               ...   \n0                Wollongong               ...   \n0                  Canberra               ...   \n..                      ...          ...  ...   \n0                                         ...   \n0   Parit Zing, Muar, Johor               ...   \n0                  Canberra               ...   \n0                 Melbourne               ...   \n0                   Geelong               ...   \n\n                                RepresentedMinistries  \\\n0                                                  []   \n0                                                  []   \n0                                                  []   \n0   [Assistant Minister, Assistant Minister, Assis...   \n0                                                  []   \n..                                                ...   \n0                                                  []   \n0                                                  []   \n0                                                  []   \n0                                                  []   \n0                                [Assistant Minister]   \n\n           RepresentedShadowMinistries           ParliamentaryPositions  \\\n0                                   []                               []   \n0                                   []                               []   \n0                                   []                               []   \n0                                   []  [Member of the Speaker's Panel]   \n0                                   []                               []   \n..                                 ...                              ...   \n0                                   []                               []   \n0                                   []                               []   \n0                                   []                               []   \n0                                   []                               []   \n0   [Shadow Minister, Shadow Minister]  [Member of the Speaker's Panel]   \n\n                                              Honours  \\\n0                                                  []   \n0                                                  []   \n0                                                  []   \n0                                                  []   \n0                                                  []   \n..                                                ...   \n0                                                  []   \n0                 [Police Officer of the Year, 2020.]   \n0                                                  []   \n0                                                  []   \n0   [Walkley Award for Best Coverage of a Current ...   \n\n                                          Occupations  \\\n0                                                  []   \n0   [Barrister from 2008 to 2010., Research office...   \n0                      [Solicitor from 2002 to 2019.]   \n0   [Adviser to R Williams, MLA, 2007., Adviser to...   \n0   [Chief of Staff to Hon. J Macklin MP, Shadow M...   \n..                                                ...   \n0                                                  []   \n0   [Police Officer from 6.11.2006 to 20.5.2022., ...   \n0   [Partner at PwC from 2019 to 2021., State Secr...   \n0   [Freelance writer and columnist from 2007., Ba...   \n0   [Senior Consultant at Clifton Group, 2011., He...   \n\n                                 SecondaryOccupations  \\\n0                                                  []   \n0   [Solicitor, Social Professionals nfd, Barriste...   \n0   [Solicitor, Legal, Social and Welfare Professi...   \n0   [Retail Manager (General), Hospitality, Retail...   \n0   [Policy Analyst, Business, Human Resource and ...   \n..                                                ...   \n0                                                  []   \n0   [Security Officers and Guards nec, Police Offi...   \n0   [Call or Contact Centre Operator, Child Care W...   \n0   [Bank Worker, Sales Assistant (General), Journ...   \n0   [Public Relations Professional, Television Jou...   \n\n                                       Qualifications  \\\n0                                                  []   \n0   [Doctor of Philosophy, Monash University, Bach...   \n0   [Bachelor of Laws, University of Adelaide, Bac...   \n0   [Bachelor of Arts (Government and Philosophy),...   \n0   [Bachelor of Economics Honours, University of ...   \n..                                                ...   \n0                                                  []   \n0   [Diploma in Public Safety (Policing), Western ...   \n0   [Master of Business Administration, Melbourne ...   \n0   [Bachelor of Social Science, University of Ade...   \n0       [Bachelor of Laws Honours, Monash University]   \n\n                                    ElectorateService  \\\n0   [{'Electorate': 'Casey', 'State': 'Victoria', ...   \n0   [{'Electorate': 'Melbourne', 'State': 'Victori...   \n0                                                  []   \n0   [{'Electorate': 'Mitchell', 'State': 'New Sout...   \n0   [{'Electorate': 'Canberra', 'State': 'Australi...   \n..                                                ...   \n0   [{'Electorate': 'Nicholls', 'State': 'Victoria...   \n0   [{'Electorate': 'Tangney', 'State': 'Western A...   \n0   [{'Electorate': 'Hawke', 'State': 'Victoria', ...   \n0                                                  []   \n0   [{'Electorate': 'Corangamite', 'State': 'Victo...   \n\n                            PartyParliamentaryService  \\\n0   [{'RoSId': 59490, 'RoSType': 'Parliamentary Se...   \n0   [{'RoSId': 27172, 'RoSType': 'Parliamentary Se...   \n0   [{'RoSId': 54265, 'RoSType': 'Parliamentary Se...   \n0   [{'RoSId': 27382, 'RoSType': 'Parliamentary Se...   \n0   [{'RoSId': 54199, 'RoSType': 'Parliamentary Se...   \n..                                                ...   \n0   [{'RoSId': 59510, 'RoSType': 'Parliamentary Se...   \n0   [{'RoSId': 59223, 'RoSType': 'Parliamentary Se...   \n0   [{'RoSId': 59317, 'RoSType': 'Parliamentary Se...   \n0   [{'RoSId': 27831, 'RoSType': 'Parliamentary Se...   \n0   [{'RoSId': 27391, 'RoSType': 'Parliamentary Se...   \n\n                                PartyCommitteeService  \n0   [{'RoSId': 60048, 'RoSType': 'Committee Servic...  \n0   [{'RoSId': 1164, 'RoSType': 'Committee Service...  \n0   [{'RoSId': 54358, 'RoSType': 'Committee Servic...  \n0   [{'RoSId': 1508, 'RoSType': 'Committee Service...  \n0   [{'RoSId': 54738, 'RoSType': 'Committee Servic...  \n..                                                ...  \n0   [{'RoSId': 60028, 'RoSType': 'Committee Servic...  \n0   [{'RoSId': 59842, 'RoSType': 'Committee Servic...  \n0   [{'RoSId': 59813, 'RoSType': 'Committee Servic...  \n0   [{'RoSId': 3191, 'RoSType': 'Committee Service...  \n0   [{'RoSId': 56863, 'RoSType': 'Committee Servic...  \n\n[192 rows x 51 columns]",
      "text/html": "<div>\n<style scoped>\n    .dataframe tbody tr th:only-of-type {\n        vertical-align: middle;\n    }\n\n    .dataframe tbody tr th {\n        vertical-align: top;\n    }\n\n    .dataframe thead th {\n        text-align: right;\n    }\n</style>\n<table border=\"1\" class=\"dataframe\">\n  <thead>\n    <tr style=\"text-align: right;\">\n      <th></th>\n      <th>PHID</th>\n      <th>GivenName</th>\n      <th>MiddleNames</th>\n      <th>FamilyName</th>\n      <th>PreferredName</th>\n      <th>DisplayName</th>\n      <th>DateOfBirth</th>\n      <th>DateOfDeath</th>\n      <th>PlaceOfBirth</th>\n      <th>PlaceOfDeath</th>\n      <th>...</th>\n      <th>RepresentedMinistries</th>\n      <th>RepresentedShadowMinistries</th>\n      <th>ParliamentaryPositions</th>\n      <th>Honours</th>\n      <th>Occupations</th>\n      <th>SecondaryOccupations</th>\n      <th>Qualifications</th>\n      <th>ElectorateService</th>\n      <th>PartyParliamentaryService</th>\n      <th>PartyCommitteeService</th>\n    </tr>\n  </thead>\n  <tbody>\n    <tr>\n      <th>0</th>\n      <td>300147</td>\n      <td>Aaron</td>\n      <td></td>\n      <td>VIOLI</td>\n      <td></td>\n      <td>VIOLI, Aaron</td>\n      <td></td>\n      <td></td>\n      <td></td>\n      <td></td>\n      <td>...</td>\n      <td>[]</td>\n      <td>[]</td>\n      <td>[]</td>\n      <td>[]</td>\n      <td>[]</td>\n      <td>[]</td>\n      <td>[]</td>\n      <td>[{'Electorate': 'Casey', 'State': 'Victoria', ...</td>\n      <td>[{'RoSId': 59490, 'RoSType': 'Parliamentary Se...</td>\n      <td>[{'RoSId': 60048, 'RoSType': 'Committee Servic...</td>\n    </tr>\n    <tr>\n      <th>0</th>\n      <td>M3C</td>\n      <td>Adam</td>\n      <td>Paul</td>\n      <td>BANDT</td>\n      <td></td>\n      <td>BANDT, Dr Adam Paul</td>\n      <td>1972-03-11</td>\n      <td></td>\n      <td>Adelaide</td>\n      <td></td>\n      <td>...</td>\n      <td>[]</td>\n      <td>[]</td>\n      <td>[]</td>\n      <td>[]</td>\n      <td>[Barrister from 2008 to 2010., Research office...</td>\n      <td>[Solicitor, Social Professionals nfd, Barriste...</td>\n      <td>[Doctor of Philosophy, Monash University, Bach...</td>\n      <td>[{'Electorate': 'Melbourne', 'State': 'Victori...</td>\n      <td>[{'RoSId': 27172, 'RoSType': 'Parliamentary Se...</td>\n      <td>[{'RoSId': 1164, 'RoSType': 'Committee Service...</td>\n    </tr>\n    <tr>\n      <th>0</th>\n      <td>269375</td>\n      <td>Alexander</td>\n      <td>Charles</td>\n      <td>ANTIC</td>\n      <td>(Alex)</td>\n      <td>ANTIC, Alexander (Alex) Charles</td>\n      <td>1974-12-17</td>\n      <td></td>\n      <td>Adelaide</td>\n      <td></td>\n      <td>...</td>\n      <td>[]</td>\n      <td>[]</td>\n      <td>[]</td>\n      <td>[]</td>\n      <td>[Solicitor from 2002 to 2019.]</td>\n      <td>[Solicitor, Legal, Social and Welfare Professi...</td>\n      <td>[Bachelor of Laws, University of Adelaide, Bac...</td>\n      <td>[]</td>\n      <td>[{'RoSId': 54265, 'RoSType': 'Parliamentary Se...</td>\n      <td>[{'RoSId': 54358, 'RoSType': 'Committee Servic...</td>\n    </tr>\n    <tr>\n      <th>0</th>\n      <td>HWO</td>\n      <td>Alexander</td>\n      <td>George</td>\n      <td>HAWKE</td>\n      <td>(Alex)</td>\n      <td>HAWKE, the Hon. Alexander (Alex) George</td>\n      <td>1977-07-09</td>\n      <td></td>\n      <td>Wollongong</td>\n      <td></td>\n      <td>...</td>\n      <td>[Assistant Minister, Assistant Minister, Assis...</td>\n      <td>[]</td>\n      <td>[Member of the Speaker's Panel]</td>\n      <td>[]</td>\n      <td>[Adviser to R Williams, MLA, 2007., Adviser to...</td>\n      <td>[Retail Manager (General), Hospitality, Retail...</td>\n      <td>[Bachelor of Arts (Government and Philosophy),...</td>\n      <td>[{'Electorate': 'Mitchell', 'State': 'New Sout...</td>\n      <td>[{'RoSId': 27382, 'RoSType': 'Parliamentary Se...</td>\n      <td>[{'RoSId': 1508, 'RoSType': 'Committee Service...</td>\n    </tr>\n    <tr>\n      <th>0</th>\n      <td>144732</td>\n      <td>Alicia</td>\n      <td>Emma</td>\n      <td>PAYNE</td>\n      <td></td>\n      <td>PAYNE, Alicia Emma</td>\n      <td>1982-07-24</td>\n      <td></td>\n      <td>Canberra</td>\n      <td></td>\n      <td>...</td>\n      <td>[]</td>\n      <td>[]</td>\n      <td>[]</td>\n      <td>[]</td>\n      <td>[Chief of Staff to Hon. J Macklin MP, Shadow M...</td>\n      <td>[Policy Analyst, Business, Human Resource and ...</td>\n      <td>[Bachelor of Economics Honours, University of ...</td>\n      <td>[{'Electorate': 'Canberra', 'State': 'Australi...</td>\n      <td>[{'RoSId': 54199, 'RoSType': 'Parliamentary Se...</td>\n      <td>[{'RoSId': 54738, 'RoSType': 'Committee Servic...</td>\n    </tr>\n    <tr>\n      <th>...</th>\n      <td>...</td>\n      <td>...</td>\n      <td>...</td>\n      <td>...</td>\n      <td>...</td>\n      <td>...</td>\n      <td>...</td>\n      <td>...</td>\n      <td>...</td>\n      <td>...</td>\n      <td>...</td>\n      <td>...</td>\n      <td>...</td>\n      <td>...</td>\n      <td>...</td>\n      <td>...</td>\n      <td>...</td>\n      <td>...</td>\n      <td>...</td>\n      <td>...</td>\n      <td>...</td>\n    </tr>\n    <tr>\n      <th>0</th>\n      <td>288713</td>\n      <td>Sam</td>\n      <td></td>\n      <td>BIRRELL</td>\n      <td></td>\n      <td>BIRRELL, Sam</td>\n      <td></td>\n      <td></td>\n      <td></td>\n      <td></td>\n      <td>...</td>\n      <td>[]</td>\n      <td>[]</td>\n      <td>[]</td>\n      <td>[]</td>\n      <td>[]</td>\n      <td>[]</td>\n      <td>[]</td>\n      <td>[{'Electorate': 'Nicholls', 'State': 'Victoria...</td>\n      <td>[{'RoSId': 59510, 'RoSType': 'Parliamentary Se...</td>\n      <td>[{'RoSId': 60028, 'RoSType': 'Committee Servic...</td>\n    </tr>\n    <tr>\n      <th>0</th>\n      <td>300130</td>\n      <td>Sam</td>\n      <td></td>\n      <td>LIM</td>\n      <td></td>\n      <td>LIM, Sam</td>\n      <td>1961-06-06</td>\n      <td></td>\n      <td>Parit Zing, Muar, Johor</td>\n      <td></td>\n      <td>...</td>\n      <td>[]</td>\n      <td>[]</td>\n      <td>[]</td>\n      <td>[Police Officer of the Year, 2020.]</td>\n      <td>[Police Officer from 6.11.2006 to 20.5.2022., ...</td>\n      <td>[Security Officers and Guards nec, Police Offi...</td>\n      <td>[Diploma in Public Safety (Policing), Western ...</td>\n      <td>[{'Electorate': 'Tangney', 'State': 'Western A...</td>\n      <td>[{'RoSId': 59223, 'RoSType': 'Parliamentary Se...</td>\n      <td>[{'RoSId': 59842, 'RoSType': 'Committee Servic...</td>\n    </tr>\n    <tr>\n      <th>0</th>\n      <td>300122</td>\n      <td>Samuel</td>\n      <td>Thomas</td>\n      <td>RAE</td>\n      <td>(Sam)</td>\n      <td>RAE, Samuel (Sam) Thomas</td>\n      <td>1986-09-26</td>\n      <td></td>\n      <td>Canberra</td>\n      <td></td>\n      <td>...</td>\n      <td>[]</td>\n      <td>[]</td>\n      <td>[]</td>\n      <td>[]</td>\n      <td>[Partner at PwC from 2019 to 2021., State Secr...</td>\n      <td>[Call or Contact Centre Operator, Child Care W...</td>\n      <td>[Master of Business Administration, Melbourne ...</td>\n      <td>[{'Electorate': 'Hawke', 'State': 'Victoria', ...</td>\n      <td>[{'RoSId': 59317, 'RoSType': 'Parliamentary Se...</td>\n      <td>[{'RoSId': 59813, 'RoSType': 'Committee Servic...</td>\n    </tr>\n    <tr>\n      <th>0</th>\n      <td>I0U</td>\n      <td>Sarah</td>\n      <td>Coral</td>\n      <td>HANSON-YOUNG</td>\n      <td></td>\n      <td>HANSON-YOUNG, Sarah Coral</td>\n      <td>1981-12-23</td>\n      <td></td>\n      <td>Melbourne</td>\n      <td></td>\n      <td>...</td>\n      <td>[]</td>\n      <td>[]</td>\n      <td>[]</td>\n      <td>[]</td>\n      <td>[Freelance writer and columnist from 2007., Ba...</td>\n      <td>[Bank Worker, Sales Assistant (General), Journ...</td>\n      <td>[Bachelor of Social Science, University of Ade...</td>\n      <td>[]</td>\n      <td>[{'RoSId': 27831, 'RoSType': 'Parliamentary Se...</td>\n      <td>[{'RoSId': 3191, 'RoSType': 'Committee Service...</td>\n    </tr>\n    <tr>\n      <th>0</th>\n      <td>ZN4</td>\n      <td>Sarah</td>\n      <td>Moya</td>\n      <td>HENDERSON</td>\n      <td></td>\n      <td>HENDERSON, the Hon. Sarah Moya</td>\n      <td></td>\n      <td></td>\n      <td>Geelong</td>\n      <td></td>\n      <td>...</td>\n      <td>[Assistant Minister]</td>\n      <td>[Shadow Minister, Shadow Minister]</td>\n      <td>[Member of the Speaker's Panel]</td>\n      <td>[Walkley Award for Best Coverage of a Current ...</td>\n      <td>[Senior Consultant at Clifton Group, 2011., He...</td>\n      <td>[Public Relations Professional, Television Jou...</td>\n      <td>[Bachelor of Laws Honours, Monash University]</td>\n      <td>[{'Electorate': 'Corangamite', 'State': 'Victo...</td>\n      <td>[{'RoSId': 27391, 'RoSType': 'Parliamentary Se...</td>\n      <td>[{'RoSId': 56863, 'RoSType': 'Committee Servic...</td>\n    </tr>\n  </tbody>\n</table>\n<p>192 rows × 51 columns</p>\n</div>"
     },
     "execution_count": 1,
     "metadata": {},
     "output_type": "execute_result"
    }
   ],
   "source": [
    "from utils import fetch_handbook_dataframe\n",
    "import pathlib\n",
    "import sqlite3\n",
    "import geopandas as gpd\n",
    "\n",
    "data_dir = pathlib.Path(\"..\").resolve() / \"data\"\n",
    "gpkg = str(data_dir / \"ppm.gpkg\")\n",
    "# Create connection and load spatialite extension\n",
    "df = gpd.read_file(gpkg, layer=\"ministers\")\n",
    "aph_df = fetch_handbook_dataframe(df)\n",
    "aph_df"
   ]
  },
  {
   "cell_type": "code",
   "execution_count": 7,
   "outputs": [],
   "source": [
    "\n",
    "ministers_table = aph_df[[\"PHID\", \"GivenName\", \"MiddleNames\", \"FamilyName\", \"PreferredName\", \"DisplayName\",\"DateOfBirth\", \"PlaceOfBirth\", \"Image\", \"Gender\", \"MaritalStatus\", \"CountryOfBirth\", \"StateOfBirth\", \"Party\", \"PartyAbbrev\", \"SenateState\", \"State\", \"StateAbbrev\", \"InCurrentParliament\", \"ServiceHistory_Start\", \"ServiceHistory_End\", \"ServiceHistory_Days\", \"ElectedMemberNo\", \"ElectedSenatorNo\", \"FirstNations\"]]\n",
    "ministers_occupations = aph_df[[\"PHID\", \"Occupations\"]].explode(\"Occupations\")\n",
    "ministers_secondary_occupations = aph_df[[\"PHID\", \"SecondaryOccupations\"]].explode(\"SecondaryOccupations\")\n",
    "ministers_qualifications = aph_df[[\"PHID\", \"Qualifications\"]].explode(\"Qualifications\")"
   ],
   "metadata": {
    "collapsed": false
   }
  },
  {
   "cell_type": "code",
   "execution_count": 10,
   "outputs": [
    {
     "data": {
      "text/plain": "361"
     },
     "execution_count": 10,
     "metadata": {},
     "output_type": "execute_result"
    }
   ],
   "source": [
    "db_con = sqlite3.connect(str(data_dir / \"ppm.gpkg\"))\n",
    "# ministers_table.to_sql(\"ministers_aph\", db_con, if_exists=\"replace\")\n",
    "ministers_occupations.dropna().to_sql(\"ministers_occupations\", db_con, if_exists=\"replace\", index_label=\"fid\")\n",
    "ministers_secondary_occupations.dropna().to_sql(\"ministers_secondary_occupations\", db_con, if_exists=\"replace\", index_label=\"fid\")\n",
    "ministers_qualifications.dropna().to_sql(\"ministers_secondary_qualifications\", db_con, if_exists=\"replace\", index_label=\"fid\")\n",
    "# aph_df.to_parquet(data_dir/\"aph_all.parquet\")"
   ],
   "metadata": {
    "collapsed": false
   }
  },
  {
   "cell_type": "code",
   "execution_count": null,
   "outputs": [],
   "source": [],
   "metadata": {
    "collapsed": false
   }
  }
 ],
 "metadata": {
  "kernelspec": {
   "display_name": "Python 3",
   "language": "python",
   "name": "python3"
  },
  "language_info": {
   "codemirror_mode": {
    "name": "ipython",
    "version": 2
   },
   "file_extension": ".py",
   "mimetype": "text/x-python",
   "name": "python",
   "nbconvert_exporter": "python",
   "pygments_lexer": "ipython2",
   "version": "2.7.6"
  }
 },
 "nbformat": 4,
 "nbformat_minor": 0
}
