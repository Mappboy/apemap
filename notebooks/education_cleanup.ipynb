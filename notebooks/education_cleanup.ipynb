{
 "cells": [
  {
   "cell_type": "code",
   "execution_count": 1,
   "metadata": {
    "collapsed": true
   },
   "outputs": [],
   "source": [
    "import geopandas as gpd\n",
    "import pathlib\n",
    "import sqlite3\n",
    "import pandas as pd\n",
    "\n",
    "data_dir = pathlib.Path(\"..\").resolve() / \"data\"\n",
    "db_con = sqlite3.connect(str(data_dir / \"ppm.sqlite\"))\n",
    "schools = gpd.read_postgis(\"SELECT * FROM schools;\", db_con, geom_col=\"GEOMETRY\")\n",
    "education = pd.read_sql(\"SELECT * FROM education;\", db_con)"
   ]
  },
  {
   "cell_type": "code",
   "execution_count": 3,
   "outputs": [],
   "source": [
    "education_locations = pd.merge(schools, education, left_on=[\"schoollabel\"], right_on=[\"School Name\"], how=\"outer\")"
   ],
   "metadata": {
    "collapsed": false
   }
  },
  {
   "cell_type": "markdown",
   "source": [
    "# To fix\n",
    "- Merge schoollabel and school name"
   ],
   "metadata": {
    "collapsed": false
   }
  },
  {
   "cell_type": "code",
   "execution_count": 25,
   "outputs": [],
   "source": [
    "missing_school_names = education_locations[\"School Name\"].isnull()\n",
    "education_locations.loc[missing_school_names,\"School Name\"] = education_locations.loc[missing_school_names,\"schoollabel\"]\n",
    "education_locations.loc[education_locations[\"schoollabel\"].isnull(),\"schoollabel\"] = education_locations.loc[education_locations[\"schoollabel\"].isnull(),\"School Name\"]\n",
    "# #\n",
    "education_locations.loc[education_locations[\"schoolLink\"].isnull(),\"schoolLink\"] = education_locations.loc[education_locations[\"schoolLink\"].isnull(),\"school\"]\n",
    "education_locations.loc[education_locations[\"school\"].isnull(),\"school\"] = education_locations.loc[education_locations[\"school\"].isnull(),\"schoolLink\"]"
   ],
   "metadata": {
    "collapsed": false
   }
  },
  {
   "cell_type": "code",
   "execution_count": 26,
   "outputs": [
    {
     "name": "stderr",
     "output_type": "stream",
     "text": [
      "/tmp/ipykernel_146945/880131701.py:3: UserWarning: This pattern is interpreted as a regular expression, and has match groups. To actually get the groups, use str.extract.\n",
      "  education_locations[\"is_high_school\"] = education_locations[\"School Name\"].str.contains(high_school_college)\n"
     ]
    }
   ],
   "source": [
    "education_locations[\"is_university\"] = education_locations[\"School Name\"].str.contains(\"University\")\n",
    "high_school_college =pattern = r\"(High School|College|Grammar School)\"\n",
    "education_locations[\"is_high_school\"] = education_locations[\"School Name\"].str.contains(high_school_college)\n",
    "education_locations[\"is_alt_edu\"] = (~education_locations[\"is_university\"])& (~education_locations[\"is_high_school\"])"
   ],
   "metadata": {
    "collapsed": false
   }
  },
  {
   "cell_type": "markdown",
   "source": [
    "# Attempt to get missing locations\n",
    "Property:625"
   ],
   "metadata": {
    "collapsed": false
   }
  },
  {
   "cell_type": "code",
   "execution_count": 28,
   "outputs": [
    {
     "data": {
      "text/plain": "'wd:Q781371 wd:Q371370 wd:Q4824219 wd:Q127990 wd:Q892188 wd:Q1053985 wd:Q1066188 wd:Q5102091 wd:Q907481 wd:Q48815827 wd:Q1180978 wd:Q1284960 wd:Q5353931 wd:Q15575 wd:Q49122 wd:Q6124478 wd:Q6152232 wd:Q49127 wd:Q1478723 wd:Q174570 wd:Q289348 wd:Q741082 wd:Q6811735 wd:Q6811823 wd:Q598841 wd:Q6898254 wd:Q1375146 wd:Q706712 wd:Q62516299 wd:Q1144750 wd:Q1057890 wd:Q1278780 wd:Q7593823 wd:Q7595174 wd:Q7627278 wd:Q787234 wd:Q7660015 wd:Q7660036 wd:Q469476 wd:Q7741168 wd:Q7865388 wd:Q15574 wd:Q1640648 wd:Q160302 wd:Q1961570 wd:Q1516684 wd:Q170027 wd:Q319078 wd:Q1814435 wd:Q734764 wd:Q18545951 wd:Q531285 wd:Q1887921 wd:Q866012 wd:Q15576 wd:Q4614 wd:Q978124 wd:Q487556 wd:Q7896374 wd:Q962011 wd:Q1145731 wd:Q1517021 wd:Q1350021 wd:Q185246 wd:Q180514 wd:Q83303158 wd:Q1141452 wd:Q8001157 wd:Q49112'"
     },
     "execution_count": 28,
     "metadata": {},
     "output_type": "execute_result"
    }
   ],
   "source": [
    "sparql_entities = education_locations[education_locations[\"location\"].isna()].schoolLink.str.extract(r\"(Q\\d+)\")\n",
    "sparql_entities.columns = [\"entity\"]\n",
    "sparql_entities.dropna(inplace=True)\n",
    "cleaned_ents = ' '.join(['wd:'+ e for e in sparql_entities[\"entity\"].values])\n",
    "cleaned_ents"
   ],
   "metadata": {
    "collapsed": false
   }
  },
  {
   "cell_type": "code",
   "execution_count": 29,
   "outputs": [],
   "source": [
    "from pollypedagogy.utils import  get_results, clean_results\n",
    "endpoint_url=\"https://query.wikidata.org/sparql\"\n",
    "\n",
    "school_location_query = f\"\"\"SELECT ?school ?schoolLabel ?location ?locationLabel\n",
    "WHERE\n",
    "{{\n",
    "  VALUES ?school {{ {cleaned_ents} }}\n",
    "  ?school wdt:P625 ?location.\n",
    "  SERVICE wikibase:label {{ bd:serviceParam wikibase:language \"en\". }}\n",
    "}}\"\"\"\n",
    "\n",
    "school_locs = get_results(endpoint_url, school_location_query)\n",
    "\n",
    "schools_df = clean_results(school_locs['results']['bindings'])"
   ],
   "metadata": {
    "collapsed": false
   }
  },
  {
   "cell_type": "code",
   "execution_count": 33,
   "outputs": [],
   "source": [
    "merge_results = pd.merge(education_locations, schools_df, left_on=\"schoollabel\", right_on=\"schoolLabel\", how=\"left\")"
   ],
   "metadata": {
    "collapsed": false
   }
  },
  {
   "cell_type": "code",
   "execution_count": 34,
   "outputs": [],
   "source": [
    "no_locs = education_locations[\"location\"].isnull()\n",
    "education_locations.loc[no_locs,\"location\"] = merge_results.location_y"
   ],
   "metadata": {
    "collapsed": false
   }
  },
  {
   "cell_type": "code",
   "execution_count": 38,
   "outputs": [],
   "source": [
    "# Lookup some manual locations\n",
    "charles_sturt_university_hdq = \"Point(151.074444  -33.846667)\"\n",
    "deakin_university_hdq = \"Point(144.297 -38.1979)\"\n",
    "la_trobe = \"Point(145.047909 -37.72179)\"\n",
    "mac_university = \"Point(151.112915 -33.775259)\"\n",
    "sturtholme = \"Point(152.974 -27.4692)\"\n",
    "edinburgh_uni = \"Point(-3.187194 55.947389)\"\n",
    "unsw_law = \"Point(151.2279886 -33.9171807)\"\n",
    "sydney_uni = \"Point(151.18722 -33.88778)\"\n",
    "uwa = \"Point(115.818611 -31.980278)\"\n",
    "westend_ss = \"Point(153.0081 -27.4796)\"\n",
    "\n",
    "education_locations.loc[ education_locations[\"schoollabel\"] == \"Charles Sturt University\", \"location\"] = charles_sturt_university_hdq\n",
    "education_locations.loc[ education_locations[\"schoollabel\"] == \"Deakin University\", \"location\"] = deakin_university_hdq\n",
    "education_locations.loc[ education_locations[\"schoollabel\"] == \"La Trobe University\", \"location\"]= la_trobe\n",
    "education_locations.loc[ education_locations[\"schoollabel\"] == \"Macquarie University\", \"location\"] = mac_university\n",
    "education_locations.loc[ education_locations[\"schoollabel\"] == \"Stuartholme School\", \"location\"] = sturtholme\n",
    "education_locations.loc[ education_locations[\"schoollabel\"] == \"University of Edinburgh\", \"location\"] = edinburgh_uni\n",
    "education_locations.loc[ education_locations[\"schoollabel\"] == \"University of New South Wales Law School\", \"location\"] = unsw_law\n",
    "education_locations.loc[ education_locations[\"schoollabel\"] == \"University of Sydney\", \"location\"] = sydney_uni\n",
    "education_locations.loc[ education_locations[\"schoollabel\"] == \"University of Western Australia\", \"location\"] = uwa\n",
    "education_locations.loc[ education_locations[\"schoollabel\"] == \"West End State School\", \"location\"] = westend_ss"
   ],
   "metadata": {
    "collapsed": false
   }
  },
  {
   "cell_type": "code",
   "execution_count": 39,
   "outputs": [],
   "source": [
    "education_locations[\"GEOMETRY\"] = gpd.GeoSeries.from_wkt(education_locations.location)\n",
    "education_locations = education_locations.set_crs(epsg=4326)\n"
   ],
   "metadata": {
    "collapsed": false
   }
  },
  {
   "cell_type": "markdown",
   "source": [],
   "metadata": {
    "collapsed": false
   }
  },
  {
   "cell_type": "code",
   "execution_count": 56,
   "outputs": [],
   "source": [
    "education = gpd.GeoDataFrame(education_locations, geometry=\"GEOMETRY\")\n",
    "education = education.drop(columns=[\"ogc_fid\", \"index\", \"school\", \"schoollabel\"]).rename(columns={\"School Name\":\"school_name\", \"location\": \"wkt\", \"status\":\"operational_status\", \"schoolLink\":\"school_link\"})\n",
    "education = education[[\"school_name\", \"school_link\", \"is_university\", \"is_high_school\", \"is_alt_edu\", \"operational_status\", \"wkt\", \"GEOMETRY\"]]\n",
    "education.rename_geometry(\"geom\", inplace=True)"
   ],
   "metadata": {
    "collapsed": false
   }
  },
  {
   "cell_type": "code",
   "execution_count": 57,
   "outputs": [],
   "source": [
    "education.to_file(str(data_dir / \"ppm.sqlite\"), layer='education', driver=\"SQLite\", if_exists=\"replace\")\n",
    "education.to_file(str(data_dir / \"ppm.gpkg\"), layer='education', driver=\"GPKG\")"
   ],
   "metadata": {
    "collapsed": false
   }
  },
  {
   "cell_type": "markdown",
   "source": [
    "# TODO Outstanding\n",
    "We need a good way to check if is_public -> I manually added this post cleaning.\n",
    "I think this can mostly be found on wikipedia."
   ],
   "metadata": {
    "collapsed": false
   }
  }
 ],
 "metadata": {
  "kernelspec": {
   "display_name": "Python 3",
   "language": "python",
   "name": "python3"
  },
  "language_info": {
   "codemirror_mode": {
    "name": "ipython",
    "version": 2
   },
   "file_extension": ".py",
   "mimetype": "text/x-python",
   "name": "python",
   "nbconvert_exporter": "python",
   "pygments_lexer": "ipython2",
   "version": "2.7.6"
  }
 },
 "nbformat": 4,
 "nbformat_minor": 0
}
