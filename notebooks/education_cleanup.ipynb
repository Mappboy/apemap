{
 "cells": [
  {
   "cell_type": "code",
   "execution_count": 1,
   "metadata": {
    "collapsed": true
   },
   "outputs": [],
   "source": [
    "import os\n",
    "\n",
    "import geopandas as gpd\n",
    "import pathlib\n",
    "import sqlite3\n",
    "import pandas as pd\n",
    "\n",
    "data_dir = pathlib.Path(\"..\").resolve() / \"data\"\n",
    "db_con = sqlite3.connect(str(data_dir / \"ppm.sqlite\"))\n",
    "schools = gpd.read_postgis(\"SELECT * FROM schools;\", db_con, geom_col=\"GEOMETRY\")\n",
    "education = pd.read_sql(\"SELECT * FROM education;\", db_con)"
   ]
  },
  {
   "cell_type": "code",
   "execution_count": 3,
   "metadata": {},
   "outputs": [],
   "source": [
    "education_locations = pd.merge(schools, education, left_on=[\"schoollabel\"], right_on=[\"School Name\"], how=\"outer\")"
   ]
  },
  {
   "cell_type": "markdown",
   "metadata": {},
   "source": [
    "# To fix\n",
    "- Merge schoollabel and school name"
   ]
  },
  {
   "cell_type": "code",
   "execution_count": 25,
   "metadata": {},
   "outputs": [],
   "source": [
    "missing_school_names = education_locations[\"School Name\"].isnull()\n",
    "education_locations.loc[missing_school_names,\"School Name\"] = education_locations.loc[missing_school_names,\"schoollabel\"]\n",
    "education_locations.loc[education_locations[\"schoollabel\"].isnull(),\"schoollabel\"] = education_locations.loc[education_locations[\"schoollabel\"].isnull(),\"School Name\"]\n",
    "# #\n",
    "education_locations.loc[education_locations[\"schoolLink\"].isnull(),\"schoolLink\"] = education_locations.loc[education_locations[\"schoolLink\"].isnull(),\"school\"]\n",
    "education_locations.loc[education_locations[\"school\"].isnull(),\"school\"] = education_locations.loc[education_locations[\"school\"].isnull(),\"schoolLink\"]"
   ]
  },
  {
   "cell_type": "code",
   "execution_count": 26,
   "metadata": {},
   "outputs": [
    {
     "name": "stderr",
     "output_type": "stream",
     "text": [
      "/tmp/ipykernel_146945/880131701.py:3: UserWarning: This pattern is interpreted as a regular expression, and has match groups. To actually get the groups, use str.extract.\n",
      "  education_locations[\"is_high_school\"] = education_locations[\"School Name\"].str.contains(high_school_college)\n"
     ]
    }
   ],
   "source": [
    "education_locations[\"is_university\"] = education_locations[\"School Name\"].str.contains(\"University\")\n",
    "high_school_college =pattern = r\"(High School|College|Grammar School)\"\n",
    "education_locations[\"is_high_school\"] = education_locations[\"School Name\"].str.contains(high_school_college)\n",
    "education_locations[\"is_alt_edu\"] = (~education_locations[\"is_university\"])& (~education_locations[\"is_high_school\"])"
   ]
  },
  {
   "cell_type": "markdown",
   "metadata": {},
   "source": [
    "# Attempt to get missing locations\n",
    "Property:625"
   ]
  },
  {
   "cell_type": "code",
   "execution_count": 28,
   "metadata": {},
   "outputs": [
    {
     "data": {
      "text/plain": [
       "'wd:Q781371 wd:Q371370 wd:Q4824219 wd:Q127990 wd:Q892188 wd:Q1053985 wd:Q1066188 wd:Q5102091 wd:Q907481 wd:Q48815827 wd:Q1180978 wd:Q1284960 wd:Q5353931 wd:Q15575 wd:Q49122 wd:Q6124478 wd:Q6152232 wd:Q49127 wd:Q1478723 wd:Q174570 wd:Q289348 wd:Q741082 wd:Q6811735 wd:Q6811823 wd:Q598841 wd:Q6898254 wd:Q1375146 wd:Q706712 wd:Q62516299 wd:Q1144750 wd:Q1057890 wd:Q1278780 wd:Q7593823 wd:Q7595174 wd:Q7627278 wd:Q787234 wd:Q7660015 wd:Q7660036 wd:Q469476 wd:Q7741168 wd:Q7865388 wd:Q15574 wd:Q1640648 wd:Q160302 wd:Q1961570 wd:Q1516684 wd:Q170027 wd:Q319078 wd:Q1814435 wd:Q734764 wd:Q18545951 wd:Q531285 wd:Q1887921 wd:Q866012 wd:Q15576 wd:Q4614 wd:Q978124 wd:Q487556 wd:Q7896374 wd:Q962011 wd:Q1145731 wd:Q1517021 wd:Q1350021 wd:Q185246 wd:Q180514 wd:Q83303158 wd:Q1141452 wd:Q8001157 wd:Q49112'"
      ]
     },
     "execution_count": 28,
     "metadata": {},
     "output_type": "execute_result"
    }
   ],
   "source": [
    "sparql_entities = education_locations[education_locations[\"location\"].isna()].schoolLink.str.extract(r\"(Q\\d+)\")\n",
    "sparql_entities.columns = [\"entity\"]\n",
    "sparql_entities.dropna(inplace=True)\n",
    "cleaned_ents = ' '.join(['wd:'+ e for e in sparql_entities[\"entity\"].values])\n",
    "cleaned_ents"
   ]
  },
  {
   "cell_type": "code",
   "execution_count": 29,
   "metadata": {},
   "outputs": [],
   "source": [
    "from pollypedagogy.utils import  get_results, clean_results\n",
    "endpoint_url=\"https://query.wikidata.org/sparql\"\n",
    "\n",
    "school_location_query = f\"\"\"SELECT ?school ?schoolLabel ?location ?locationLabel\n",
    "WHERE\n",
    "{{\n",
    "  VALUES ?school {{ {cleaned_ents} }}\n",
    "  ?school wdt:P625 ?location.\n",
    "  SERVICE wikibase:label {{ bd:serviceParam wikibase:language \"en\". }}\n",
    "}}\"\"\"\n",
    "\n",
    "school_locs = get_results(endpoint_url, school_location_query)\n",
    "\n",
    "schools_df = clean_results(school_locs['results']['bindings'])"
   ]
  },
  {
   "cell_type": "code",
   "execution_count": 33,
   "metadata": {},
   "outputs": [],
   "source": [
    "merge_results = pd.merge(education_locations, schools_df, left_on=\"schoollabel\", right_on=\"schoolLabel\", how=\"left\")"
   ]
  },
  {
   "cell_type": "code",
   "execution_count": 34,
   "metadata": {},
   "outputs": [],
   "source": [
    "no_locs = education_locations[\"location\"].isnull()\n",
    "education_locations.loc[no_locs,\"location\"] = merge_results.location_y"
   ]
  },
  {
   "cell_type": "code",
   "execution_count": 38,
   "metadata": {},
   "outputs": [],
   "source": [
    "# Lookup some manual locations\n",
    "charles_sturt_university_hdq = \"Point(151.074444  -33.846667)\"\n",
    "deakin_university_hdq = \"Point(144.297 -38.1979)\"\n",
    "la_trobe = \"Point(145.047909 -37.72179)\"\n",
    "mac_university = \"Point(151.112915 -33.775259)\"\n",
    "sturtholme = \"Point(152.974 -27.4692)\"\n",
    "edinburgh_uni = \"Point(-3.187194 55.947389)\"\n",
    "unsw_law = \"Point(151.2279886 -33.9171807)\"\n",
    "sydney_uni = \"Point(151.18722 -33.88778)\"\n",
    "uwa = \"Point(115.818611 -31.980278)\"\n",
    "westend_ss = \"Point(153.0081 -27.4796)\"\n",
    "\n",
    "education_locations.loc[ education_locations[\"schoollabel\"] == \"Charles Sturt University\", \"location\"] = charles_sturt_university_hdq\n",
    "education_locations.loc[ education_locations[\"schoollabel\"] == \"Deakin University\", \"location\"] = deakin_university_hdq\n",
    "education_locations.loc[ education_locations[\"schoollabel\"] == \"La Trobe University\", \"location\"]= la_trobe\n",
    "education_locations.loc[ education_locations[\"schoollabel\"] == \"Macquarie University\", \"location\"] = mac_university\n",
    "education_locations.loc[ education_locations[\"schoollabel\"] == \"Stuartholme School\", \"location\"] = sturtholme\n",
    "education_locations.loc[ education_locations[\"schoollabel\"] == \"University of Edinburgh\", \"location\"] = edinburgh_uni\n",
    "education_locations.loc[ education_locations[\"schoollabel\"] == \"University of New South Wales Law School\", \"location\"] = unsw_law\n",
    "education_locations.loc[ education_locations[\"schoollabel\"] == \"University of Sydney\", \"location\"] = sydney_uni\n",
    "education_locations.loc[ education_locations[\"schoollabel\"] == \"University of Western Australia\", \"location\"] = uwa\n",
    "education_locations.loc[ education_locations[\"schoollabel\"] == \"West End State School\", \"location\"] = westend_ss"
   ]
  },
  {
   "cell_type": "code",
   "execution_count": 39,
   "metadata": {},
   "outputs": [],
   "source": [
    "education_locations[\"GEOMETRY\"] = gpd.GeoSeries.from_wkt(education_locations.location)\n",
    "education_locations = education_locations.set_crs(epsg=4326)\n"
   ]
  },
  {
   "cell_type": "markdown",
   "metadata": {},
   "source": []
  },
  {
   "cell_type": "code",
   "execution_count": 56,
   "metadata": {},
   "outputs": [],
   "source": [
    "education = gpd.GeoDataFrame(education_locations, geometry=\"GEOMETRY\")\n",
    "education = education.drop(columns=[\"ogc_fid\", \"index\", \"school\", \"schoollabel\"]).rename(columns={\"School Name\":\"school_name\", \"location\": \"wkt\", \"status\":\"operational_status\", \"schoolLink\":\"school_link\"})\n",
    "education = education[[\"school_name\", \"school_link\", \"is_university\", \"is_high_school\", \"is_alt_edu\", \"operational_status\", \"wkt\", \"GEOMETRY\"]]\n",
    "education.rename_geometry(\"geom\", inplace=True)"
   ]
  },
  {
   "cell_type": "code",
   "execution_count": 57,
   "metadata": {},
   "outputs": [],
   "source": [
    "education.to_file(str(data_dir / \"ppm.sqlite\"), layer='education', driver=\"SQLite\", if_exists=\"replace\")"
   ]
  },
  {
   "cell_type": "code",
   "execution_count": 2,
   "metadata": {},
   "outputs": [],
   "source": [
    "# looks like we have some baddddd geocodes in here lets fix\n",
    "import geopandas as gpd\n",
    "import pathlib\n",
    "import sqlite3\n",
    "import pyogrio\n",
    "import pandas as pd\n",
    "\n",
    "data_dir = pathlib.Path(\"..\").resolve() / \"data\"\n",
    "spl_lite = str(data_dir / \"ppm_spatiallite.sqlite\")\n",
    "# splite_con = sqlite3.connect()\n",
    "education_spatial = gpd.read_file(spl_lite, layer='education')"
   ]
  },
  {
   "cell_type": "markdown",
   "metadata": {},
   "source": [
    "# TODO Outstanding\n",
    "We need a good way to check if is_public -> I manually added this post cleaning.\n",
    "I think this can mostly be found on wikipedia.\n",
    "\n",
    "Also should check for duplicate names\n"
   ]
  },
  {
   "cell_type": "code",
   "execution_count": 28,
   "metadata": {},
   "outputs": [],
   "source": [
    "from dotenv import dotenv_values\n",
    "from geopy.geocoders import GoogleV3\n",
    "config = dotenv_values(\".env\")\n",
    "google_geo = GoogleV3(api_key=config.get(\"GOOGLE_API_KEY\"))\n",
    "\n",
    "google_geocodes = education_spatial.school_name.apply(google_geo.geocode, region=\"AU\")\n",
    "education_spatial[\"google_locs\"] = google_geocodes"
   ]
  },
  {
   "cell_type": "code",
   "execution_count": 30,
   "metadata": {},
   "outputs": [],
   "source": [
    "education_spatial[\"google_locs\"] = google_geocodes\n",
    "education_spatial['point'] = education_spatial['google_locs'].apply(lambda loc: tuple(loc.point) if loc else None)"
   ]
  },
  {
   "cell_type": "code",
   "execution_count": 29,
   "metadata": {},
   "outputs": [],
   "source": [
    "config.get(\"GOOGLE_API_KEY\")"
   ]
  },
  {
   "cell_type": "code",
   "execution_count": 32,
   "metadata": {},
   "outputs": [],
   "source": [
    "from shapely.geometry import Point\n",
    "education_spatial[\"geometry\"] = education_spatial.point.apply(lambda x: Point(x[1], x[0]) if x else None)"
   ]
  },
  {
   "cell_type": "code",
   "execution_count": 57,
   "metadata": {},
   "outputs": [],
   "source": [
    "google_edu = gpd.GeoDataFrame(education_spatial, geometry=\"geometry\", crs=\"EPSG:4326\")\n",
    "from sqlalchemy import create_engine\n",
    "from sqlalchemy.event import listen\n",
    "# engine = create_engine(f'sqlite:///{spl_lite}', echo=True)\n",
    "# def load_spatialite(dbapi_conn, connection_record):\n",
    "#     dbapi_conn.enable_load_extension(True)\n",
    "#     dbapi_conn.load_extension('/usr/lib/x86_64-linux-gnu/mod_spatialite.so')\n",
    "# listen(engine, 'connect', load_spatialite)\n",
    "# conn = engine.connect()\n",
    "# google_edu[[\"school_name\", \"geometry\"]][~google_edu[\"geometry\"].isna()].to_postgis(\"education_google\", conn, schema=\"main\")\n",
    "google_edu[[\"school_name\", \"geometry\"]][~google_edu[\"geometry\"].isna()].to_file(str(data_dir / \"ppm.gpkg\"), layer='education_google', driver=\"GPKG\")"
   ]
  },
  {
   "cell_type": "code",
   "execution_count": 1,
   "metadata": {},
   "outputs": [
    {
     "data": {
      "text/html": [
       "<div>\n",
       "<style scoped>\n",
       "    .dataframe tbody tr th:only-of-type {\n",
       "        vertical-align: middle;\n",
       "    }\n",
       "\n",
       "    .dataframe tbody tr th {\n",
       "        vertical-align: top;\n",
       "    }\n",
       "\n",
       "    .dataframe thead th {\n",
       "        text-align: right;\n",
       "    }\n",
       "</style>\n",
       "<table border=\"1\" class=\"dataframe\">\n",
       "  <thead>\n",
       "    <tr style=\"text-align: right;\">\n",
       "      <th></th>\n",
       "      <th>school_name</th>\n",
       "      <th>geometry</th>\n",
       "    </tr>\n",
       "  </thead>\n",
       "  <tbody>\n",
       "    <tr>\n",
       "      <th>0</th>\n",
       "      <td>Mazenod College, Perth</td>\n",
       "      <td>POINT (116.04006 -32.00665)</td>\n",
       "    </tr>\n",
       "    <tr>\n",
       "      <th>1</th>\n",
       "      <td>Anglican Church Grammar School</td>\n",
       "      <td>POINT (153.05166 -27.48138)</td>\n",
       "    </tr>\n",
       "    <tr>\n",
       "      <th>2</th>\n",
       "      <td>Aquinas College</td>\n",
       "      <td>POINT (115.86375 -32.02565)</td>\n",
       "    </tr>\n",
       "    <tr>\n",
       "      <th>3</th>\n",
       "      <td>Armadale Senior High School</td>\n",
       "      <td>POINT (116.01710 -32.16126)</td>\n",
       "    </tr>\n",
       "    <tr>\n",
       "      <th>4</th>\n",
       "      <td>Brisbane State High School</td>\n",
       "      <td>POINT (153.01856 -27.48169)</td>\n",
       "    </tr>\n",
       "    <tr>\n",
       "      <th>...</th>\n",
       "      <td>...</td>\n",
       "      <td>...</td>\n",
       "    </tr>\n",
       "    <tr>\n",
       "      <th>156</th>\n",
       "      <td>Uppsala University</td>\n",
       "      <td>POINT (17.63001 59.85090)</td>\n",
       "    </tr>\n",
       "    <tr>\n",
       "      <th>157</th>\n",
       "      <td>Victoria University</td>\n",
       "      <td>POINT (144.89852 -37.79374)</td>\n",
       "    </tr>\n",
       "    <tr>\n",
       "      <th>158</th>\n",
       "      <td>West End State School</td>\n",
       "      <td>POINT (153.00800 -27.48022)</td>\n",
       "    </tr>\n",
       "    <tr>\n",
       "      <th>159</th>\n",
       "      <td>Wilderness School</td>\n",
       "      <td>POINT (138.60814 -34.89812)</td>\n",
       "    </tr>\n",
       "    <tr>\n",
       "      <th>160</th>\n",
       "      <td>Yale University</td>\n",
       "      <td>POINT (-72.92234 41.31632)</td>\n",
       "    </tr>\n",
       "  </tbody>\n",
       "</table>\n",
       "<p>161 rows × 2 columns</p>\n",
       "</div>"
      ],
      "text/plain": [
       "                        school_name                     geometry\n",
       "0            Mazenod College, Perth  POINT (116.04006 -32.00665)\n",
       "1    Anglican Church Grammar School  POINT (153.05166 -27.48138)\n",
       "2                   Aquinas College  POINT (115.86375 -32.02565)\n",
       "3       Armadale Senior High School  POINT (116.01710 -32.16126)\n",
       "4        Brisbane State High School  POINT (153.01856 -27.48169)\n",
       "..                              ...                          ...\n",
       "156              Uppsala University    POINT (17.63001 59.85090)\n",
       "157             Victoria University  POINT (144.89852 -37.79374)\n",
       "158           West End State School  POINT (153.00800 -27.48022)\n",
       "159               Wilderness School  POINT (138.60814 -34.89812)\n",
       "160                 Yale University   POINT (-72.92234 41.31632)\n",
       "\n",
       "[161 rows x 2 columns]"
      ]
     },
     "execution_count": 1,
     "metadata": {},
     "output_type": "execute_result"
    }
   ],
   "source": [
    "import geopandas as gpd\n",
    "import pathlib\n",
    "\n",
    "\n",
    "data_dir = pathlib.Path(\"..\").resolve() / \"data\"\n",
    "edu_gpkg = str(data_dir / \"ppm.gpkg\")\n",
    "education_for_update = gpd.read_file(edu_gpkg, layer='education_google', where=\"'school_name'!='Saint Scholastica\\'s College'\")\n",
    "education_for_update"
   ]
  },
  {
   "cell_type": "code",
   "execution_count": 5,
   "metadata": {},
   "outputs": [
    {
     "data": {
      "text/html": [
       "<div>\n",
       "<style scoped>\n",
       "    .dataframe tbody tr th:only-of-type {\n",
       "        vertical-align: middle;\n",
       "    }\n",
       "\n",
       "    .dataframe tbody tr th {\n",
       "        vertical-align: top;\n",
       "    }\n",
       "\n",
       "    .dataframe thead th {\n",
       "        text-align: right;\n",
       "    }\n",
       "</style>\n",
       "<table border=\"1\" class=\"dataframe\">\n",
       "  <thead>\n",
       "    <tr style=\"text-align: right;\">\n",
       "      <th></th>\n",
       "      <th>school_name</th>\n",
       "      <th>geometry</th>\n",
       "    </tr>\n",
       "  </thead>\n",
       "  <tbody>\n",
       "    <tr>\n",
       "      <th>0</th>\n",
       "      <td>Mazenod College, Perth</td>\n",
       "      <td>POINT (116.04006 -32.00665)</td>\n",
       "    </tr>\n",
       "    <tr>\n",
       "      <th>1</th>\n",
       "      <td>Anglican Church Grammar School</td>\n",
       "      <td>POINT (153.05166 -27.48138)</td>\n",
       "    </tr>\n",
       "    <tr>\n",
       "      <th>2</th>\n",
       "      <td>Aquinas College</td>\n",
       "      <td>POINT (115.86375 -32.02565)</td>\n",
       "    </tr>\n",
       "    <tr>\n",
       "      <th>3</th>\n",
       "      <td>Armadale Senior High School</td>\n",
       "      <td>POINT (116.01710 -32.16126)</td>\n",
       "    </tr>\n",
       "    <tr>\n",
       "      <th>4</th>\n",
       "      <td>Brisbane State High School</td>\n",
       "      <td>POINT (153.01856 -27.48169)</td>\n",
       "    </tr>\n",
       "    <tr>\n",
       "      <th>...</th>\n",
       "      <td>...</td>\n",
       "      <td>...</td>\n",
       "    </tr>\n",
       "    <tr>\n",
       "      <th>156</th>\n",
       "      <td>Uppsala University</td>\n",
       "      <td>POINT (17.63001 59.85090)</td>\n",
       "    </tr>\n",
       "    <tr>\n",
       "      <th>157</th>\n",
       "      <td>Victoria University</td>\n",
       "      <td>POINT (144.89852 -37.79374)</td>\n",
       "    </tr>\n",
       "    <tr>\n",
       "      <th>158</th>\n",
       "      <td>West End State School</td>\n",
       "      <td>POINT (153.00800 -27.48022)</td>\n",
       "    </tr>\n",
       "    <tr>\n",
       "      <th>159</th>\n",
       "      <td>Wilderness School</td>\n",
       "      <td>POINT (138.60814 -34.89812)</td>\n",
       "    </tr>\n",
       "    <tr>\n",
       "      <th>160</th>\n",
       "      <td>Yale University</td>\n",
       "      <td>POINT (-72.92234 41.31632)</td>\n",
       "    </tr>\n",
       "  </tbody>\n",
       "</table>\n",
       "<p>160 rows × 2 columns</p>\n",
       "</div>"
      ],
      "text/plain": [
       "                        school_name                     geometry\n",
       "0            Mazenod College, Perth  POINT (116.04006 -32.00665)\n",
       "1    Anglican Church Grammar School  POINT (153.05166 -27.48138)\n",
       "2                   Aquinas College  POINT (115.86375 -32.02565)\n",
       "3       Armadale Senior High School  POINT (116.01710 -32.16126)\n",
       "4        Brisbane State High School  POINT (153.01856 -27.48169)\n",
       "..                              ...                          ...\n",
       "156              Uppsala University    POINT (17.63001 59.85090)\n",
       "157             Victoria University  POINT (144.89852 -37.79374)\n",
       "158           West End State School  POINT (153.00800 -27.48022)\n",
       "159               Wilderness School  POINT (138.60814 -34.89812)\n",
       "160                 Yale University   POINT (-72.92234 41.31632)\n",
       "\n",
       "[160 rows x 2 columns]"
      ]
     },
     "execution_count": 5,
     "metadata": {},
     "output_type": "execute_result"
    }
   ],
   "source": [
    "mask = education_for_update[\"school_name\"] == \"Saint Scholastica's College\"\n",
    "locs_2_update = education_for_update[~mask]\n",
    "locs_2_update"
   ]
  },
  {
   "cell_type": "code",
   "execution_count": 6,
   "metadata": {},
   "outputs": [
    {
     "data": {
      "text/html": [
       "<div>\n",
       "<style scoped>\n",
       "    .dataframe tbody tr th:only-of-type {\n",
       "        vertical-align: middle;\n",
       "    }\n",
       "\n",
       "    .dataframe tbody tr th {\n",
       "        vertical-align: top;\n",
       "    }\n",
       "\n",
       "    .dataframe thead th {\n",
       "        text-align: right;\n",
       "    }\n",
       "</style>\n",
       "<table border=\"1\" class=\"dataframe\">\n",
       "  <thead>\n",
       "    <tr style=\"text-align: right;\">\n",
       "      <th></th>\n",
       "      <th>school_name</th>\n",
       "      <th>school_link</th>\n",
       "      <th>is_university</th>\n",
       "      <th>is_high_school</th>\n",
       "      <th>is_alt_edu</th>\n",
       "      <th>operational_status</th>\n",
       "      <th>wkt</th>\n",
       "      <th>is_public</th>\n",
       "      <th>geometry</th>\n",
       "    </tr>\n",
       "  </thead>\n",
       "  <tbody>\n",
       "    <tr>\n",
       "      <th>0</th>\n",
       "      <td>New College</td>\n",
       "      <td>http://www.wikidata.org/entity/Q1376987</td>\n",
       "      <td>True</td>\n",
       "      <td>False</td>\n",
       "      <td>False</td>\n",
       "      <td>NaN</td>\n",
       "      <td>Point(-1.25166667 51.75416667)</td>\n",
       "      <td>NaN</td>\n",
       "      <td>POINT (-1.25167 51.75417)</td>\n",
       "    </tr>\n",
       "    <tr>\n",
       "      <th>1</th>\n",
       "      <td>Mazenod College, Perth</td>\n",
       "      <td>http://www.wikidata.org/entity/Q1914698</td>\n",
       "      <td>False</td>\n",
       "      <td>True</td>\n",
       "      <td>False</td>\n",
       "      <td>NaN</td>\n",
       "      <td>Point(116.039 -32.0067)</td>\n",
       "      <td>NaN</td>\n",
       "      <td>POINT (116.03900 -32.00670)</td>\n",
       "    </tr>\n",
       "    <tr>\n",
       "      <th>2</th>\n",
       "      <td>Royal Military College</td>\n",
       "      <td>http://www.wikidata.org/entity/Q2171074</td>\n",
       "      <td>False</td>\n",
       "      <td>True</td>\n",
       "      <td>False</td>\n",
       "      <td>NaN</td>\n",
       "      <td>Point(149.165 -35.299722222)</td>\n",
       "      <td>NaN</td>\n",
       "      <td>POINT (149.16500 -35.29972)</td>\n",
       "    </tr>\n",
       "    <tr>\n",
       "      <th>3</th>\n",
       "      <td>Anglican Church Grammar School</td>\n",
       "      <td>http://www.wikidata.org/entity/Q4763439</td>\n",
       "      <td>False</td>\n",
       "      <td>True</td>\n",
       "      <td>False</td>\n",
       "      <td>NaN</td>\n",
       "      <td>Point(153.054 -27.4819)</td>\n",
       "      <td>NaN</td>\n",
       "      <td>POINT (153.05400 -27.48190)</td>\n",
       "    </tr>\n",
       "    <tr>\n",
       "      <th>4</th>\n",
       "      <td>Aquinas College</td>\n",
       "      <td>http://www.wikidata.org/entity/Q4782971</td>\n",
       "      <td>False</td>\n",
       "      <td>True</td>\n",
       "      <td>False</td>\n",
       "      <td>NaN</td>\n",
       "      <td>Point(145.235555555 -37.823055555)</td>\n",
       "      <td>NaN</td>\n",
       "      <td>POINT (145.23556 -37.82306)</td>\n",
       "    </tr>\n",
       "    <tr>\n",
       "      <th>...</th>\n",
       "      <td>...</td>\n",
       "      <td>...</td>\n",
       "      <td>...</td>\n",
       "      <td>...</td>\n",
       "      <td>...</td>\n",
       "      <td>...</td>\n",
       "      <td>...</td>\n",
       "      <td>...</td>\n",
       "      <td>...</td>\n",
       "    </tr>\n",
       "    <tr>\n",
       "      <th>170</th>\n",
       "      <td>Victoria University</td>\n",
       "      <td>http://www.wikidata.org/entity/Q180514</td>\n",
       "      <td>True</td>\n",
       "      <td>False</td>\n",
       "      <td>False</td>\n",
       "      <td>NaN</td>\n",
       "      <td>Point(151.18722 -33.88778)</td>\n",
       "      <td>NaN</td>\n",
       "      <td>POINT (151.18722 -33.88778)</td>\n",
       "    </tr>\n",
       "    <tr>\n",
       "      <th>171</th>\n",
       "      <td>West End State School</td>\n",
       "      <td>http://www.wikidata.org/entity/Q83303158</td>\n",
       "      <td>False</td>\n",
       "      <td>True</td>\n",
       "      <td>False</td>\n",
       "      <td>NaN</td>\n",
       "      <td>Point(153.0081 -27.4796)</td>\n",
       "      <td>NaN</td>\n",
       "      <td>POINT (153.00810 -27.47960)</td>\n",
       "    </tr>\n",
       "    <tr>\n",
       "      <th>172</th>\n",
       "      <td>Western Sydney University</td>\n",
       "      <td>http://www.wikidata.org/entity/Q1141452</td>\n",
       "      <td>True</td>\n",
       "      <td>False</td>\n",
       "      <td>False</td>\n",
       "      <td>NaN</td>\n",
       "      <td>Point(147.322777777 -42.904722222)</td>\n",
       "      <td>NaN</td>\n",
       "      <td>POINT (147.32278 -42.90472)</td>\n",
       "    </tr>\n",
       "    <tr>\n",
       "      <th>173</th>\n",
       "      <td>Wilderness School</td>\n",
       "      <td>http://www.wikidata.org/entity/Q8001157</td>\n",
       "      <td>False</td>\n",
       "      <td>True</td>\n",
       "      <td>False</td>\n",
       "      <td>NaN</td>\n",
       "      <td>Point(151.200408369 -33.883255413)</td>\n",
       "      <td>NaN</td>\n",
       "      <td>POINT (151.20041 -33.88326)</td>\n",
       "    </tr>\n",
       "    <tr>\n",
       "      <th>174</th>\n",
       "      <td>Yale University</td>\n",
       "      <td>http://www.wikidata.org/entity/Q49112</td>\n",
       "      <td>True</td>\n",
       "      <td>False</td>\n",
       "      <td>False</td>\n",
       "      <td>NaN</td>\n",
       "      <td>Point(115.818611111 -31.980277777)</td>\n",
       "      <td>NaN</td>\n",
       "      <td>POINT (115.81861 -31.98028)</td>\n",
       "    </tr>\n",
       "  </tbody>\n",
       "</table>\n",
       "<p>175 rows × 9 columns</p>\n",
       "</div>"
      ],
      "text/plain": [
       "                        school_name                               school_link  \\\n",
       "0                       New College   http://www.wikidata.org/entity/Q1376987   \n",
       "1            Mazenod College, Perth   http://www.wikidata.org/entity/Q1914698   \n",
       "2            Royal Military College   http://www.wikidata.org/entity/Q2171074   \n",
       "3    Anglican Church Grammar School   http://www.wikidata.org/entity/Q4763439   \n",
       "4                   Aquinas College   http://www.wikidata.org/entity/Q4782971   \n",
       "..                              ...                                       ...   \n",
       "170             Victoria University    http://www.wikidata.org/entity/Q180514   \n",
       "171           West End State School  http://www.wikidata.org/entity/Q83303158   \n",
       "172       Western Sydney University   http://www.wikidata.org/entity/Q1141452   \n",
       "173               Wilderness School   http://www.wikidata.org/entity/Q8001157   \n",
       "174                 Yale University     http://www.wikidata.org/entity/Q49112   \n",
       "\n",
       "     is_university  is_high_school  is_alt_edu operational_status  \\\n",
       "0             True           False       False                NaN   \n",
       "1            False            True       False                NaN   \n",
       "2            False            True       False                NaN   \n",
       "3            False            True       False                NaN   \n",
       "4            False            True       False                NaN   \n",
       "..             ...             ...         ...                ...   \n",
       "170           True           False       False                NaN   \n",
       "171          False            True       False                NaN   \n",
       "172           True           False       False                NaN   \n",
       "173          False            True       False                NaN   \n",
       "174           True           False       False                NaN   \n",
       "\n",
       "                                    wkt  is_public  \\\n",
       "0        Point(-1.25166667 51.75416667)        NaN   \n",
       "1               Point(116.039 -32.0067)        NaN   \n",
       "2          Point(149.165 -35.299722222)        NaN   \n",
       "3               Point(153.054 -27.4819)        NaN   \n",
       "4    Point(145.235555555 -37.823055555)        NaN   \n",
       "..                                  ...        ...   \n",
       "170          Point(151.18722 -33.88778)        NaN   \n",
       "171            Point(153.0081 -27.4796)        NaN   \n",
       "172  Point(147.322777777 -42.904722222)        NaN   \n",
       "173  Point(151.200408369 -33.883255413)        NaN   \n",
       "174  Point(115.818611111 -31.980277777)        NaN   \n",
       "\n",
       "                        geometry  \n",
       "0      POINT (-1.25167 51.75417)  \n",
       "1    POINT (116.03900 -32.00670)  \n",
       "2    POINT (149.16500 -35.29972)  \n",
       "3    POINT (153.05400 -27.48190)  \n",
       "4    POINT (145.23556 -37.82306)  \n",
       "..                           ...  \n",
       "170  POINT (151.18722 -33.88778)  \n",
       "171  POINT (153.00810 -27.47960)  \n",
       "172  POINT (147.32278 -42.90472)  \n",
       "173  POINT (151.20041 -33.88326)  \n",
       "174  POINT (115.81861 -31.98028)  \n",
       "\n",
       "[175 rows x 9 columns]"
      ]
     },
     "execution_count": 6,
     "metadata": {},
     "output_type": "execute_result"
    }
   ],
   "source": [
    "import geopandas as gpd\n",
    "import pathlib\n",
    "\n",
    "data_dir = pathlib.Path(\"..\").resolve() / \"data\"\n",
    "spl_lite = str(data_dir / \"ppm_spatiallite.sqlite\")\n",
    "# splite_con = sqlite3.connect()\n",
    "education_spatial = gpd.read_file(spl_lite, layer='education')\n",
    "education_spatial"
   ]
  },
  {
   "cell_type": "code",
   "execution_count": 15,
   "metadata": {},
   "outputs": [],
   "source": [
    "comparison = education_spatial.merge(locs_2_update, on=[\"school_name\"])\n"
   ]
  },
  {
   "cell_type": "code",
   "execution_count": 14,
   "metadata": {},
   "outputs": [
    {
     "name": "stderr",
     "output_type": "stream",
     "text": [
      "/tmp/ipykernel_276934/2880340509.py:1: UserWarning: Geometry is in a geographic CRS. Results from 'distance' are likely incorrect. Use 'GeoSeries.to_crs()' to re-project geometries to a projected CRS before this operation.\n",
      "\n",
      "  distances = comparison[gpd.GeoSeries(comparison.geometry_x).distance(gpd.GeoSeries(comparison.geometry_y)) > 1]\n"
     ]
    },
    {
     "ename": "NameError",
     "evalue": "name 'geometry_y' is not defined",
     "output_type": "error",
     "traceback": [
      "\u001B[0;31m---------------------------------------------------------------------------\u001B[0m",
      "\u001B[0;31mNameError\u001B[0m                                 Traceback (most recent call last)",
      "Cell \u001B[0;32mIn[14], line 2\u001B[0m\n\u001B[1;32m      1\u001B[0m distances \u001B[38;5;241m=\u001B[39m comparison[gpd\u001B[38;5;241m.\u001B[39mGeoSeries(comparison\u001B[38;5;241m.\u001B[39mgeometry_x)\u001B[38;5;241m.\u001B[39mdistance(gpd\u001B[38;5;241m.\u001B[39mGeoSeries(comparison\u001B[38;5;241m.\u001B[39mgeometry_y)) \u001B[38;5;241m>\u001B[39m \u001B[38;5;241m1\u001B[39m]\n\u001B[0;32m----> 2\u001B[0m gpd\u001B[38;5;241m.\u001B[39mGeoDataFrame(distances, geometry\u001B[38;5;241m=\u001B[39m\u001B[43mgeometry_y\u001B[49m)\u001B[38;5;241m.\u001B[39mto_file(\u001B[38;5;28mstr\u001B[39m(data_dir \u001B[38;5;241m/\u001B[39m \u001B[38;5;124m\"\u001B[39m\u001B[38;5;124mppm.gpkg\u001B[39m\u001B[38;5;124m\"\u001B[39m), layer\u001B[38;5;241m=\u001B[39m\u001B[38;5;124m'\u001B[39m\u001B[38;5;124mdistances\u001B[39m\u001B[38;5;124m'\u001B[39m, driver\u001B[38;5;241m=\u001B[39m\u001B[38;5;124m\"\u001B[39m\u001B[38;5;124mGPKG\u001B[39m\u001B[38;5;124m\"\u001B[39m)\n",
      "\u001B[0;31mNameError\u001B[0m: name 'geometry_y' is not defined"
     ]
    }
   ],
   "source": [
    "distances = comparison[gpd.GeoSeries(comparison.geometry_x).distance(gpd.GeoSeries(comparison.geometry_y)) > 1]\n",
    "gpd.GeoDataFrame(distances, geometry=geometry_y).to_file(str(data_dir / \"ppm.gpkg\"), layer='distances', driver=\"GPKG\")\n"
   ]
  },
  {
   "cell_type": "code",
   "execution_count": null,
   "metadata": {},
   "outputs": [],
   "source": []
  }
 ],
 "metadata": {
  "kernelspec": {
   "display_name": "Python 3 (ipykernel)",
   "language": "python",
   "name": "python3"
  },
  "language_info": {
   "codemirror_mode": {
    "name": "ipython",
    "version": 3
   },
   "file_extension": ".py",
   "mimetype": "text/x-python",
   "name": "python",
   "nbconvert_exporter": "python",
   "pygments_lexer": "ipython3",
   "version": "3.10.6"
  }
 },
 "nbformat": 4,
 "nbformat_minor": 1
}
