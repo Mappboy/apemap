{
 "cells": [
  {
   "cell_type": "markdown",
   "metadata": {},
   "source": [
    "# Basic Analysis\n",
    "\n",
    "We are using KeplerGL\n",
    "```\n",
    "jupyter nbextension install --py --sys-prefix keplergl # can be skipped for notebook 5.3 and above\n",
    "jupyter nbextension enable --py --sys-prefix keplergl # can be skipped for notebook 5.3 and above\n",
    "```"
   ]
  },
  {
   "cell_type": "code",
   "execution_count": 1,
   "metadata": {},
   "outputs": [
    {
     "data": {
      "text/plain": "<IPython.core.display.HTML object>",
      "text/html": "<style>.container { width:100% !important; }</style>"
     },
     "metadata": {},
     "output_type": "display_data"
    }
   ],
   "source": [
    "from IPython.display import display, HTML\n",
    "display(HTML(\"<style>.container { width:100% !important; }</style>\"))"
   ]
  },
  {
   "cell_type": "code",
   "execution_count": 2,
   "metadata": {},
   "outputs": [],
   "source": [
    "import geopandas as gpd\n",
    "import pathlib\n",
    "import sqlite3\n",
    "import pandas as pd\n",
    "\n",
    "data_dir = pathlib.Path(\"..\").resolve() / \"data\"\n",
    "db_con = sqlite3.connect(str(data_dir / \"ppm.gpkg\"))\n",
    "# Create connection and load spatialite extension\n",
    "df = pd.read_sql('SELECT * FROM \"ministers\" AS \"a\" JOIN \"education\" AS \"b\" ON (\"a\".\"school name\" = \"b\".\"school_name\");', db_con)\n",
    "# df = gpd.read_postgis('SELECT * FROM \"ministers\" AS \"a\" JOIN \"education\" AS \"b\" ON (\"a\".\"school name\" = \"b\".\"school_name\");', db_con, geom_col=\"geom\")\n",
    "geometry = gpd.GeoSeries.from_wkt(df.wkt)\n",
    "df[\"Longitude\"] =geometry.x\n",
    "df[\"Latitude\" ] =geometry.y\n",
    "# gdf = gpd.GeoDataFrame(df, geometry=geometry, crs=4326)\n",
    "# gdf.drop(columns=[\"geom\"], inplace=True)\n",
    "df.drop(columns=[\"geom\", \"wkt\"], inplace=True)"
   ]
  },
  {
   "cell_type": "code",
   "execution_count": 3,
   "metadata": {
    "scrolled": true
   },
   "outputs": [
    {
     "name": "stdout",
     "output_type": "stream",
     "text": [
      "User Guide: https://docs.kepler.gl/docs/keplergl-jupyter\n"
     ]
    },
    {
     "name": "stderr",
     "output_type": "stream",
     "text": [
      "/home/cam/.cache/pypoetry/virtualenvs/pollypedagogymap-NEXWE1VB-py3.10/lib/python3.10/site-packages/keplergl/keplergl.py:22: UserWarning: DataFrame columns are not unique, some columns will be omitted.\n",
      "  return df.to_dict('split')\n",
      "/home/cam/.cache/pypoetry/virtualenvs/pollypedagogymap-NEXWE1VB-py3.10/lib/python3.10/site-packages/jupyter_client/session.py:719: UserWarning: Message serialization failed with:\n",
      "Out of range float values are not JSON compliant\n",
      "Supporting this message is deprecated in jupyter-client 7, please make sure your message is JSON-compliant\n",
      "  content = self.pack(content)\n"
     ]
    },
    {
     "data": {
      "text/plain": "KeplerGl(data={'schools': {'index': [0, 1, 2, 3, 4, 5, 6, 7, 8, 9, 10, 11, 12, 13, 14, 15, 16, 17, 18, 19, 20,…",
      "application/vnd.jupyter.widget-view+json": {
       "version_major": 2,
       "version_minor": 0,
       "model_id": "a78aaec899c3493aad27e0ff24ad658c"
      }
     },
     "metadata": {},
     "output_type": "display_data"
    }
   ],
   "source": [
    "from keplergl import KeplerGl\n",
    "map = KeplerGl(height=1600)\n",
    "map.add_data(data=df, name=\"schools\")\n",
    "map"
   ]
  },
  {
   "cell_type": "code",
   "execution_count": 4,
   "metadata": {},
   "outputs": [],
   "source": [
    "df_missing_high_school = pd.read_sql('SELECT * FROM \"ministers\" AS \"a\" LEFT OUTER JOIN (SELECT * FROM \"education\" WHERE \"is_high_school\" = 1) AS \"b\" ON (\"a\".\"school name\" = \"b\".\"school_name\") ;', db_con)"
   ]
  },
  {
   "cell_type": "code",
   "execution_count": 5,
   "metadata": {},
   "outputs": [],
   "source": [
    "members_with_no_hs = df_missing_high_school[~df_missing_high_school.member.isin(df_missing_high_school [df_missing_high_school.is_high_school > 0][\"member\"])].sort_values(by=[\"member\"])"
   ]
  },
  {
   "cell_type": "code",
   "execution_count": 13,
   "outputs": [
    {
     "data": {
      "text/plain": "                 member                                  wiki link  mp_ids\n356    Andrew McLachlan   http://www.wikidata.org/entity/Q16732352  287062\n141      Andrew Wallace   http://www.wikidata.org/entity/Q25756194  265967\n174        Anne Webster   http://www.wikidata.org/entity/Q64216519  281688\n415    Bridget McKenzie    http://www.wikidata.org/entity/Q4966734  207825\n220      Carina Garland  http://www.wikidata.org/entity/Q112108318  295588\n..                  ...                                        ...     ...\n80        Warren Entsch    http://www.wikidata.org/entity/Q7970178     7K6\n326         Wendy Askew   http://www.wikidata.org/entity/Q61983633  281558\n224  Zaneta Mascarenhas  http://www.wikidata.org/entity/Q112106576  298800\n241          Zoe Daniel   http://www.wikidata.org/entity/Q65628647   008CH\n217        Zoe McKenzie  http://www.wikidata.org/entity/Q112114762  124514\n\n[85 rows x 3 columns]",
      "text/html": "<div>\n<style scoped>\n    .dataframe tbody tr th:only-of-type {\n        vertical-align: middle;\n    }\n\n    .dataframe tbody tr th {\n        vertical-align: top;\n    }\n\n    .dataframe thead th {\n        text-align: right;\n    }\n</style>\n<table border=\"1\" class=\"dataframe\">\n  <thead>\n    <tr style=\"text-align: right;\">\n      <th></th>\n      <th>member</th>\n      <th>wiki link</th>\n      <th>mp_ids</th>\n    </tr>\n  </thead>\n  <tbody>\n    <tr>\n      <th>356</th>\n      <td>Andrew McLachlan</td>\n      <td>http://www.wikidata.org/entity/Q16732352</td>\n      <td>287062</td>\n    </tr>\n    <tr>\n      <th>141</th>\n      <td>Andrew Wallace</td>\n      <td>http://www.wikidata.org/entity/Q25756194</td>\n      <td>265967</td>\n    </tr>\n    <tr>\n      <th>174</th>\n      <td>Anne Webster</td>\n      <td>http://www.wikidata.org/entity/Q64216519</td>\n      <td>281688</td>\n    </tr>\n    <tr>\n      <th>415</th>\n      <td>Bridget McKenzie</td>\n      <td>http://www.wikidata.org/entity/Q4966734</td>\n      <td>207825</td>\n    </tr>\n    <tr>\n      <th>220</th>\n      <td>Carina Garland</td>\n      <td>http://www.wikidata.org/entity/Q112108318</td>\n      <td>295588</td>\n    </tr>\n    <tr>\n      <th>...</th>\n      <td>...</td>\n      <td>...</td>\n      <td>...</td>\n    </tr>\n    <tr>\n      <th>80</th>\n      <td>Warren Entsch</td>\n      <td>http://www.wikidata.org/entity/Q7970178</td>\n      <td>7K6</td>\n    </tr>\n    <tr>\n      <th>326</th>\n      <td>Wendy Askew</td>\n      <td>http://www.wikidata.org/entity/Q61983633</td>\n      <td>281558</td>\n    </tr>\n    <tr>\n      <th>224</th>\n      <td>Zaneta Mascarenhas</td>\n      <td>http://www.wikidata.org/entity/Q112106576</td>\n      <td>298800</td>\n    </tr>\n    <tr>\n      <th>241</th>\n      <td>Zoe Daniel</td>\n      <td>http://www.wikidata.org/entity/Q65628647</td>\n      <td>008CH</td>\n    </tr>\n    <tr>\n      <th>217</th>\n      <td>Zoe McKenzie</td>\n      <td>http://www.wikidata.org/entity/Q112114762</td>\n      <td>124514</td>\n    </tr>\n  </tbody>\n</table>\n<p>85 rows × 3 columns</p>\n</div>"
     },
     "execution_count": 13,
     "metadata": {},
     "output_type": "execute_result"
    }
   ],
   "source": [
    "member_mps = members_with_no_hs.drop_duplicates([\"member\", \"wiki link\" , \"mp_ids\"])[[\"member\", \"wiki link\" , \"mp_ids\"]]\n",
    "member_mps"
   ],
   "metadata": {
    "collapsed": false
   }
  },
  {
   "cell_type": "code",
   "execution_count": 15,
   "outputs": [],
   "source": [
    "import requests\n",
    "import urllib3\n",
    "urllib3.disable_warnings()\n",
    "\n",
    "PARLIMENTARIAN_HANDBOOK = \"https://handbookapi.aph.gov.au/api/individuals?$orderby=FamilyName,GivenName &$filter=PHID eq '{ph_id}'\"\n",
    "def parlimentarian_handbook_secondary_school(ph_id):\n",
    "    r = requests.get(PARLIMENTARIAN_HANDBOOK.format(ph_id=ph_id), verify=False)\n",
    "    r.raise_for_status()\n",
    "    query = r.json()\n",
    "    values = query.get(\"value\", [])\n",
    "    if len(values):\n",
    "        return \",\".join([value.get(\"SecondarySchool\") for value in values])"
   ],
   "metadata": {
    "collapsed": false
   }
  },
  {
   "cell_type": "code",
   "execution_count": 16,
   "outputs": [],
   "source": [
    "member_mps[\"school_names\"] = member_mps.mp_ids.apply(parlimentarian_handbook_secondary_school).str.split(\"/\")"
   ],
   "metadata": {
    "collapsed": false
   }
  },
  {
   "cell_type": "markdown",
   "source": [],
   "metadata": {
    "collapsed": false
   }
  },
  {
   "cell_type": "code",
   "execution_count": 26,
   "outputs": [],
   "source": [
    "member_mps[\"no_schools\"] = member_mps.school_names.map(lambda d: len([ _ for _ in d if _]))"
   ],
   "metadata": {
    "collapsed": false
   }
  },
  {
   "cell_type": "code",
   "execution_count": 30,
   "outputs": [],
   "source": [
    "members_to_update = member_mps[member_mps[\"no_schools\"]> 0].explode(\"school_names\")[[\"member\",\"school_names\"]]"
   ],
   "metadata": {
    "collapsed": false
   }
  },
  {
   "cell_type": "code",
   "execution_count": 37,
   "outputs": [],
   "source": [
    "# Add mp id to all ministers\n",
    "import pathlib\n",
    "import sqlite3\n",
    "import pandas as pd\n",
    "\n",
    "data_dir = pathlib.Path(\"..\").resolve() / \"data\"\n",
    "db_con = sqlite3.connect(str(data_dir / \"ppm.gpkg\"))\n",
    "# Create connection and load spatialite extension\n",
    "df = pd.read_sql('SELECT * FROM \"ministers\"', db_con)\n",
    "df.drop_duplicates(\"member\", inplace=True)\n",
    "ministers = df.merge(members_to_update)\n",
    "# ministers.to_sql(\"ministers\", db_con, if_exists=\"replace\", index=False)\n"
   ],
   "metadata": {
    "collapsed": false
   }
  },
  {
   "cell_type": "code",
   "execution_count": 38,
   "outputs": [],
   "source": [
    "ministers[\"school name\"] = ministers[\"school_names\"]"
   ],
   "metadata": {
    "collapsed": false
   }
  },
  {
   "cell_type": "code",
   "execution_count": 39,
   "outputs": [],
   "source": [
    "ministers.drop(columns=\"school_names\", inplace=True)"
   ],
   "metadata": {
    "collapsed": false
   }
  },
  {
   "cell_type": "code",
   "execution_count": 40,
   "outputs": [
    {
     "data": {
      "text/plain": "84"
     },
     "execution_count": 40,
     "metadata": {},
     "output_type": "execute_result"
    }
   ],
   "source": [
    "ministers.to_sql(\"ministers\", db_con, if_exists=\"append\", index=False)"
   ],
   "metadata": {
    "collapsed": false
   }
  },
  {
   "cell_type": "code",
   "execution_count": 41,
   "outputs": [],
   "source": [
    "# update missing schools\n",
    "import pathlib\n",
    "import sqlite3\n",
    "import geopandas as gpd\n",
    "\n",
    "data_dir = pathlib.Path(\"..\").resolve() / \"data\"\n",
    "gpkg = str(data_dir / \"ppm.gpkg\")\n",
    "# Create connection and load spatialite extension\n",
    "df = gpd.read_file(gpkg, layer=\"education\")"
   ],
   "metadata": {
    "collapsed": false
   }
  },
  {
   "cell_type": "code",
   "execution_count": 46,
   "outputs": [],
   "source": [
    "schools_to_append = gpd.GeoDataFrame(members_to_update[~members_to_update[\"school_names\"].isin(df.school_name)][\"school_names\"])"
   ],
   "metadata": {
    "collapsed": false
   }
  },
  {
   "cell_type": "code",
   "execution_count": 49,
   "outputs": [],
   "source": [
    "schools_to_append.rename(columns={\"school_names\": \"school_name\"}, inplace=True)"
   ],
   "metadata": {
    "collapsed": false
   }
  },
  {
   "cell_type": "code",
   "execution_count": 51,
   "outputs": [
    {
     "name": "stderr",
     "output_type": "stream",
     "text": [
      "/tmp/ipykernel_81481/3504980194.py:4: FutureWarning: The frame.append method is deprecated and will be removed from pandas in a future version. Use pandas.concat instead.\n",
      "  df.append(schools_to_append)\n",
      "/home/cam/.cache/pypoetry/virtualenvs/pollypedagogymap-NEXWE1VB-py3.10/lib/python3.10/site-packages/geopandas/array.py:1406: UserWarning: CRS not set for some of the concatenation inputs. Setting output's CRS as WGS 84 (the single non-null crs provided).\n",
      "  warnings.warn(\n"
     ]
    },
    {
     "data": {
      "text/plain": "     ogc_fid                       school_name  \\\n0        1.0                       New College   \n1        2.0            Mazenod College, Perth   \n2        3.0            Royal Military College   \n3        4.0    Anglican Church Grammar School   \n4        5.0                   Aquinas College   \n..       ...                               ...   \n224      NaN       Kambalda Senior High School   \n224      NaN                 John Paul College   \n241      NaN  Queechy High School (Launceston)   \n241      NaN            Rosny College (Hobart)   \n217      NaN            Lauriston Girls School   \n\n                                 school_link  is_university  is_high_school  \\\n0    http://www.wikidata.org/entity/Q1376987              1               0   \n1    http://www.wikidata.org/entity/Q1914698              0               1   \n2    http://www.wikidata.org/entity/Q2171074              0               0   \n3    http://www.wikidata.org/entity/Q4763439              0               1   \n4    http://www.wikidata.org/entity/Q4782971              0               1   \n..                                       ...            ...             ...   \n224                                      NaN              0               1   \n224                                      NaN              0               1   \n241                                      NaN              0               1   \n241                                      NaN              0               1   \n217                                      NaN              0               1   \n\n     is_alt_edu operational_status                                 wkt  \\\n0             0                NaN      Point(-1.25166667 51.75416667)   \n1             0                NaN             Point(116.039 -32.0067)   \n2             1                NaN        Point(149.165 -35.299722222)   \n3             0                NaN             Point(153.054 -27.4819)   \n4             0                NaN  Point(145.235555555 -37.823055555)   \n..          ...                ...                                 ...   \n224           0                NaN                                 NaN   \n224           0                NaN                                 NaN   \n241           0                NaN                                 NaN   \n241           0                NaN                                 NaN   \n217           0                NaN                                 NaN   \n\n     is_public                     geometry  \n0          NaN    POINT (-1.25167 51.75417)  \n1          NaN  POINT (116.03900 -32.00670)  \n2          NaN  POINT (149.16500 -35.29972)  \n3          NaN  POINT (153.05400 -27.48190)  \n4          NaN  POINT (145.23556 -37.82306)  \n..         ...                          ...  \n224        NaN                         None  \n224        NaN                         None  \n241        NaN                         None  \n241        NaN                         None  \n217        NaN                         None  \n\n[287 rows x 10 columns]",
      "text/html": "<div>\n<style scoped>\n    .dataframe tbody tr th:only-of-type {\n        vertical-align: middle;\n    }\n\n    .dataframe tbody tr th {\n        vertical-align: top;\n    }\n\n    .dataframe thead th {\n        text-align: right;\n    }\n</style>\n<table border=\"1\" class=\"dataframe\">\n  <thead>\n    <tr style=\"text-align: right;\">\n      <th></th>\n      <th>ogc_fid</th>\n      <th>school_name</th>\n      <th>school_link</th>\n      <th>is_university</th>\n      <th>is_high_school</th>\n      <th>is_alt_edu</th>\n      <th>operational_status</th>\n      <th>wkt</th>\n      <th>is_public</th>\n      <th>geometry</th>\n    </tr>\n  </thead>\n  <tbody>\n    <tr>\n      <th>0</th>\n      <td>1.0</td>\n      <td>New College</td>\n      <td>http://www.wikidata.org/entity/Q1376987</td>\n      <td>1</td>\n      <td>0</td>\n      <td>0</td>\n      <td>NaN</td>\n      <td>Point(-1.25166667 51.75416667)</td>\n      <td>NaN</td>\n      <td>POINT (-1.25167 51.75417)</td>\n    </tr>\n    <tr>\n      <th>1</th>\n      <td>2.0</td>\n      <td>Mazenod College, Perth</td>\n      <td>http://www.wikidata.org/entity/Q1914698</td>\n      <td>0</td>\n      <td>1</td>\n      <td>0</td>\n      <td>NaN</td>\n      <td>Point(116.039 -32.0067)</td>\n      <td>NaN</td>\n      <td>POINT (116.03900 -32.00670)</td>\n    </tr>\n    <tr>\n      <th>2</th>\n      <td>3.0</td>\n      <td>Royal Military College</td>\n      <td>http://www.wikidata.org/entity/Q2171074</td>\n      <td>0</td>\n      <td>0</td>\n      <td>1</td>\n      <td>NaN</td>\n      <td>Point(149.165 -35.299722222)</td>\n      <td>NaN</td>\n      <td>POINT (149.16500 -35.29972)</td>\n    </tr>\n    <tr>\n      <th>3</th>\n      <td>4.0</td>\n      <td>Anglican Church Grammar School</td>\n      <td>http://www.wikidata.org/entity/Q4763439</td>\n      <td>0</td>\n      <td>1</td>\n      <td>0</td>\n      <td>NaN</td>\n      <td>Point(153.054 -27.4819)</td>\n      <td>NaN</td>\n      <td>POINT (153.05400 -27.48190)</td>\n    </tr>\n    <tr>\n      <th>4</th>\n      <td>5.0</td>\n      <td>Aquinas College</td>\n      <td>http://www.wikidata.org/entity/Q4782971</td>\n      <td>0</td>\n      <td>1</td>\n      <td>0</td>\n      <td>NaN</td>\n      <td>Point(145.235555555 -37.823055555)</td>\n      <td>NaN</td>\n      <td>POINT (145.23556 -37.82306)</td>\n    </tr>\n    <tr>\n      <th>...</th>\n      <td>...</td>\n      <td>...</td>\n      <td>...</td>\n      <td>...</td>\n      <td>...</td>\n      <td>...</td>\n      <td>...</td>\n      <td>...</td>\n      <td>...</td>\n      <td>...</td>\n    </tr>\n    <tr>\n      <th>224</th>\n      <td>NaN</td>\n      <td>Kambalda Senior High School</td>\n      <td>NaN</td>\n      <td>0</td>\n      <td>1</td>\n      <td>0</td>\n      <td>NaN</td>\n      <td>NaN</td>\n      <td>NaN</td>\n      <td>None</td>\n    </tr>\n    <tr>\n      <th>224</th>\n      <td>NaN</td>\n      <td>John Paul College</td>\n      <td>NaN</td>\n      <td>0</td>\n      <td>1</td>\n      <td>0</td>\n      <td>NaN</td>\n      <td>NaN</td>\n      <td>NaN</td>\n      <td>None</td>\n    </tr>\n    <tr>\n      <th>241</th>\n      <td>NaN</td>\n      <td>Queechy High School (Launceston)</td>\n      <td>NaN</td>\n      <td>0</td>\n      <td>1</td>\n      <td>0</td>\n      <td>NaN</td>\n      <td>NaN</td>\n      <td>NaN</td>\n      <td>None</td>\n    </tr>\n    <tr>\n      <th>241</th>\n      <td>NaN</td>\n      <td>Rosny College (Hobart)</td>\n      <td>NaN</td>\n      <td>0</td>\n      <td>1</td>\n      <td>0</td>\n      <td>NaN</td>\n      <td>NaN</td>\n      <td>NaN</td>\n      <td>None</td>\n    </tr>\n    <tr>\n      <th>217</th>\n      <td>NaN</td>\n      <td>Lauriston Girls School</td>\n      <td>NaN</td>\n      <td>0</td>\n      <td>1</td>\n      <td>0</td>\n      <td>NaN</td>\n      <td>NaN</td>\n      <td>NaN</td>\n      <td>None</td>\n    </tr>\n  </tbody>\n</table>\n<p>287 rows × 10 columns</p>\n</div>"
     },
     "execution_count": 51,
     "metadata": {},
     "output_type": "execute_result"
    }
   ],
   "source": [
    "schools_to_append[\"is_university\"]=0\n",
    "schools_to_append[\"is_high_school\"]=1\n",
    "schools_to_append[\"is_alt_edu\"]=0\n",
    "df.append(schools_to_append)"
   ],
   "metadata": {
    "collapsed": false
   }
  },
  {
   "cell_type": "code",
   "execution_count": null,
   "outputs": [],
   "source": [],
   "metadata": {
    "collapsed": false
   }
  }
 ],
 "metadata": {
  "kernelspec": {
   "display_name": "Python 3 (ipykernel)",
   "language": "python",
   "name": "python3"
  },
  "language_info": {
   "codemirror_mode": {
    "name": "ipython",
    "version": 3
   },
   "file_extension": ".py",
   "mimetype": "text/x-python",
   "name": "python",
   "nbconvert_exporter": "python",
   "pygments_lexer": "ipython3",
   "version": "3.10.6"
  }
 },
 "nbformat": 4,
 "nbformat_minor": 1
}
