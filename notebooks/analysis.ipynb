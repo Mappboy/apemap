{
 "cells": [
  {
   "cell_type": "markdown",
   "metadata": {},
   "source": [
    "# Basic Analysis\n",
    "\n",
    "We are using KeplerGL\n",
    "```\n",
    "jupyter nbextension install --py --sys-prefix keplergl # can be skipped for notebook 5.3 and above\n",
    "jupyter nbextension enable --py --sys-prefix keplergl # can be skipped for notebook 5.3 and above\n",
    "```"
   ]
  },
  {
   "cell_type": "code",
   "execution_count": 5,
   "metadata": {},
   "outputs": [
    {
     "data": {
      "text/plain": "<IPython.core.display.HTML object>",
      "text/html": "<style>.container { width:100% !important; }</style>"
     },
     "metadata": {},
     "output_type": "display_data"
    }
   ],
   "source": [
    "from IPython.display import display, HTML\n",
    "display(HTML(\"<style>.container { width:100% !important; }</style>\"))"
   ]
  },
  {
   "cell_type": "code",
   "execution_count": 6,
   "metadata": {},
   "outputs": [],
   "source": [
    "import geopandas as gpd\n",
    "import pathlib\n",
    "import sqlite3\n",
    "import pandas as pd\n",
    "\n",
    "data_dir = pathlib.Path(\"..\").resolve() / \"data\"\n",
    "db_con = sqlite3.connect(str(data_dir / \"ppm.gpkg\"))\n",
    "# Create connection and load spatialite extension\n",
    "df = pd.read_sql('SELECT * FROM \"ministers\" AS \"a\" JOIN \"education\" AS \"b\" ON (\"a\".\"school name\" = \"b\".\"school_name\");', db_con)\n",
    "# df = gpd.read_postgis('SELECT * FROM \"ministers\" AS \"a\" JOIN \"education\" AS \"b\" ON (\"a\".\"school name\" = \"b\".\"school_name\");', db_con, geom_col=\"geom\")\n",
    "geometry = gpd.GeoSeries.from_wkt(df.wkt)\n",
    "df[\"Longitude\"] =geometry.x\n",
    "df[\"Latitude\" ] =geometry.y\n",
    "# gdf = gpd.GeoDataFrame(df, geometry=geometry, crs=4326)\n",
    "# gdf.drop(columns=[\"geom\"], inplace=True)\n",
    "df.drop(columns=[\"geom\", \"wkt\"], inplace=True)"
   ]
  },
  {
   "cell_type": "code",
   "execution_count": 7,
   "metadata": {
    "scrolled": true
   },
   "outputs": [
    {
     "name": "stdout",
     "output_type": "stream",
     "text": [
      "User Guide: https://docs.kepler.gl/docs/keplergl-jupyter\n"
     ]
    },
    {
     "name": "stderr",
     "output_type": "stream",
     "text": [
      "/home/cam/.cache/pypoetry/virtualenvs/pollypedagogymap-NEXWE1VB-py3.10/lib/python3.10/site-packages/keplergl/keplergl.py:22: UserWarning: DataFrame columns are not unique, some columns will be omitted.\n",
      "  return df.to_dict('split')\n",
      "/home/cam/.cache/pypoetry/virtualenvs/pollypedagogymap-NEXWE1VB-py3.10/lib/python3.10/site-packages/jupyter_client/session.py:719: UserWarning: Message serialization failed with:\n",
      "Out of range float values are not JSON compliant\n",
      "Supporting this message is deprecated in jupyter-client 7, please make sure your message is JSON-compliant\n",
      "  content = self.pack(content)\n"
     ]
    },
    {
     "data": {
      "text/plain": "KeplerGl(data={'schools': {'index': [0, 1, 2, 3, 4, 5, 6, 7, 8, 9, 10, 11, 12, 13, 14, 15, 16, 17, 18, 19, 20,…",
      "application/vnd.jupyter.widget-view+json": {
       "version_major": 2,
       "version_minor": 0,
       "model_id": "d833fdae019043f49586cc62ba4a2013"
      }
     },
     "metadata": {},
     "output_type": "display_data"
    }
   ],
   "source": [
    "from keplergl import KeplerGl\n",
    "map = KeplerGl(height=1600)\n",
    "map.add_data(data=df, name=\"schools\")\n",
    "map"
   ]
  },
  {
   "cell_type": "code",
   "execution_count": 11,
   "metadata": {},
   "outputs": [],
   "source": [
    "df_missing_high_school = pd.read_sql('SELECT * FROM \"ministers\" AS \"a\" LEFT OUTER JOIN (SELECT * FROM \"education\" WHERE \"is_high_school\" = 1) AS \"b\" ON (\"a\".\"school name\" = \"b\".\"school_name\") ;', db_con)"
   ]
  },
  {
   "cell_type": "code",
   "execution_count": 12,
   "metadata": {},
   "outputs": [],
   "source": [
    "members_with_no_hs = df_missing_high_school[~df_missing_high_school.member.isin(df_missing_high_school [df_missing_high_school.is_high_school > 0][\"member\"])].sort_values(by=[\"member\"])"
   ]
  },
  {
   "cell_type": "code",
   "execution_count": 13,
   "outputs": [
    {
     "data": {
      "text/plain": "     fid  rowid  index                                  wiki link  \\\n356  358    359     97   http://www.wikidata.org/entity/Q16732352   \n358  360    361     99   http://www.wikidata.org/entity/Q16732352   \n357  359    360     98   http://www.wikidata.org/entity/Q16732352   \n141  142    142    141   http://www.wikidata.org/entity/Q25756194   \n174  176    176    175   http://www.wikidata.org/entity/Q64216519   \n..   ...    ...    ...                                        ...   \n80    81     81     80    http://www.wikidata.org/entity/Q7970178   \n326  328    329     67   http://www.wikidata.org/entity/Q61983633   \n224  226    226    225  http://www.wikidata.org/entity/Q112106576   \n241  243    243    242   http://www.wikidata.org/entity/Q65628647   \n217  219    219    218  http://www.wikidata.org/entity/Q112114762   \n\n                                  schoollink  \\\n356    http://www.wikidata.org/entity/Q15574   \n358  http://www.wikidata.org/entity/Q4824219   \n357   http://www.wikidata.org/entity/Q160302   \n141  http://www.wikidata.org/entity/Q1144750   \n174   http://www.wikidata.org/entity/Q127990   \n..                                       ...   \n80                                      None   \n326                                     None   \n224  http://www.wikidata.org/entity/Q1145497   \n241                                     None   \n217   http://www.wikidata.org/entity/Q319078   \n\n                                  school name                 start  \\\n356                    University of Adelaide  2020-02-06T00:00:00Z   \n358  Australian Graduate School of Management  2020-02-06T00:00:00Z   \n357                   University of Edinburgh  2020-02-06T00:00:00Z   \n141       Queensland University of Technology  2016-07-02T00:00:00Z   \n174            Australian National University  2019-05-18T00:00:00Z   \n..                                        ...                   ...   \n80                                    Unknown  2010-08-21T00:00:00Z   \n326                                   Unknown  2019-03-06T00:00:00Z   \n224                         Curtin University  2022-05-21T00:00:00Z   \n241             University of South Australia  2022-05-21T00:00:00Z   \n217                   University of Melbourne  2022-05-21T00:00:00Z   \n\n                                district_link  \\\n356  http://www.wikidata.org/entity/Q56649110   \n358  http://www.wikidata.org/entity/Q56649110   \n357  http://www.wikidata.org/entity/Q56649110   \n141   http://www.wikidata.org/entity/Q2973569   \n174   http://www.wikidata.org/entity/Q2973737   \n..                                        ...   \n80     http://www.wikidata.org/entity/Q550273   \n326  http://www.wikidata.org/entity/Q56649108   \n224   http://www.wikidata.org/entity/Q2973857   \n241   http://www.wikidata.org/entity/Q2973625   \n217   http://www.wikidata.org/entity/Q2973570   \n\n                                       group              member  ...  geom  \\\n356  http://www.wikidata.org/entity/Q1065320    Andrew McLachlan  ...  None   \n358  http://www.wikidata.org/entity/Q1065320    Andrew McLachlan  ...  None   \n357  http://www.wikidata.org/entity/Q1065320    Andrew McLachlan  ...  None   \n141  http://www.wikidata.org/entity/Q1065320      Andrew Wallace  ...  None   \n174  http://www.wikidata.org/entity/Q1065320        Anne Webster  ...  None   \n..                                       ...                 ...  ...   ...   \n80   http://www.wikidata.org/entity/Q1065320       Warren Entsch  ...  None   \n326  http://www.wikidata.org/entity/Q1065320         Wendy Askew  ...  None   \n224   http://www.wikidata.org/entity/Q216082  Zaneta Mascarenhas  ...  None   \n241                                     None          Zoe Daniel  ...  None   \n217  http://www.wikidata.org/entity/Q1065320        Zoe McKenzie  ...  None   \n\n    ogc_fid  school_name  school_link is_university  is_high_school  \\\n356     NaN         None         None           NaN             NaN   \n358     NaN         None         None           NaN             NaN   \n357     NaN         None         None           NaN             NaN   \n141     NaN         None         None           NaN             NaN   \n174     NaN         None         None           NaN             NaN   \n..      ...          ...          ...           ...             ...   \n80      NaN         None         None           NaN             NaN   \n326     NaN         None         None           NaN             NaN   \n224     NaN         None         None           NaN             NaN   \n241     NaN         None         None           NaN             NaN   \n217     NaN         None         None           NaN             NaN   \n\n     is_alt_edu operational_status   wkt is_public  \n356         NaN               None  None       NaN  \n358         NaN               None  None       NaN  \n357         NaN               None  None       NaN  \n141         NaN               None  None       NaN  \n174         NaN               None  None       NaN  \n..          ...                ...   ...       ...  \n80          NaN               None  None       NaN  \n326         NaN               None  None       NaN  \n224         NaN               None  None       NaN  \n241         NaN               None  None       NaN  \n217         NaN               None  None       NaN  \n\n[122 rows x 27 columns]",
      "text/html": "<div>\n<style scoped>\n    .dataframe tbody tr th:only-of-type {\n        vertical-align: middle;\n    }\n\n    .dataframe tbody tr th {\n        vertical-align: top;\n    }\n\n    .dataframe thead th {\n        text-align: right;\n    }\n</style>\n<table border=\"1\" class=\"dataframe\">\n  <thead>\n    <tr style=\"text-align: right;\">\n      <th></th>\n      <th>fid</th>\n      <th>rowid</th>\n      <th>index</th>\n      <th>wiki link</th>\n      <th>schoollink</th>\n      <th>school name</th>\n      <th>start</th>\n      <th>district_link</th>\n      <th>group</th>\n      <th>member</th>\n      <th>...</th>\n      <th>geom</th>\n      <th>ogc_fid</th>\n      <th>school_name</th>\n      <th>school_link</th>\n      <th>is_university</th>\n      <th>is_high_school</th>\n      <th>is_alt_edu</th>\n      <th>operational_status</th>\n      <th>wkt</th>\n      <th>is_public</th>\n    </tr>\n  </thead>\n  <tbody>\n    <tr>\n      <th>356</th>\n      <td>358</td>\n      <td>359</td>\n      <td>97</td>\n      <td>http://www.wikidata.org/entity/Q16732352</td>\n      <td>http://www.wikidata.org/entity/Q15574</td>\n      <td>University of Adelaide</td>\n      <td>2020-02-06T00:00:00Z</td>\n      <td>http://www.wikidata.org/entity/Q56649110</td>\n      <td>http://www.wikidata.org/entity/Q1065320</td>\n      <td>Andrew McLachlan</td>\n      <td>...</td>\n      <td>None</td>\n      <td>NaN</td>\n      <td>None</td>\n      <td>None</td>\n      <td>NaN</td>\n      <td>NaN</td>\n      <td>NaN</td>\n      <td>None</td>\n      <td>None</td>\n      <td>NaN</td>\n    </tr>\n    <tr>\n      <th>358</th>\n      <td>360</td>\n      <td>361</td>\n      <td>99</td>\n      <td>http://www.wikidata.org/entity/Q16732352</td>\n      <td>http://www.wikidata.org/entity/Q4824219</td>\n      <td>Australian Graduate School of Management</td>\n      <td>2020-02-06T00:00:00Z</td>\n      <td>http://www.wikidata.org/entity/Q56649110</td>\n      <td>http://www.wikidata.org/entity/Q1065320</td>\n      <td>Andrew McLachlan</td>\n      <td>...</td>\n      <td>None</td>\n      <td>NaN</td>\n      <td>None</td>\n      <td>None</td>\n      <td>NaN</td>\n      <td>NaN</td>\n      <td>NaN</td>\n      <td>None</td>\n      <td>None</td>\n      <td>NaN</td>\n    </tr>\n    <tr>\n      <th>357</th>\n      <td>359</td>\n      <td>360</td>\n      <td>98</td>\n      <td>http://www.wikidata.org/entity/Q16732352</td>\n      <td>http://www.wikidata.org/entity/Q160302</td>\n      <td>University of Edinburgh</td>\n      <td>2020-02-06T00:00:00Z</td>\n      <td>http://www.wikidata.org/entity/Q56649110</td>\n      <td>http://www.wikidata.org/entity/Q1065320</td>\n      <td>Andrew McLachlan</td>\n      <td>...</td>\n      <td>None</td>\n      <td>NaN</td>\n      <td>None</td>\n      <td>None</td>\n      <td>NaN</td>\n      <td>NaN</td>\n      <td>NaN</td>\n      <td>None</td>\n      <td>None</td>\n      <td>NaN</td>\n    </tr>\n    <tr>\n      <th>141</th>\n      <td>142</td>\n      <td>142</td>\n      <td>141</td>\n      <td>http://www.wikidata.org/entity/Q25756194</td>\n      <td>http://www.wikidata.org/entity/Q1144750</td>\n      <td>Queensland University of Technology</td>\n      <td>2016-07-02T00:00:00Z</td>\n      <td>http://www.wikidata.org/entity/Q2973569</td>\n      <td>http://www.wikidata.org/entity/Q1065320</td>\n      <td>Andrew Wallace</td>\n      <td>...</td>\n      <td>None</td>\n      <td>NaN</td>\n      <td>None</td>\n      <td>None</td>\n      <td>NaN</td>\n      <td>NaN</td>\n      <td>NaN</td>\n      <td>None</td>\n      <td>None</td>\n      <td>NaN</td>\n    </tr>\n    <tr>\n      <th>174</th>\n      <td>176</td>\n      <td>176</td>\n      <td>175</td>\n      <td>http://www.wikidata.org/entity/Q64216519</td>\n      <td>http://www.wikidata.org/entity/Q127990</td>\n      <td>Australian National University</td>\n      <td>2019-05-18T00:00:00Z</td>\n      <td>http://www.wikidata.org/entity/Q2973737</td>\n      <td>http://www.wikidata.org/entity/Q1065320</td>\n      <td>Anne Webster</td>\n      <td>...</td>\n      <td>None</td>\n      <td>NaN</td>\n      <td>None</td>\n      <td>None</td>\n      <td>NaN</td>\n      <td>NaN</td>\n      <td>NaN</td>\n      <td>None</td>\n      <td>None</td>\n      <td>NaN</td>\n    </tr>\n    <tr>\n      <th>...</th>\n      <td>...</td>\n      <td>...</td>\n      <td>...</td>\n      <td>...</td>\n      <td>...</td>\n      <td>...</td>\n      <td>...</td>\n      <td>...</td>\n      <td>...</td>\n      <td>...</td>\n      <td>...</td>\n      <td>...</td>\n      <td>...</td>\n      <td>...</td>\n      <td>...</td>\n      <td>...</td>\n      <td>...</td>\n      <td>...</td>\n      <td>...</td>\n      <td>...</td>\n      <td>...</td>\n    </tr>\n    <tr>\n      <th>80</th>\n      <td>81</td>\n      <td>81</td>\n      <td>80</td>\n      <td>http://www.wikidata.org/entity/Q7970178</td>\n      <td>None</td>\n      <td>Unknown</td>\n      <td>2010-08-21T00:00:00Z</td>\n      <td>http://www.wikidata.org/entity/Q550273</td>\n      <td>http://www.wikidata.org/entity/Q1065320</td>\n      <td>Warren Entsch</td>\n      <td>...</td>\n      <td>None</td>\n      <td>NaN</td>\n      <td>None</td>\n      <td>None</td>\n      <td>NaN</td>\n      <td>NaN</td>\n      <td>NaN</td>\n      <td>None</td>\n      <td>None</td>\n      <td>NaN</td>\n    </tr>\n    <tr>\n      <th>326</th>\n      <td>328</td>\n      <td>329</td>\n      <td>67</td>\n      <td>http://www.wikidata.org/entity/Q61983633</td>\n      <td>None</td>\n      <td>Unknown</td>\n      <td>2019-03-06T00:00:00Z</td>\n      <td>http://www.wikidata.org/entity/Q56649108</td>\n      <td>http://www.wikidata.org/entity/Q1065320</td>\n      <td>Wendy Askew</td>\n      <td>...</td>\n      <td>None</td>\n      <td>NaN</td>\n      <td>None</td>\n      <td>None</td>\n      <td>NaN</td>\n      <td>NaN</td>\n      <td>NaN</td>\n      <td>None</td>\n      <td>None</td>\n      <td>NaN</td>\n    </tr>\n    <tr>\n      <th>224</th>\n      <td>226</td>\n      <td>226</td>\n      <td>225</td>\n      <td>http://www.wikidata.org/entity/Q112106576</td>\n      <td>http://www.wikidata.org/entity/Q1145497</td>\n      <td>Curtin University</td>\n      <td>2022-05-21T00:00:00Z</td>\n      <td>http://www.wikidata.org/entity/Q2973857</td>\n      <td>http://www.wikidata.org/entity/Q216082</td>\n      <td>Zaneta Mascarenhas</td>\n      <td>...</td>\n      <td>None</td>\n      <td>NaN</td>\n      <td>None</td>\n      <td>None</td>\n      <td>NaN</td>\n      <td>NaN</td>\n      <td>NaN</td>\n      <td>None</td>\n      <td>None</td>\n      <td>NaN</td>\n    </tr>\n    <tr>\n      <th>241</th>\n      <td>243</td>\n      <td>243</td>\n      <td>242</td>\n      <td>http://www.wikidata.org/entity/Q65628647</td>\n      <td>None</td>\n      <td>University of South Australia</td>\n      <td>2022-05-21T00:00:00Z</td>\n      <td>http://www.wikidata.org/entity/Q2973625</td>\n      <td>None</td>\n      <td>Zoe Daniel</td>\n      <td>...</td>\n      <td>None</td>\n      <td>NaN</td>\n      <td>None</td>\n      <td>None</td>\n      <td>NaN</td>\n      <td>NaN</td>\n      <td>NaN</td>\n      <td>None</td>\n      <td>None</td>\n      <td>NaN</td>\n    </tr>\n    <tr>\n      <th>217</th>\n      <td>219</td>\n      <td>219</td>\n      <td>218</td>\n      <td>http://www.wikidata.org/entity/Q112114762</td>\n      <td>http://www.wikidata.org/entity/Q319078</td>\n      <td>University of Melbourne</td>\n      <td>2022-05-21T00:00:00Z</td>\n      <td>http://www.wikidata.org/entity/Q2973570</td>\n      <td>http://www.wikidata.org/entity/Q1065320</td>\n      <td>Zoe McKenzie</td>\n      <td>...</td>\n      <td>None</td>\n      <td>NaN</td>\n      <td>None</td>\n      <td>None</td>\n      <td>NaN</td>\n      <td>NaN</td>\n      <td>NaN</td>\n      <td>None</td>\n      <td>None</td>\n      <td>NaN</td>\n    </tr>\n  </tbody>\n</table>\n<p>122 rows × 27 columns</p>\n</div>"
     },
     "execution_count": 13,
     "metadata": {},
     "output_type": "execute_result"
    }
   ],
   "source": [
    "members_with_no_hs"
   ],
   "metadata": {
    "collapsed": false
   }
  },
  {
   "cell_type": "markdown",
   "source": [
    "# Get MP IDs\n",
    "The parliamentary handbook has secondary school if you know MP Ids.\n",
    "Lets fetch them"
   ],
   "metadata": {
    "collapsed": false
   }
  },
  {
   "cell_type": "code",
   "execution_count": 1,
   "outputs": [
    {
     "data": {
      "text/plain": "0         HX4\n1         R36\n4         83M\n6       00AMR\n7       00AMT\n        ...  \n371    300639\n372    298839\n373    300707\n374    300644\n375    300706\nName: wiki link, Length: 225, dtype: object"
     },
     "execution_count": 1,
     "metadata": {},
     "output_type": "execute_result"
    }
   ],
   "source": [
    "# Add mp id to all ministers\n",
    "import geopandas as gpd\n",
    "import pathlib\n",
    "import sqlite3\n",
    "import pandas as pd\n",
    "\n",
    "data_dir = pathlib.Path(\"..\").resolve() / \"data\"\n",
    "db_con = sqlite3.connect(str(data_dir / \"ppm.gpkg\"))\n",
    "# Create connection and load spatialite extension\n",
    "df = pd.read_sql('SELECT * FROM \"ministers\"', db_con)\n",
    "from pollypedagogy.utils import *\n",
    "ph_ids = df[\"wiki link\"].drop_duplicates().apply(get_ph_id_from_wikidata)\n",
    "ph_ids"
   ],
   "metadata": {
    "collapsed": false
   }
  },
  {
   "cell_type": "code",
   "execution_count": 8,
   "outputs": [],
   "source": [
    "wiki_links = pd.DataFrame(df[\"wiki link\"].drop_duplicates())\n"
   ],
   "metadata": {
    "collapsed": false
   }
  },
  {
   "cell_type": "code",
   "execution_count": 9,
   "outputs": [
    {
     "data": {
      "text/plain": "                                     wiki link  mp_ids\n0      http://www.wikidata.org/entity/Q4932983     HX4\n1       http://www.wikidata.org/entity/Q335697     R36\n4      http://www.wikidata.org/entity/Q7684036     83M\n6      http://www.wikidata.org/entity/Q5052776   00AMR\n7      http://www.wikidata.org/entity/Q6761645   00AMT\n..                                         ...     ...\n371  http://www.wikidata.org/entity/Q112129143  300639\n372  http://www.wikidata.org/entity/Q112149315  298839\n373  http://www.wikidata.org/entity/Q112152550  300707\n374  http://www.wikidata.org/entity/Q112581963  300644\n375  http://www.wikidata.org/entity/Q112642694  300706\n\n[225 rows x 2 columns]",
      "text/html": "<div>\n<style scoped>\n    .dataframe tbody tr th:only-of-type {\n        vertical-align: middle;\n    }\n\n    .dataframe tbody tr th {\n        vertical-align: top;\n    }\n\n    .dataframe thead th {\n        text-align: right;\n    }\n</style>\n<table border=\"1\" class=\"dataframe\">\n  <thead>\n    <tr style=\"text-align: right;\">\n      <th></th>\n      <th>wiki link</th>\n      <th>mp_ids</th>\n    </tr>\n  </thead>\n  <tbody>\n    <tr>\n      <th>0</th>\n      <td>http://www.wikidata.org/entity/Q4932983</td>\n      <td>HX4</td>\n    </tr>\n    <tr>\n      <th>1</th>\n      <td>http://www.wikidata.org/entity/Q335697</td>\n      <td>R36</td>\n    </tr>\n    <tr>\n      <th>4</th>\n      <td>http://www.wikidata.org/entity/Q7684036</td>\n      <td>83M</td>\n    </tr>\n    <tr>\n      <th>6</th>\n      <td>http://www.wikidata.org/entity/Q5052776</td>\n      <td>00AMR</td>\n    </tr>\n    <tr>\n      <th>7</th>\n      <td>http://www.wikidata.org/entity/Q6761645</td>\n      <td>00AMT</td>\n    </tr>\n    <tr>\n      <th>...</th>\n      <td>...</td>\n      <td>...</td>\n    </tr>\n    <tr>\n      <th>371</th>\n      <td>http://www.wikidata.org/entity/Q112129143</td>\n      <td>300639</td>\n    </tr>\n    <tr>\n      <th>372</th>\n      <td>http://www.wikidata.org/entity/Q112149315</td>\n      <td>298839</td>\n    </tr>\n    <tr>\n      <th>373</th>\n      <td>http://www.wikidata.org/entity/Q112152550</td>\n      <td>300707</td>\n    </tr>\n    <tr>\n      <th>374</th>\n      <td>http://www.wikidata.org/entity/Q112581963</td>\n      <td>300644</td>\n    </tr>\n    <tr>\n      <th>375</th>\n      <td>http://www.wikidata.org/entity/Q112642694</td>\n      <td>300706</td>\n    </tr>\n  </tbody>\n</table>\n<p>225 rows × 2 columns</p>\n</div>"
     },
     "execution_count": 9,
     "metadata": {},
     "output_type": "execute_result"
    }
   ],
   "source": [
    "wiki_links[\"mp_ids\"] = ph_ids\n",
    "wiki_links"
   ],
   "metadata": {
    "collapsed": false
   }
  },
  {
   "cell_type": "code",
   "execution_count": 11,
   "outputs": [],
   "source": [
    "ministers = df.merge(wiki_links, how=\"left\")"
   ],
   "metadata": {
    "collapsed": false
   }
  },
  {
   "cell_type": "code",
   "execution_count": 12,
   "outputs": [
    {
     "data": {
      "text/plain": "441"
     },
     "execution_count": 12,
     "metadata": {},
     "output_type": "execute_result"
    }
   ],
   "source": [
    "ministers.to_sql(\"ministers\", db_con, if_exists=\"replace\", index=False)"
   ],
   "metadata": {
    "collapsed": false
   }
  },
  {
   "cell_type": "code",
   "execution_count": null,
   "outputs": [],
   "source": [],
   "metadata": {
    "collapsed": false
   }
  }
 ],
 "metadata": {
  "kernelspec": {
   "display_name": "Python 3 (ipykernel)",
   "language": "python",
   "name": "python3"
  },
  "language_info": {
   "codemirror_mode": {
    "name": "ipython",
    "version": 3
   },
   "file_extension": ".py",
   "mimetype": "text/x-python",
   "name": "python",
   "nbconvert_exporter": "python",
   "pygments_lexer": "ipython3",
   "version": "3.10.6"
  }
 },
 "nbformat": 4,
 "nbformat_minor": 1
}
