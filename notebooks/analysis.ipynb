{
 "cells": [
  {
   "cell_type": "markdown",
   "metadata": {},
   "source": [
    "# Basic Analysis\n",
    "\n",
    "We are using KeplerGL\n",
    "```\n",
    "jupyter nbextension install --py --sys-prefix keplergl # can be skipped for notebook 5.3 and above\n",
    "jupyter nbextension enable --py --sys-prefix keplergl # can be skipped for notebook 5.3 and above\n",
    "```"
   ]
  },
  {
   "cell_type": "code",
   "execution_count": 46,
   "metadata": {},
   "outputs": [
    {
     "data": {
      "text/html": [
       "<style>.container { width:100% !important; }</style>"
      ],
      "text/plain": [
       "<IPython.core.display.HTML object>"
      ]
     },
     "metadata": {},
     "output_type": "display_data"
    }
   ],
   "source": [
    "from IPython.display import display, HTML\n",
    "display(HTML(\"<style>.container { width:100% !important; }</style>\"))"
   ]
  },
  {
   "cell_type": "code",
   "execution_count": 1,
   "metadata": {},
   "outputs": [],
   "source": [
    "import geopandas as gpd\n",
    "import pathlib\n",
    "import sqlite3\n",
    "import pandas as pd\n",
    "\n",
    "data_dir = pathlib.Path(\"..\").resolve() / \"data\"\n",
    "db_con = sqlite3.connect(str(data_dir / \"ppm_spatiallite.sqlite\"))\n",
    "# Create connection and load spatialite extension\n",
    "df = pd.read_sql('SELECT * FROM \"ministers\" AS \"a\" JOIN \"education\" AS \"b\" ON (\"a\".\"school name\" = \"b\".\"school_name\");', db_con)\n",
    "# df = gpd.read_postgis('SELECT * FROM \"ministers\" AS \"a\" JOIN \"education\" AS \"b\" ON (\"a\".\"school name\" = \"b\".\"school_name\");', db_con, geom_col=\"geom\")\n",
    "geometry = gpd.GeoSeries.from_wkt(df.wkt)\n",
    "df[\"Longitude\"] =geometry.x\n",
    "df[\"Latitude\" ] =geometry.y\n",
    "# gdf = gpd.GeoDataFrame(df, geometry=geometry, crs=4326)\n",
    "# gdf.drop(columns=[\"geom\"], inplace=True)\n",
    "df.drop(columns=[\"geom\", \"wkt\"], inplace=True)"
   ]
  },
  {
   "cell_type": "code",
   "execution_count": 49,
   "metadata": {
    "scrolled": true
   },
   "outputs": [
    {
     "name": "stdout",
     "output_type": "stream",
     "text": [
      "User Guide: https://docs.kepler.gl/docs/keplergl-jupyter\n"
     ]
    },
    {
     "data": {
      "application/vnd.jupyter.widget-view+json": {
       "model_id": "725dcc9282f04564a02ade3c58e164e7",
       "version_major": 2,
       "version_minor": 0
      },
      "text/plain": [
       "KeplerGl(data={'schools': {'index': [0, 1, 2, 3, 4, 5, 6, 7, 8, 9, 10, 11, 12, 13, 14, 15, 16, 17, 18, 19, 20,…"
      ]
     },
     "metadata": {},
     "output_type": "display_data"
    }
   ],
   "source": [
    "from keplergl import KeplerGl\n",
    "map = KeplerGl(height=1600)\n",
    "map.add_data(data=df, name=\"schools\")\n",
    "map"
   ]
  },
  {
   "cell_type": "code",
   "execution_count": 4,
   "metadata": {},
   "outputs": [
    {
     "data": {
      "text/plain": "Royal Military College              4\nBrisbane State High School          2\nLoreto Mandeville Hall              2\nUnley High School                   2\nArmadale Senior High School         2\n                                   ..\nThe Scots College                   1\nRockhampton Girls Grammar School    1\nSouthern Cross Catholic College     1\nMaroochydore State High School      1\nSeymour College                     1\nName: school_name, Length: 108, dtype: int64"
     },
     "execution_count": 4,
     "metadata": {},
     "output_type": "execute_result"
    }
   ],
   "source": []
  },
  {
   "cell_type": "code",
   "execution_count": null,
   "metadata": {},
   "outputs": [],
   "source": []
  }
 ],
 "metadata": {
  "kernelspec": {
   "display_name": "Python 3 (ipykernel)",
   "language": "python",
   "name": "python3"
  },
  "language_info": {
   "codemirror_mode": {
    "name": "ipython",
    "version": 3
   },
   "file_extension": ".py",
   "mimetype": "text/x-python",
   "name": "python",
   "nbconvert_exporter": "python",
   "pygments_lexer": "ipython3",
   "version": "3.10.6"
  }
 },
 "nbformat": 4,
 "nbformat_minor": 1
}
