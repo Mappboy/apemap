{
 "cells": [
  {
   "cell_type": "markdown",
   "source": [
    "# 47th Australian Parliament basic statistics\n",
    "*Note* you will have needed to run the `download.sh` script to get the data.\n",
    "## Average politician in the current parliament\n",
    "Is a .... 52 Year old man"
   ],
   "metadata": {
    "collapsed": false
   }
  },
  {
   "cell_type": "code",
   "execution_count": 52,
   "outputs": [
    {
     "data": {
      "text/plain": "      id              member                   party  \\\n0      1         Aaron Violi               Coalition   \n1      2          Adam Bandt       Australian Greens   \n3      4          Alex Hawke               Coalition   \n4      5        Alicia Payne  Australian Labor Party   \n5      6       Alison Byrnes  Australian Labor Party   \n..   ...                 ...                     ...   \n221  222       Zali Steggall             Independent   \n222  223  Zaneta Mascarenhas  Australian Labor Party   \n223  224          Zoe Daniel                    None   \n224  225        Zoe McKenzie               Coalition   \n225  226          Mary Doyle  Australian Labor Party   \n\n                                       group              district  \\\n0    http://www.wikidata.org/entity/Q1065320                 Casey   \n1     http://www.wikidata.org/entity/Q781486             Melbourne   \n3    http://www.wikidata.org/entity/Q1065320              Mitchell   \n4     http://www.wikidata.org/entity/Q216082  Division of Canberra   \n5     http://www.wikidata.org/entity/Q216082            Cunningham   \n..                                       ...                   ...   \n221                                     None             Warringah   \n222   http://www.wikidata.org/entity/Q216082                  Swan   \n223                                     None             Goldstein   \n224  http://www.wikidata.org/entity/Q1065320              Flinders   \n225   http://www.wikidata.org/entity/Q216082                 Aston   \n\n     is_senator  is_representative  graduated   mp_id                 start  \\\n0         False               True       True  300147  2022-05-21T00:00:00Z   \n1         False               True       True     M3C  2010-08-21T00:00:00Z   \n3         False               True       True     HWO  2007-11-24T00:00:00Z   \n4         False               True       True  144732  2019-05-18T00:00:00Z   \n5         False               True       True  299145  2022-05-21T00:00:00Z   \n..          ...                ...        ...     ...                   ...   \n221       False               True       True  175696  2019-05-18T00:00:00Z   \n222       False               True       True  298800  2022-05-21T00:00:00Z   \n223       False               True       True   008CH  2022-05-21T00:00:00Z   \n224       False               True       True  124514  2022-05-21T00:00:00Z   \n225       False               True       True    None            2023-04-01   \n\n     ... SenateState                         State StateAbbrev  \\\n0    ...                                  Victoria         Vic   \n1    ...                                  Victoria         Vic   \n3    ...                           New South Wales         NSW   \n4    ...              Australian Capital Territory         ACT   \n5    ...                           New South Wales         NSW   \n..   ...         ...                           ...         ...   \n221  ...                           New South Wales         NSW   \n222  ...                         Western Australia          WA   \n223  ...                                  Victoria         Vic   \n224  ...                                  Victoria         Vic   \n225  ...        None                          None        None   \n\n     InCurrentParliament ServiceHistory_Start ServiceHistory_End  \\\n0                   True           2022-05-21         2023-03-28   \n1                   True           2010-08-21         2023-03-28   \n3                   True           2007-11-24         2023-03-28   \n4                   True           2019-05-18         2023-03-28   \n5                   True           2022-05-21         2023-03-28   \n..                   ...                  ...                ...   \n221                 True           2019-05-18         2023-04-05   \n222                 True           2022-05-21         2023-04-05   \n223                 True           2022-05-21         2023-04-05   \n224                 True           2022-05-21         2023-04-05   \n225                 None                 None               None   \n\n    ServiceHistory_Days ElectedMemberNo ElectedSenatorNo FirstNations  \n0                   311          1236.0             -1.0          0.0  \n1                  4602          1067.0             -1.0          0.0  \n3                  5603          1035.0             -1.0          0.0  \n4                  1410          1191.0             -1.0          0.0  \n5                   311          1211.0             -1.0          0.0  \n..                  ...             ...              ...          ...  \n221                1418          1197.0             -1.0          0.0  \n222                 319          1223.0             -1.0          0.0  \n223                 319          1215.0             -1.0          0.0  \n224                 319          1222.0             -1.0          0.0  \n225                None             NaN              NaN          NaN  \n\n[151 rows x 39 columns]",
      "text/html": "<div>\n<style scoped>\n    .dataframe tbody tr th:only-of-type {\n        vertical-align: middle;\n    }\n\n    .dataframe tbody tr th {\n        vertical-align: top;\n    }\n\n    .dataframe thead th {\n        text-align: right;\n    }\n</style>\n<table border=\"1\" class=\"dataframe\">\n  <thead>\n    <tr style=\"text-align: right;\">\n      <th></th>\n      <th>id</th>\n      <th>member</th>\n      <th>party</th>\n      <th>group</th>\n      <th>district</th>\n      <th>is_senator</th>\n      <th>is_representative</th>\n      <th>graduated</th>\n      <th>mp_id</th>\n      <th>start</th>\n      <th>...</th>\n      <th>SenateState</th>\n      <th>State</th>\n      <th>StateAbbrev</th>\n      <th>InCurrentParliament</th>\n      <th>ServiceHistory_Start</th>\n      <th>ServiceHistory_End</th>\n      <th>ServiceHistory_Days</th>\n      <th>ElectedMemberNo</th>\n      <th>ElectedSenatorNo</th>\n      <th>FirstNations</th>\n    </tr>\n  </thead>\n  <tbody>\n    <tr>\n      <th>0</th>\n      <td>1</td>\n      <td>Aaron Violi</td>\n      <td>Coalition</td>\n      <td>http://www.wikidata.org/entity/Q1065320</td>\n      <td>Casey</td>\n      <td>False</td>\n      <td>True</td>\n      <td>True</td>\n      <td>300147</td>\n      <td>2022-05-21T00:00:00Z</td>\n      <td>...</td>\n      <td></td>\n      <td>Victoria</td>\n      <td>Vic</td>\n      <td>True</td>\n      <td>2022-05-21</td>\n      <td>2023-03-28</td>\n      <td>311</td>\n      <td>1236.0</td>\n      <td>-1.0</td>\n      <td>0.0</td>\n    </tr>\n    <tr>\n      <th>1</th>\n      <td>2</td>\n      <td>Adam Bandt</td>\n      <td>Australian Greens</td>\n      <td>http://www.wikidata.org/entity/Q781486</td>\n      <td>Melbourne</td>\n      <td>False</td>\n      <td>True</td>\n      <td>True</td>\n      <td>M3C</td>\n      <td>2010-08-21T00:00:00Z</td>\n      <td>...</td>\n      <td></td>\n      <td>Victoria</td>\n      <td>Vic</td>\n      <td>True</td>\n      <td>2010-08-21</td>\n      <td>2023-03-28</td>\n      <td>4602</td>\n      <td>1067.0</td>\n      <td>-1.0</td>\n      <td>0.0</td>\n    </tr>\n    <tr>\n      <th>3</th>\n      <td>4</td>\n      <td>Alex Hawke</td>\n      <td>Coalition</td>\n      <td>http://www.wikidata.org/entity/Q1065320</td>\n      <td>Mitchell</td>\n      <td>False</td>\n      <td>True</td>\n      <td>True</td>\n      <td>HWO</td>\n      <td>2007-11-24T00:00:00Z</td>\n      <td>...</td>\n      <td></td>\n      <td>New South Wales</td>\n      <td>NSW</td>\n      <td>True</td>\n      <td>2007-11-24</td>\n      <td>2023-03-28</td>\n      <td>5603</td>\n      <td>1035.0</td>\n      <td>-1.0</td>\n      <td>0.0</td>\n    </tr>\n    <tr>\n      <th>4</th>\n      <td>5</td>\n      <td>Alicia Payne</td>\n      <td>Australian Labor Party</td>\n      <td>http://www.wikidata.org/entity/Q216082</td>\n      <td>Division of Canberra</td>\n      <td>False</td>\n      <td>True</td>\n      <td>True</td>\n      <td>144732</td>\n      <td>2019-05-18T00:00:00Z</td>\n      <td>...</td>\n      <td></td>\n      <td>Australian Capital Territory</td>\n      <td>ACT</td>\n      <td>True</td>\n      <td>2019-05-18</td>\n      <td>2023-03-28</td>\n      <td>1410</td>\n      <td>1191.0</td>\n      <td>-1.0</td>\n      <td>0.0</td>\n    </tr>\n    <tr>\n      <th>5</th>\n      <td>6</td>\n      <td>Alison Byrnes</td>\n      <td>Australian Labor Party</td>\n      <td>http://www.wikidata.org/entity/Q216082</td>\n      <td>Cunningham</td>\n      <td>False</td>\n      <td>True</td>\n      <td>True</td>\n      <td>299145</td>\n      <td>2022-05-21T00:00:00Z</td>\n      <td>...</td>\n      <td></td>\n      <td>New South Wales</td>\n      <td>NSW</td>\n      <td>True</td>\n      <td>2022-05-21</td>\n      <td>2023-03-28</td>\n      <td>311</td>\n      <td>1211.0</td>\n      <td>-1.0</td>\n      <td>0.0</td>\n    </tr>\n    <tr>\n      <th>...</th>\n      <td>...</td>\n      <td>...</td>\n      <td>...</td>\n      <td>...</td>\n      <td>...</td>\n      <td>...</td>\n      <td>...</td>\n      <td>...</td>\n      <td>...</td>\n      <td>...</td>\n      <td>...</td>\n      <td>...</td>\n      <td>...</td>\n      <td>...</td>\n      <td>...</td>\n      <td>...</td>\n      <td>...</td>\n      <td>...</td>\n      <td>...</td>\n      <td>...</td>\n      <td>...</td>\n    </tr>\n    <tr>\n      <th>221</th>\n      <td>222</td>\n      <td>Zali Steggall</td>\n      <td>Independent</td>\n      <td>None</td>\n      <td>Warringah</td>\n      <td>False</td>\n      <td>True</td>\n      <td>True</td>\n      <td>175696</td>\n      <td>2019-05-18T00:00:00Z</td>\n      <td>...</td>\n      <td></td>\n      <td>New South Wales</td>\n      <td>NSW</td>\n      <td>True</td>\n      <td>2019-05-18</td>\n      <td>2023-04-05</td>\n      <td>1418</td>\n      <td>1197.0</td>\n      <td>-1.0</td>\n      <td>0.0</td>\n    </tr>\n    <tr>\n      <th>222</th>\n      <td>223</td>\n      <td>Zaneta Mascarenhas</td>\n      <td>Australian Labor Party</td>\n      <td>http://www.wikidata.org/entity/Q216082</td>\n      <td>Swan</td>\n      <td>False</td>\n      <td>True</td>\n      <td>True</td>\n      <td>298800</td>\n      <td>2022-05-21T00:00:00Z</td>\n      <td>...</td>\n      <td></td>\n      <td>Western Australia</td>\n      <td>WA</td>\n      <td>True</td>\n      <td>2022-05-21</td>\n      <td>2023-04-05</td>\n      <td>319</td>\n      <td>1223.0</td>\n      <td>-1.0</td>\n      <td>0.0</td>\n    </tr>\n    <tr>\n      <th>223</th>\n      <td>224</td>\n      <td>Zoe Daniel</td>\n      <td>None</td>\n      <td>None</td>\n      <td>Goldstein</td>\n      <td>False</td>\n      <td>True</td>\n      <td>True</td>\n      <td>008CH</td>\n      <td>2022-05-21T00:00:00Z</td>\n      <td>...</td>\n      <td></td>\n      <td>Victoria</td>\n      <td>Vic</td>\n      <td>True</td>\n      <td>2022-05-21</td>\n      <td>2023-04-05</td>\n      <td>319</td>\n      <td>1215.0</td>\n      <td>-1.0</td>\n      <td>0.0</td>\n    </tr>\n    <tr>\n      <th>224</th>\n      <td>225</td>\n      <td>Zoe McKenzie</td>\n      <td>Coalition</td>\n      <td>http://www.wikidata.org/entity/Q1065320</td>\n      <td>Flinders</td>\n      <td>False</td>\n      <td>True</td>\n      <td>True</td>\n      <td>124514</td>\n      <td>2022-05-21T00:00:00Z</td>\n      <td>...</td>\n      <td></td>\n      <td>Victoria</td>\n      <td>Vic</td>\n      <td>True</td>\n      <td>2022-05-21</td>\n      <td>2023-04-05</td>\n      <td>319</td>\n      <td>1222.0</td>\n      <td>-1.0</td>\n      <td>0.0</td>\n    </tr>\n    <tr>\n      <th>225</th>\n      <td>226</td>\n      <td>Mary Doyle</td>\n      <td>Australian Labor Party</td>\n      <td>http://www.wikidata.org/entity/Q216082</td>\n      <td>Aston</td>\n      <td>False</td>\n      <td>True</td>\n      <td>True</td>\n      <td>None</td>\n      <td>2023-04-01</td>\n      <td>...</td>\n      <td>None</td>\n      <td>None</td>\n      <td>None</td>\n      <td>None</td>\n      <td>None</td>\n      <td>None</td>\n      <td>None</td>\n      <td>NaN</td>\n      <td>NaN</td>\n      <td>NaN</td>\n    </tr>\n  </tbody>\n</table>\n<p>151 rows × 39 columns</p>\n</div>"
     },
     "execution_count": 52,
     "metadata": {},
     "output_type": "execute_result"
    }
   ],
   "source": [
    "import sqlite3\n",
    "import pathlib\n",
    "import pandas as pd\n",
    "import geopandas as gpd\n",
    "# set plotly express to white theme\n",
    "import plotly.io as pio\n",
    "pio.templates.default = \"plotly_white\"\n",
    "\n",
    "\n",
    "root_data_dir = pathlib.Path(\"..\").resolve() / \"data\"\n",
    "ext_data_dir =root_data_dir / \"external\"\n",
    "\n",
    "gpkg = root_data_dir / \"aped.gpkg\"\n",
    "db_con = sqlite3.connect(gpkg)\n",
    "ministers = pd.read_sql(\"SELECT * from vw_ministers_aph\", db_con)\n",
    "divisions = gpd.read_file(ext_data_dir / \"2021_ELB.gpkg\", layer=\"2021_ELB\")\n",
    "# just double check that the divisions are in the same order as the ministers\n",
    "ministers[\"is_representative\"] = ministers[\"is_representative\"].astype(\"bool\")\n",
    "ministers[\"is_senator\"] = ministers[\"is_senator\"].astype(\"bool\")\n",
    "ministers[\"graduated\"] = ministers[\"graduated\"].astype(\"bool\")\n",
    "\n",
    "ministers[ministers[\"is_representative\"]].drop_duplicates(\"district\")"
   ],
   "metadata": {
    "collapsed": false
   }
  },
  {
   "cell_type": "code",
   "execution_count": 53,
   "outputs": [
    {
     "data": {
      "text/plain": "      id              member                   party  \\\n0      1         Aaron Violi               Coalition   \n1      2          Adam Bandt       Australian Greens   \n2      3          Alex Antic               Coalition   \n3      4          Alex Hawke               Coalition   \n4      5        Alicia Payne  Australian Labor Party   \n..   ...                 ...                     ...   \n221  222       Zali Steggall             Independent   \n222  223  Zaneta Mascarenhas  Australian Labor Party   \n223  224          Zoe Daniel                    None   \n224  225        Zoe McKenzie               Coalition   \n225  226          Mary Doyle  Australian Labor Party   \n\n                                       group              district  \\\n0    http://www.wikidata.org/entity/Q1065320                 Casey   \n1     http://www.wikidata.org/entity/Q781486             Melbourne   \n2    http://www.wikidata.org/entity/Q1065320       South Australia   \n3    http://www.wikidata.org/entity/Q1065320              Mitchell   \n4     http://www.wikidata.org/entity/Q216082  Division of Canberra   \n..                                       ...                   ...   \n221                                     None             Warringah   \n222   http://www.wikidata.org/entity/Q216082                  Swan   \n223                                     None             Goldstein   \n224  http://www.wikidata.org/entity/Q1065320              Flinders   \n225   http://www.wikidata.org/entity/Q216082                 Aston   \n\n     is_senator  is_representative  graduated   mp_id                 start  \\\n0         False               True       True  300147  2022-05-21T00:00:00Z   \n1         False               True       True     M3C  2010-08-21T00:00:00Z   \n2          True              False       True  269375  2019-07-01T00:00:00Z   \n3         False               True       True     HWO  2007-11-24T00:00:00Z   \n4         False               True       True  144732  2019-05-18T00:00:00Z   \n..          ...                ...        ...     ...                   ...   \n221       False               True       True  175696  2019-05-18T00:00:00Z   \n222       False               True       True  298800  2022-05-21T00:00:00Z   \n223       False               True       True   008CH  2022-05-21T00:00:00Z   \n224       False               True       True  124514  2022-05-21T00:00:00Z   \n225       False               True       True    None            2023-04-01   \n\n     ...      SenateState                         State StateAbbrev  \\\n0    ...                                       Victoria         Vic   \n1    ...                                       Victoria         Vic   \n2    ...  South Australia               South Australia          SA   \n3    ...                                New South Wales         NSW   \n4    ...                   Australian Capital Territory         ACT   \n..   ...              ...                           ...         ...   \n221  ...                                New South Wales         NSW   \n222  ...                              Western Australia          WA   \n223  ...                                       Victoria         Vic   \n224  ...                                       Victoria         Vic   \n225  ...             None                          None        None   \n\n     InCurrentParliament ServiceHistory_Start ServiceHistory_End  \\\n0                   True           2022-05-21         2023-03-28   \n1                   True           2010-08-21         2023-03-28   \n2                   True           2019-07-01         2023-03-28   \n3                   True           2007-11-24         2023-03-28   \n4                   True           2019-05-18         2023-03-28   \n..                   ...                  ...                ...   \n221                 True           2019-05-18         2023-04-05   \n222                 True           2022-05-21         2023-04-05   \n223                 True           2022-05-21         2023-04-05   \n224                 True           2022-05-21         2023-04-05   \n225                 None                 None               None   \n\n    ServiceHistory_Days ElectedMemberNo ElectedSenatorNo FirstNations  \n0                   311          1236.0             -1.0          0.0  \n1                  4602          1067.0             -1.0          0.0  \n2                  1366            -1.0            608.0          0.0  \n3                  5603          1035.0             -1.0          0.0  \n4                  1410          1191.0             -1.0          0.0  \n..                  ...             ...              ...          ...  \n221                1418          1197.0             -1.0          0.0  \n222                 319          1223.0             -1.0          0.0  \n223                 319          1215.0             -1.0          0.0  \n224                 319          1222.0             -1.0          0.0  \n225                None             NaN              NaN          NaN  \n\n[226 rows x 39 columns]",
      "text/html": "<div>\n<style scoped>\n    .dataframe tbody tr th:only-of-type {\n        vertical-align: middle;\n    }\n\n    .dataframe tbody tr th {\n        vertical-align: top;\n    }\n\n    .dataframe thead th {\n        text-align: right;\n    }\n</style>\n<table border=\"1\" class=\"dataframe\">\n  <thead>\n    <tr style=\"text-align: right;\">\n      <th></th>\n      <th>id</th>\n      <th>member</th>\n      <th>party</th>\n      <th>group</th>\n      <th>district</th>\n      <th>is_senator</th>\n      <th>is_representative</th>\n      <th>graduated</th>\n      <th>mp_id</th>\n      <th>start</th>\n      <th>...</th>\n      <th>SenateState</th>\n      <th>State</th>\n      <th>StateAbbrev</th>\n      <th>InCurrentParliament</th>\n      <th>ServiceHistory_Start</th>\n      <th>ServiceHistory_End</th>\n      <th>ServiceHistory_Days</th>\n      <th>ElectedMemberNo</th>\n      <th>ElectedSenatorNo</th>\n      <th>FirstNations</th>\n    </tr>\n  </thead>\n  <tbody>\n    <tr>\n      <th>0</th>\n      <td>1</td>\n      <td>Aaron Violi</td>\n      <td>Coalition</td>\n      <td>http://www.wikidata.org/entity/Q1065320</td>\n      <td>Casey</td>\n      <td>False</td>\n      <td>True</td>\n      <td>True</td>\n      <td>300147</td>\n      <td>2022-05-21T00:00:00Z</td>\n      <td>...</td>\n      <td></td>\n      <td>Victoria</td>\n      <td>Vic</td>\n      <td>True</td>\n      <td>2022-05-21</td>\n      <td>2023-03-28</td>\n      <td>311</td>\n      <td>1236.0</td>\n      <td>-1.0</td>\n      <td>0.0</td>\n    </tr>\n    <tr>\n      <th>1</th>\n      <td>2</td>\n      <td>Adam Bandt</td>\n      <td>Australian Greens</td>\n      <td>http://www.wikidata.org/entity/Q781486</td>\n      <td>Melbourne</td>\n      <td>False</td>\n      <td>True</td>\n      <td>True</td>\n      <td>M3C</td>\n      <td>2010-08-21T00:00:00Z</td>\n      <td>...</td>\n      <td></td>\n      <td>Victoria</td>\n      <td>Vic</td>\n      <td>True</td>\n      <td>2010-08-21</td>\n      <td>2023-03-28</td>\n      <td>4602</td>\n      <td>1067.0</td>\n      <td>-1.0</td>\n      <td>0.0</td>\n    </tr>\n    <tr>\n      <th>2</th>\n      <td>3</td>\n      <td>Alex Antic</td>\n      <td>Coalition</td>\n      <td>http://www.wikidata.org/entity/Q1065320</td>\n      <td>South Australia</td>\n      <td>True</td>\n      <td>False</td>\n      <td>True</td>\n      <td>269375</td>\n      <td>2019-07-01T00:00:00Z</td>\n      <td>...</td>\n      <td>South Australia</td>\n      <td>South Australia</td>\n      <td>SA</td>\n      <td>True</td>\n      <td>2019-07-01</td>\n      <td>2023-03-28</td>\n      <td>1366</td>\n      <td>-1.0</td>\n      <td>608.0</td>\n      <td>0.0</td>\n    </tr>\n    <tr>\n      <th>3</th>\n      <td>4</td>\n      <td>Alex Hawke</td>\n      <td>Coalition</td>\n      <td>http://www.wikidata.org/entity/Q1065320</td>\n      <td>Mitchell</td>\n      <td>False</td>\n      <td>True</td>\n      <td>True</td>\n      <td>HWO</td>\n      <td>2007-11-24T00:00:00Z</td>\n      <td>...</td>\n      <td></td>\n      <td>New South Wales</td>\n      <td>NSW</td>\n      <td>True</td>\n      <td>2007-11-24</td>\n      <td>2023-03-28</td>\n      <td>5603</td>\n      <td>1035.0</td>\n      <td>-1.0</td>\n      <td>0.0</td>\n    </tr>\n    <tr>\n      <th>4</th>\n      <td>5</td>\n      <td>Alicia Payne</td>\n      <td>Australian Labor Party</td>\n      <td>http://www.wikidata.org/entity/Q216082</td>\n      <td>Division of Canberra</td>\n      <td>False</td>\n      <td>True</td>\n      <td>True</td>\n      <td>144732</td>\n      <td>2019-05-18T00:00:00Z</td>\n      <td>...</td>\n      <td></td>\n      <td>Australian Capital Territory</td>\n      <td>ACT</td>\n      <td>True</td>\n      <td>2019-05-18</td>\n      <td>2023-03-28</td>\n      <td>1410</td>\n      <td>1191.0</td>\n      <td>-1.0</td>\n      <td>0.0</td>\n    </tr>\n    <tr>\n      <th>...</th>\n      <td>...</td>\n      <td>...</td>\n      <td>...</td>\n      <td>...</td>\n      <td>...</td>\n      <td>...</td>\n      <td>...</td>\n      <td>...</td>\n      <td>...</td>\n      <td>...</td>\n      <td>...</td>\n      <td>...</td>\n      <td>...</td>\n      <td>...</td>\n      <td>...</td>\n      <td>...</td>\n      <td>...</td>\n      <td>...</td>\n      <td>...</td>\n      <td>...</td>\n      <td>...</td>\n    </tr>\n    <tr>\n      <th>221</th>\n      <td>222</td>\n      <td>Zali Steggall</td>\n      <td>Independent</td>\n      <td>None</td>\n      <td>Warringah</td>\n      <td>False</td>\n      <td>True</td>\n      <td>True</td>\n      <td>175696</td>\n      <td>2019-05-18T00:00:00Z</td>\n      <td>...</td>\n      <td></td>\n      <td>New South Wales</td>\n      <td>NSW</td>\n      <td>True</td>\n      <td>2019-05-18</td>\n      <td>2023-04-05</td>\n      <td>1418</td>\n      <td>1197.0</td>\n      <td>-1.0</td>\n      <td>0.0</td>\n    </tr>\n    <tr>\n      <th>222</th>\n      <td>223</td>\n      <td>Zaneta Mascarenhas</td>\n      <td>Australian Labor Party</td>\n      <td>http://www.wikidata.org/entity/Q216082</td>\n      <td>Swan</td>\n      <td>False</td>\n      <td>True</td>\n      <td>True</td>\n      <td>298800</td>\n      <td>2022-05-21T00:00:00Z</td>\n      <td>...</td>\n      <td></td>\n      <td>Western Australia</td>\n      <td>WA</td>\n      <td>True</td>\n      <td>2022-05-21</td>\n      <td>2023-04-05</td>\n      <td>319</td>\n      <td>1223.0</td>\n      <td>-1.0</td>\n      <td>0.0</td>\n    </tr>\n    <tr>\n      <th>223</th>\n      <td>224</td>\n      <td>Zoe Daniel</td>\n      <td>None</td>\n      <td>None</td>\n      <td>Goldstein</td>\n      <td>False</td>\n      <td>True</td>\n      <td>True</td>\n      <td>008CH</td>\n      <td>2022-05-21T00:00:00Z</td>\n      <td>...</td>\n      <td></td>\n      <td>Victoria</td>\n      <td>Vic</td>\n      <td>True</td>\n      <td>2022-05-21</td>\n      <td>2023-04-05</td>\n      <td>319</td>\n      <td>1215.0</td>\n      <td>-1.0</td>\n      <td>0.0</td>\n    </tr>\n    <tr>\n      <th>224</th>\n      <td>225</td>\n      <td>Zoe McKenzie</td>\n      <td>Coalition</td>\n      <td>http://www.wikidata.org/entity/Q1065320</td>\n      <td>Flinders</td>\n      <td>False</td>\n      <td>True</td>\n      <td>True</td>\n      <td>124514</td>\n      <td>2022-05-21T00:00:00Z</td>\n      <td>...</td>\n      <td></td>\n      <td>Victoria</td>\n      <td>Vic</td>\n      <td>True</td>\n      <td>2022-05-21</td>\n      <td>2023-04-05</td>\n      <td>319</td>\n      <td>1222.0</td>\n      <td>-1.0</td>\n      <td>0.0</td>\n    </tr>\n    <tr>\n      <th>225</th>\n      <td>226</td>\n      <td>Mary Doyle</td>\n      <td>Australian Labor Party</td>\n      <td>http://www.wikidata.org/entity/Q216082</td>\n      <td>Aston</td>\n      <td>False</td>\n      <td>True</td>\n      <td>True</td>\n      <td>None</td>\n      <td>2023-04-01</td>\n      <td>...</td>\n      <td>None</td>\n      <td>None</td>\n      <td>None</td>\n      <td>None</td>\n      <td>None</td>\n      <td>None</td>\n      <td>None</td>\n      <td>NaN</td>\n      <td>NaN</td>\n      <td>NaN</td>\n    </tr>\n  </tbody>\n</table>\n<p>226 rows × 39 columns</p>\n</div>"
     },
     "execution_count": 53,
     "metadata": {},
     "output_type": "execute_result"
    }
   ],
   "source": [
    "# Set member mary doyle gender in ministers DF equal to female\n",
    "ministers.loc[ministers[\"member\"] == \"Mary Doyle\", \"Gender\"] = \"Female\"\n",
    "ministers"
   ],
   "metadata": {
    "collapsed": false
   }
  },
  {
   "cell_type": "code",
   "execution_count": 54,
   "outputs": [
    {
     "data": {
      "text/plain": "                        party  Gender  count           %\n0           Australian Greens  Female      8   53.333333\n1           Australian Greens    Male      7   46.666667\n2      Australian Labor Party  Female     54   52.427184\n3      Australian Labor Party    Male     49   47.572816\n4             Centre Alliance  Female      1  100.000000\n5                   Coalition  Female     25   28.409091\n6                   Coalition    Male     63   71.590909\n7                 Independent  Female      5  100.000000\n8       Jacqui Lambie Network  Female      2  100.000000\n9   Katter's Australian Party    Male      1  100.000000\n10                 One Nation  Female      1   50.000000\n11                 One Nation    Male      1   50.000000\n12     United Australia Party    Male      1  100.000000",
      "text/html": "<div>\n<style scoped>\n    .dataframe tbody tr th:only-of-type {\n        vertical-align: middle;\n    }\n\n    .dataframe tbody tr th {\n        vertical-align: top;\n    }\n\n    .dataframe thead th {\n        text-align: right;\n    }\n</style>\n<table border=\"1\" class=\"dataframe\">\n  <thead>\n    <tr style=\"text-align: right;\">\n      <th></th>\n      <th>party</th>\n      <th>Gender</th>\n      <th>count</th>\n      <th>%</th>\n    </tr>\n  </thead>\n  <tbody>\n    <tr>\n      <th>0</th>\n      <td>Australian Greens</td>\n      <td>Female</td>\n      <td>8</td>\n      <td>53.333333</td>\n    </tr>\n    <tr>\n      <th>1</th>\n      <td>Australian Greens</td>\n      <td>Male</td>\n      <td>7</td>\n      <td>46.666667</td>\n    </tr>\n    <tr>\n      <th>2</th>\n      <td>Australian Labor Party</td>\n      <td>Female</td>\n      <td>54</td>\n      <td>52.427184</td>\n    </tr>\n    <tr>\n      <th>3</th>\n      <td>Australian Labor Party</td>\n      <td>Male</td>\n      <td>49</td>\n      <td>47.572816</td>\n    </tr>\n    <tr>\n      <th>4</th>\n      <td>Centre Alliance</td>\n      <td>Female</td>\n      <td>1</td>\n      <td>100.000000</td>\n    </tr>\n    <tr>\n      <th>5</th>\n      <td>Coalition</td>\n      <td>Female</td>\n      <td>25</td>\n      <td>28.409091</td>\n    </tr>\n    <tr>\n      <th>6</th>\n      <td>Coalition</td>\n      <td>Male</td>\n      <td>63</td>\n      <td>71.590909</td>\n    </tr>\n    <tr>\n      <th>7</th>\n      <td>Independent</td>\n      <td>Female</td>\n      <td>5</td>\n      <td>100.000000</td>\n    </tr>\n    <tr>\n      <th>8</th>\n      <td>Jacqui Lambie Network</td>\n      <td>Female</td>\n      <td>2</td>\n      <td>100.000000</td>\n    </tr>\n    <tr>\n      <th>9</th>\n      <td>Katter's Australian Party</td>\n      <td>Male</td>\n      <td>1</td>\n      <td>100.000000</td>\n    </tr>\n    <tr>\n      <th>10</th>\n      <td>One Nation</td>\n      <td>Female</td>\n      <td>1</td>\n      <td>50.000000</td>\n    </tr>\n    <tr>\n      <th>11</th>\n      <td>One Nation</td>\n      <td>Male</td>\n      <td>1</td>\n      <td>50.000000</td>\n    </tr>\n    <tr>\n      <th>12</th>\n      <td>United Australia Party</td>\n      <td>Male</td>\n      <td>1</td>\n      <td>100.000000</td>\n    </tr>\n  </tbody>\n</table>\n</div>"
     },
     "execution_count": 54,
     "metadata": {},
     "output_type": "execute_result"
    }
   ],
   "source": [
    "party_counts = ministers.groupby([\"party\", \"Gender\"]).size().reset_index(name='count')\n",
    "party_counts[\"%\"] = (party_counts[\"count\"] / party_counts.groupby(\"party\")[\"count\"].transform(\"sum\")) * 100\n",
    "party_counts"
   ],
   "metadata": {
    "collapsed": false
   }
  },
  {
   "cell_type": "code",
   "execution_count": 80,
   "outputs": [
    {
     "ename": "ValueError",
     "evalue": "Tz-aware datetime.datetime cannot be converted to datetime64 unless utc=True",
     "output_type": "error",
     "traceback": [
      "\u001B[0;31m---------------------------------------------------------------------------\u001B[0m",
      "\u001B[0;31mValueError\u001B[0m                                Traceback (most recent call last)",
      "Cell \u001B[0;32mIn[80], line 2\u001B[0m\n\u001B[1;32m      1\u001B[0m \u001B[38;5;66;03m# update minister table set string values in dob to timestamp values in dob\u001B[39;00m\n\u001B[0;32m----> 2\u001B[0m ministers[\u001B[38;5;124m\"\u001B[39m\u001B[38;5;124mdob\u001B[39m\u001B[38;5;124m\"\u001B[39m] \u001B[38;5;241m=\u001B[39m \u001B[43mpd\u001B[49m\u001B[38;5;241;43m.\u001B[39;49m\u001B[43mto_datetime\u001B[49m\u001B[43m(\u001B[49m\u001B[43mministers\u001B[49m\u001B[43m[\u001B[49m\u001B[38;5;124;43m\"\u001B[39;49m\u001B[38;5;124;43mdob\u001B[39;49m\u001B[38;5;124;43m\"\u001B[39;49m\u001B[43m]\u001B[49m\u001B[43m)\u001B[49m\n\u001B[1;32m      3\u001B[0m ministers[\u001B[38;5;124m\"\u001B[39m\u001B[38;5;124mdob\u001B[39m\u001B[38;5;124m\"\u001B[39m]\u001B[38;5;241m.\u001B[39mdtypes\n",
      "File \u001B[0;32m~/.cache/pypoetry/virtualenvs/pollypedagogymap-NEXWE1VB-py3.10/lib/python3.10/site-packages/pandas/core/tools/datetimes.py:1068\u001B[0m, in \u001B[0;36mto_datetime\u001B[0;34m(arg, errors, dayfirst, yearfirst, utc, format, exact, unit, infer_datetime_format, origin, cache)\u001B[0m\n\u001B[1;32m   1066\u001B[0m         result \u001B[38;5;241m=\u001B[39m arg\u001B[38;5;241m.\u001B[39mmap(cache_array)\n\u001B[1;32m   1067\u001B[0m     \u001B[38;5;28;01melse\u001B[39;00m:\n\u001B[0;32m-> 1068\u001B[0m         values \u001B[38;5;241m=\u001B[39m \u001B[43mconvert_listlike\u001B[49m\u001B[43m(\u001B[49m\u001B[43marg\u001B[49m\u001B[38;5;241;43m.\u001B[39;49m\u001B[43m_values\u001B[49m\u001B[43m,\u001B[49m\u001B[43m \u001B[49m\u001B[38;5;28;43mformat\u001B[39;49m\u001B[43m)\u001B[49m\n\u001B[1;32m   1069\u001B[0m         result \u001B[38;5;241m=\u001B[39m arg\u001B[38;5;241m.\u001B[39m_constructor(values, index\u001B[38;5;241m=\u001B[39marg\u001B[38;5;241m.\u001B[39mindex, name\u001B[38;5;241m=\u001B[39marg\u001B[38;5;241m.\u001B[39mname)\n\u001B[1;32m   1070\u001B[0m \u001B[38;5;28;01melif\u001B[39;00m \u001B[38;5;28misinstance\u001B[39m(arg, (ABCDataFrame, abc\u001B[38;5;241m.\u001B[39mMutableMapping)):\n",
      "File \u001B[0;32m~/.cache/pypoetry/virtualenvs/pollypedagogymap-NEXWE1VB-py3.10/lib/python3.10/site-packages/pandas/core/tools/datetimes.py:438\u001B[0m, in \u001B[0;36m_convert_listlike_datetimes\u001B[0;34m(arg, format, name, tz, unit, errors, infer_datetime_format, dayfirst, yearfirst, exact)\u001B[0m\n\u001B[1;32m    436\u001B[0m \u001B[38;5;28;01massert\u001B[39;00m \u001B[38;5;28mformat\u001B[39m \u001B[38;5;129;01mis\u001B[39;00m \u001B[38;5;28;01mNone\u001B[39;00m \u001B[38;5;129;01mor\u001B[39;00m infer_datetime_format\n\u001B[1;32m    437\u001B[0m utc \u001B[38;5;241m=\u001B[39m tz \u001B[38;5;241m==\u001B[39m \u001B[38;5;124m\"\u001B[39m\u001B[38;5;124mutc\u001B[39m\u001B[38;5;124m\"\u001B[39m\n\u001B[0;32m--> 438\u001B[0m result, tz_parsed \u001B[38;5;241m=\u001B[39m \u001B[43mobjects_to_datetime64ns\u001B[49m\u001B[43m(\u001B[49m\n\u001B[1;32m    439\u001B[0m \u001B[43m    \u001B[49m\u001B[43marg\u001B[49m\u001B[43m,\u001B[49m\n\u001B[1;32m    440\u001B[0m \u001B[43m    \u001B[49m\u001B[43mdayfirst\u001B[49m\u001B[38;5;241;43m=\u001B[39;49m\u001B[43mdayfirst\u001B[49m\u001B[43m,\u001B[49m\n\u001B[1;32m    441\u001B[0m \u001B[43m    \u001B[49m\u001B[43myearfirst\u001B[49m\u001B[38;5;241;43m=\u001B[39;49m\u001B[43myearfirst\u001B[49m\u001B[43m,\u001B[49m\n\u001B[1;32m    442\u001B[0m \u001B[43m    \u001B[49m\u001B[43mutc\u001B[49m\u001B[38;5;241;43m=\u001B[39;49m\u001B[43mutc\u001B[49m\u001B[43m,\u001B[49m\n\u001B[1;32m    443\u001B[0m \u001B[43m    \u001B[49m\u001B[43merrors\u001B[49m\u001B[38;5;241;43m=\u001B[39;49m\u001B[43merrors\u001B[49m\u001B[43m,\u001B[49m\n\u001B[1;32m    444\u001B[0m \u001B[43m    \u001B[49m\u001B[43mrequire_iso8601\u001B[49m\u001B[38;5;241;43m=\u001B[39;49m\u001B[43mrequire_iso8601\u001B[49m\u001B[43m,\u001B[49m\n\u001B[1;32m    445\u001B[0m \u001B[43m    \u001B[49m\u001B[43mallow_object\u001B[49m\u001B[38;5;241;43m=\u001B[39;49m\u001B[38;5;28;43;01mTrue\u001B[39;49;00m\u001B[43m,\u001B[49m\n\u001B[1;32m    446\u001B[0m \u001B[43m\u001B[49m\u001B[43m)\u001B[49m\n\u001B[1;32m    448\u001B[0m \u001B[38;5;28;01mif\u001B[39;00m tz_parsed \u001B[38;5;129;01mis\u001B[39;00m \u001B[38;5;129;01mnot\u001B[39;00m \u001B[38;5;28;01mNone\u001B[39;00m:\n\u001B[1;32m    449\u001B[0m     \u001B[38;5;66;03m# We can take a shortcut since the datetime64 numpy array\u001B[39;00m\n\u001B[1;32m    450\u001B[0m     \u001B[38;5;66;03m# is in UTC\u001B[39;00m\n\u001B[1;32m    451\u001B[0m     dta \u001B[38;5;241m=\u001B[39m DatetimeArray(result, dtype\u001B[38;5;241m=\u001B[39mtz_to_dtype(tz_parsed))\n",
      "File \u001B[0;32m~/.cache/pypoetry/virtualenvs/pollypedagogymap-NEXWE1VB-py3.10/lib/python3.10/site-packages/pandas/core/arrays/datetimes.py:2177\u001B[0m, in \u001B[0;36mobjects_to_datetime64ns\u001B[0;34m(data, dayfirst, yearfirst, utc, errors, require_iso8601, allow_object, allow_mixed)\u001B[0m\n\u001B[1;32m   2175\u001B[0m order: Literal[\u001B[38;5;124m\"\u001B[39m\u001B[38;5;124mF\u001B[39m\u001B[38;5;124m\"\u001B[39m, \u001B[38;5;124m\"\u001B[39m\u001B[38;5;124mC\u001B[39m\u001B[38;5;124m\"\u001B[39m] \u001B[38;5;241m=\u001B[39m \u001B[38;5;124m\"\u001B[39m\u001B[38;5;124mF\u001B[39m\u001B[38;5;124m\"\u001B[39m \u001B[38;5;28;01mif\u001B[39;00m flags\u001B[38;5;241m.\u001B[39mf_contiguous \u001B[38;5;28;01melse\u001B[39;00m \u001B[38;5;124m\"\u001B[39m\u001B[38;5;124mC\u001B[39m\u001B[38;5;124m\"\u001B[39m\n\u001B[1;32m   2176\u001B[0m \u001B[38;5;28;01mtry\u001B[39;00m:\n\u001B[0;32m-> 2177\u001B[0m     result, tz_parsed \u001B[38;5;241m=\u001B[39m \u001B[43mtslib\u001B[49m\u001B[38;5;241;43m.\u001B[39;49m\u001B[43marray_to_datetime\u001B[49m\u001B[43m(\u001B[49m\n\u001B[1;32m   2178\u001B[0m \u001B[43m        \u001B[49m\u001B[43mdata\u001B[49m\u001B[38;5;241;43m.\u001B[39;49m\u001B[43mravel\u001B[49m\u001B[43m(\u001B[49m\u001B[38;5;124;43m\"\u001B[39;49m\u001B[38;5;124;43mK\u001B[39;49m\u001B[38;5;124;43m\"\u001B[39;49m\u001B[43m)\u001B[49m\u001B[43m,\u001B[49m\n\u001B[1;32m   2179\u001B[0m \u001B[43m        \u001B[49m\u001B[43merrors\u001B[49m\u001B[38;5;241;43m=\u001B[39;49m\u001B[43merrors\u001B[49m\u001B[43m,\u001B[49m\n\u001B[1;32m   2180\u001B[0m \u001B[43m        \u001B[49m\u001B[43mutc\u001B[49m\u001B[38;5;241;43m=\u001B[39;49m\u001B[43mutc\u001B[49m\u001B[43m,\u001B[49m\n\u001B[1;32m   2181\u001B[0m \u001B[43m        \u001B[49m\u001B[43mdayfirst\u001B[49m\u001B[38;5;241;43m=\u001B[39;49m\u001B[43mdayfirst\u001B[49m\u001B[43m,\u001B[49m\n\u001B[1;32m   2182\u001B[0m \u001B[43m        \u001B[49m\u001B[43myearfirst\u001B[49m\u001B[38;5;241;43m=\u001B[39;49m\u001B[43myearfirst\u001B[49m\u001B[43m,\u001B[49m\n\u001B[1;32m   2183\u001B[0m \u001B[43m        \u001B[49m\u001B[43mrequire_iso8601\u001B[49m\u001B[38;5;241;43m=\u001B[39;49m\u001B[43mrequire_iso8601\u001B[49m\u001B[43m,\u001B[49m\n\u001B[1;32m   2184\u001B[0m \u001B[43m        \u001B[49m\u001B[43mallow_mixed\u001B[49m\u001B[38;5;241;43m=\u001B[39;49m\u001B[43mallow_mixed\u001B[49m\u001B[43m,\u001B[49m\n\u001B[1;32m   2185\u001B[0m \u001B[43m    \u001B[49m\u001B[43m)\u001B[49m\n\u001B[1;32m   2186\u001B[0m     result \u001B[38;5;241m=\u001B[39m result\u001B[38;5;241m.\u001B[39mreshape(data\u001B[38;5;241m.\u001B[39mshape, order\u001B[38;5;241m=\u001B[39morder)\n\u001B[1;32m   2187\u001B[0m \u001B[38;5;28;01mexcept\u001B[39;00m \u001B[38;5;167;01mOverflowError\u001B[39;00m \u001B[38;5;28;01mas\u001B[39;00m err:\n\u001B[1;32m   2188\u001B[0m     \u001B[38;5;66;03m# Exception is raised when a part of date is greater than 32 bit signed int\u001B[39;00m\n",
      "File \u001B[0;32m~/.cache/pypoetry/virtualenvs/pollypedagogymap-NEXWE1VB-py3.10/lib/python3.10/site-packages/pandas/_libs/tslib.pyx:427\u001B[0m, in \u001B[0;36mpandas._libs.tslib.array_to_datetime\u001B[0;34m()\u001B[0m\n",
      "File \u001B[0;32m~/.cache/pypoetry/virtualenvs/pollypedagogymap-NEXWE1VB-py3.10/lib/python3.10/site-packages/pandas/_libs/tslib.pyx:520\u001B[0m, in \u001B[0;36mpandas._libs.tslib.array_to_datetime\u001B[0;34m()\u001B[0m\n",
      "\u001B[0;31mValueError\u001B[0m: Tz-aware datetime.datetime cannot be converted to datetime64 unless utc=True"
     ]
    }
   ],
   "source": [
    "# update minister table set string values in dob to timestamp values in dob\n",
    "ministers[\"dob\"] = pd.to_datetime(ministers[\"dob\"])\n",
    "ministers[\"dob\"].dtypes"
   ],
   "metadata": {
    "collapsed": false
   }
  },
  {
   "cell_type": "code",
   "execution_count": 71,
   "outputs": [
    {
     "ename": "SyntaxError",
     "evalue": "invalid syntax (2557331333.py, line 5)",
     "output_type": "error",
     "traceback": [
      "\u001B[0;36m  Cell \u001B[0;32mIn[71], line 5\u001B[0;36m\u001B[0m\n\u001B[0;31m    ministers.loc[~ministers[\"dob\"].isnull() ,\"age\"] = pd.to_datetime(ministers[\"dob\"]).apply(lambda x: today.year - x.year - ((today.month, today.day) < (x.month, x.day)) if x else)\u001B[0m\n\u001B[0m                                                                                                                                                                                     ^\u001B[0m\n\u001B[0;31mSyntaxError\u001B[0m\u001B[0;31m:\u001B[0m invalid syntax\n"
     ]
    }
   ],
   "source": [
    "# calculate ministers age using their date of birth grouped by party\n",
    "from datetime import date\n",
    "\n",
    "today = date.today()\n",
    "ministers.loc[~ministers[\"dob\"].isnull() ,\"age\"] = pd.to_datetime(ministers[\"dob\"]).apply(lambda x: today.year - x.year - ((today.month, today.day) < (x.month, x.day)) if x else)\n",
    "ministers.groupby([\"party\"]).agg({\"age\": [\"mean\", \"std\"]})"
   ],
   "metadata": {
    "collapsed": false
   }
  },
  {
   "cell_type": "code",
   "execution_count": null,
   "outputs": [],
   "source": [
    "import plotly.express as px\n",
    "\n",
    "fig = px.bar(party_counts, x=\"party\", y=\"count\", color=\"gender_ident\", title=\"Gender breakdown of Australian politicians by party\")\n",
    "fig.show()"
   ],
   "metadata": {
    "collapsed": false
   }
  },
  {
   "cell_type": "code",
   "execution_count": null,
   "outputs": [],
   "source": [
    "ministers_education = pd.read_sql(\"\"\"\n",
    "SELECT m.member, m.party, m.district, m.is_representative, m.is_senator, m.graduated,  e.school_name, a.\"School Sector\", a.State, a.\"ABS Remoteness Area\"\n",
    "FROM minister m\n",
    "JOIN minister_education me on m.id = me.minister_id\n",
    "JOIN education e ON e.fid = me.education_id\n",
    "JOIN education_acara ea on e.fid = ea.education_id\n",
    "JOIN acara_school_locations_2022 a on ea.acara_id = a.fid\n",
    "WHERE e.is_high_school = 1\n",
    "ORDER BY m.id DESC\n",
    "\"\"\", db_con\n",
    ")"
   ],
   "metadata": {
    "collapsed": false
   }
  },
  {
   "cell_type": "code",
   "execution_count": null,
   "outputs": [],
   "source": [
    "ministers_education[\"School Sector\"].value_counts()"
   ],
   "metadata": {
    "collapsed": false
   }
  },
  {
   "cell_type": "code",
   "execution_count": null,
   "outputs": [],
   "source": [
    "# create a column for the school sector when grouping by member has attended a Government and a Independent or Catholic school then set  school sector to both if they have not attended either set  none\n",
    "ministers_education[\"school_sector\"] = ministers_education.groupby(\"member\")[\"School Sector\"].transform(lambda x: \"Both\" if \"Government\" in x.values and (\"Independent\" in x.values or  \"Catholic\" in x.values) else \"none\" if \"Government\" not in x.values and (\"Independent\" not in x.values and  \"Catholic\" not in x.values) else \"Government\" if \"Government\" in x.values else \"Independent\" if \"Independent\" in x.values else \"Catholic\")\n",
    "school_sector_counts = ministers_education.drop_duplicates([\"member\", \"school_sector\"]).groupby([ \"party\", \"school_sector\"]).size().reset_index(name='count')\n",
    "# noinspection JupyterPackage,PyPackageRequirements\n",
    "school_sector_counts"
   ],
   "metadata": {
    "collapsed": false
   }
  },
  {
   "cell_type": "code",
   "execution_count": null,
   "outputs": [],
   "source": [
    "# create a plot of ministers school sector type by party\n",
    "\n",
    "school_sector_counts = ministers_education.drop_duplicates([\"member\", \"school_sector\"]).groupby([\"school_sector\", \"party\",]).size().reset_index(name='count')\n",
    "fig = px.bar(school_sector_counts, x=\"party\", y=\"count\", color=\"school_sector\", title=\"School sector breakdown of Australian politicians by party\")\n",
    "fig.show()"
   ],
   "metadata": {
    "collapsed": false
   }
  },
  {
   "cell_type": "markdown",
   "source": [
    "ministers"
   ],
   "metadata": {
    "collapsed": false
   }
  },
  {
   "cell_type": "code",
   "execution_count": null,
   "outputs": [],
   "source": [
    "school_sector_counts = ministers_education.drop_duplicates([\"member\", \"school_sector\"]).groupby([ \"party\", \"school_sector\"]).size().reset_index(name='count')\n",
    "fig = px.bar(school_sector_counts, x=\"school_sector\", y=\"count\", color=\"party\", title=\"School sector breakdown of Australian politicians by party\")\n",
    "fig.show()"
   ],
   "metadata": {
    "collapsed": false
   }
  },
  {
   "cell_type": "markdown",
   "source": [
    "# Educational school sector split of politicians\n",
    "Public is\n",
    "Government\t64.4605631350012\n",
    "Catholic\t19.6750931104224\n",
    "Independent\t15.8643437545764\n",
    "\n",
    "47th Parliament is\n",
    "Government\t47%\n",
    "Catholic\t20%\n",
    "Independent\t33%"
   ],
   "metadata": {
    "collapsed": false
   }
  },
  {
   "cell_type": "code",
   "execution_count": null,
   "outputs": [],
   "source": [
    "population_school_sector = {\n",
    "\"Catholic\": 19.7,\n",
    "\t\t\"Government\": 64.5,\n",
    "\"Independent\"\t: 15.8643437545764}\n",
    "# display population_school_sector as plotly bar graph\n",
    "fig = px.bar(pd.DataFrame.from_dict(population_school_sector, orient=\"index\").reset_index(), x=\"index\", y=0, color=\"index\", title=\"School sector breakdown of Australian population.\")\n",
    "fig.show()"
   ],
   "metadata": {
    "collapsed": false
   }
  },
  {
   "cell_type": "code",
   "execution_count": null,
   "outputs": [],
   "source": [
    "# create a plot of ministers as a percentage school sector\n",
    "school_sector_counts = ministers_education.drop_duplicates([\"member\", \"School Sector\"]).groupby([\"School Sector\"]).size().reset_index(name='count')\n",
    "school_sector_counts[\"%\"] = (school_sector_counts[\"count\"] / school_sector_counts[\"count\"].sum()) * 100\n",
    "fig = px.bar(school_sector_counts, x=\"School Sector\", y=\"%\", color=\"School Sector\", title=\"School sector breakdown of Australian politicians by party\")\n",
    "fig.show()"
   ],
   "metadata": {
    "collapsed": false
   }
  },
  {
   "cell_type": "code",
   "execution_count": null,
   "outputs": [],
   "source": [
    "# create a plot of ministers as a percentage school sector depending on if is_representative or senate\n",
    "school_sector_counts = ministers_education.drop_duplicates([\"member\", \"School Sector\"]).groupby([ \"is_representative\", \"School Sector\"]).size().reset_index(name='count')\n",
    "school_sector_counts[\"%\"] = (school_sector_counts[\"count\"] / school_sector_counts.groupby(\"is_representative\")[\"count\"].transform(\"sum\")) * 100\n",
    "school_sector_counts[\"politician_type\"] = school_sector_counts[\"is_representative\"].apply(lambda x: \"Member\" if x else \"Senator\")\n",
    "fig = px.bar(school_sector_counts, x=\"politician_type\", y=\"%\", color=\"School Sector\", title=\"School sector breakdown of Australian politicians by party\", labels={\"politician_type\": \"Chamber\"})\n",
    "fig.show()\n"
   ],
   "metadata": {
    "collapsed": false
   }
  },
  {
   "cell_type": "markdown",
   "source": [
    "\n",
    "\n"
   ],
   "metadata": {
    "collapsed": false
   }
  }
 ],
 "metadata": {
  "kernelspec": {
   "display_name": "Python 3",
   "language": "python",
   "name": "python3"
  },
  "language_info": {
   "codemirror_mode": {
    "name": "ipython",
    "version": 2
   },
   "file_extension": ".py",
   "mimetype": "text/x-python",
   "name": "python",
   "nbconvert_exporter": "python",
   "pygments_lexer": "ipython2",
   "version": "2.7.6"
  }
 },
 "nbformat": 4,
 "nbformat_minor": 0
}
