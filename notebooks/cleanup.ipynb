{
 "cells": [
  {
   "cell_type": "markdown",
   "source": [
    "# Clean up\n",
    "## Todos\n",
    "- clean schools file\n",
    "  - lookup missing points from wikipedia/google\n",
    "  - find wiki entity links\n",
    "  - convert wkt to geom\n",
    "- education table check current universities\n",
    "\t- merge schools table (these are entities looked up on wikipedia with education\n",
    "- convert ministers school list to relational\n",
    "- update ministry file\n",
    "- update careers file\n",
    "  - extract careers + profession from wikipedia\n",
    "- We should've collected data source"
   ],
   "metadata": {
    "collapsed": false
   }
  },
  {
   "cell_type": "code",
   "execution_count": null,
   "outputs": [],
   "source": [],
   "metadata": {
    "collapsed": false
   }
  }
 ],
 "metadata": {
  "kernelspec": {
   "display_name": "Python 3",
   "language": "python",
   "name": "python3"
  },
  "language_info": {
   "codemirror_mode": {
    "name": "ipython",
    "version": 2
   },
   "file_extension": ".py",
   "mimetype": "text/x-python",
   "name": "python",
   "nbconvert_exporter": "python",
   "pygments_lexer": "ipython2",
   "version": "2.7.6"
  }
 },
 "nbformat": 4,
 "nbformat_minor": 0
}
