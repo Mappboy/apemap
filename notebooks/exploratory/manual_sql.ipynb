{
 "cells": [
  {
   "cell_type": "code",
   "execution_count": null,
   "metadata": {
    "collapsed": true
   },
   "outputs": [],
   "source": []
  },
  {
   "cell_type": "markdown",
   "source": [
    "Data cleaning to relational tables"
   ],
   "metadata": {
    "collapsed": false
   }
  },
  {
   "cell_type": "code",
   "execution_count": null,
   "outputs": [],
   "source": [
    "sql = \"\"\"create table minister\n",
    "(\n",
    "    id                integer primary key,\n",
    "    \"wiki link\"       TEXT,\n",
    "    start             TEXT,\n",
    "    district_link     TEXT,\n",
    "    \"group\"           TEXT,\n",
    "    member            TEXT,\n",
    "    party             TEXT,\n",
    "    district          TEXT,\n",
    "    is_senator        INT,\n",
    "    is_representative INT,\n",
    "    graduated INT\n",
    ");\n",
    "\n",
    "insert into minister(\"wiki link\", start, district_link, \"group\", member, party, district, is_senator,\n",
    "                            is_representative, graduated)\n",
    "select distinct \"wiki link\",\n",
    "       start,\n",
    "       district_link,\n",
    "       \"group\",\n",
    "       member,\n",
    "       party,\n",
    "       district,\n",
    "       is_senator,\n",
    "       is_representative,\n",
    "       graduated,\n",
    "       mp_id\n",
    "from cleaning_data_ministers;\n",
    "\n",
    "ALTER TABLE minister ADD COLUMN mp_id integer;\n",
    "UPDATE minister\n",
    "SET mp_id = a.mp_id from (SELECT distinct member, mp_id from ministers) a WHERE a.member = minister.member;\n",
    "\n",
    "\n",
    "create TABLE minister as SELECT distinct \"wiki link\", start, district_link, \"group\", member, party, district, is_senator, is_representative, graduated from ministers;\n",
    "ALTER TABLE minister ADD COLUMN mp_id integer;\n",
    "UPDATE minister\n",
    "SET mp_id = a.mp_id from (SELECT distinct member, mp_id from ministers) a WHERE a.member = minister.member;\n",
    "\n",
    "create TABLE minister_education as SELECT distinct ministers.education_id, minister.id as minister_id  from ministers join minister on ministers.member = minister.member;\n",
    "\n",
    "CREATE TABLE education_acara as SELECT e.fid as education_id,  \"ACARA SML ID\" as acara_id from acara__education JOIN education e on acara__education.school_name = e.school_name;\n",
    "\n",
    "drop table  if exists education_acara_dg_tmp;\n",
    "create table education_acara_dg_tmp\n",
    "(\n",
    "    education_id INT not null\n",
    "        constraint education_acara_education_fid_fk\n",
    "            references education,\n",
    "    acara_id     integer not null\n",
    "        constraint education_acara_acara_fid_fk\n",
    "            references acara_school_locations_2022,\n",
    "    id           integer primary key /*autoincrement needs PK*/\n",
    ");\n",
    "\n",
    "insert into education_acara_dg_tmp(education_id, acara_id, id)\n",
    "select education_id, asl.fid as acara_id, id\n",
    "from education_acara JOIN acara_school_locations_2022 asl on asl.\"ACARA SML ID\" = education_acara.acara_id;\n",
    "\n",
    "drop table education_acara;\n",
    "\n",
    "alter table education_acara_dg_tmp\n",
    "    rename to education_acara;\n",
    "\n",
    "alter table ministers rename to  cleaning_data_ministers;\n",
    "\n",
    "drop table  if exists education_acara_dg_tmp;\n",
    "create table education_acara_dg_tmp\n",
    "(\n",
    "    education_id INT not null\n",
    "        constraint education_acara_education_fid_fk\n",
    "            references education,\n",
    "    acara_id     integer not null\n",
    "        constraint education_acara_acara_fid_fk\n",
    "            references acara_school_locations_2022,\n",
    "    id           integer primary key /*autoincrement needs PK*/\n",
    ");\n",
    "\n",
    "insert into education_acara_dg_tmp(education_id, acara_id)\n",
    "select e.fid as education_id, asl.fid as acara_id\n",
    "from acara__education ae\n",
    "    JOIN acara_school_locations_2022 asl on asl.\"ACARA SML ID\" = ae.\"ACARA SML ID\"\n",
    "    JOIN education e  on e.school_name = ae.school_name;\n",
    ";\n",
    "\n",
    "drop table education_acara;\n",
    "\n",
    "alter table education_acara_dg_tmp\n",
    "    rename to education_acara;\n",
    "\n",
    "\"\"\"\n"
   ],
   "metadata": {
    "collapsed": false
   }
  },
  {
   "cell_type": "markdown",
   "source": [
    "Add some nice views for analysis\n",
    "\n"
   ],
   "metadata": {
    "collapsed": false
   }
  },
  {
   "cell_type": "code",
   "execution_count": null,
   "outputs": [],
   "source": [
    "# add mary doyle manually\n",
    "\"\"\"INSERT INTO minister_education(minister_id, education_id)\n",
    "SELECT id,fid  from minister,  education\n",
    "where member = 'Mary Doyle' AND  school_name IN  ('Bendigo Senior Secondary College', 'St Joseph’s College,  Echuca' );\n",
    "\n",
    "INSERT INTO education_acara(education_id, acara_id)\n",
    "SELECT e.fid, a.fid from education e , acara_school_locations_2022 a\n",
    "where school_name IN  ('Bendigo Senior Secondary College', 'St Joseph’s College, Echuca' )\n",
    "AND ( \"School Name\" LIKE '%joseph%' AND \"Suburb\" = 'ECHUCA' OR \"School Name\" = 'Bendigo Senior Secondary College')\"\"\""
   ],
   "metadata": {
    "collapsed": false
   }
  },
  {
   "cell_type": "code",
   "execution_count": null,
   "outputs": [],
   "source": [
    "import pathlib\n",
    "import sqlite3\n",
    "\n",
    "import pandas as pd\n",
    "\n",
    "from utils import get_dob_gender_from_wikidata\n",
    "\n",
    "root_data_dir = pathlib.Path(\"..\").resolve() / \"data\"\n",
    "ext_data_dir = root_data_dir / \"external\"\n",
    "\n",
    "gpkg = root_data_dir / \"aped.gpkg\"\n",
    "db_con = sqlite3.connect(gpkg)\n",
    "ministers = pd.read_sql(\"SELECT * from minister\", db_con)\n",
    "\n",
    "df = ministers[\"wiki link\"].apply(get_dob_gender_from_wikidata)\n",
    "ministers[\"dob\"] = pd.to_datetime(df[\"dob\"])\n",
    "ministers[\"gender_ident\"] = df[\"genderLabel\"]\n",
    "minister_demogs = ministers[[\"id\", \"member\", \"gender_ident\", \"dob\"]]\n",
    "minister_demogs.rename(columns={\"id\": \"minister_id\"}, inplace=True)\n",
    "minister_demogs.to_sql(db_con=db_con, name=\"minister_demogs\", if_exists=\"replace\")"
   ],
   "metadata": {
    "collapsed": false
   }
  },
  {
   "cell_type": "code",
   "execution_count": null,
   "outputs": [],
   "source": [
    "\"\"\"\n",
    "ALTER TABLE minister ADD COLUMN high_school varchar(15);\n",
    "-- Add school sector use partition over member to check if all values are the same\n",
    "WITH school_agg AS (\n",
    "SELECT\n",
    "    minister.id,\n",
    "    member,\n",
    "    array_agg(\"school sector\") as school_sector\n",
    "FROM minister\n",
    "    LEFT JOIN minister_education me ON minister.id = me.minister_id\n",
    "    JOIN education e ON me.education_id = e.id\n",
    "    JOIN education_acara ea ON e.id = ea.education_id\n",
    "    JOIN acara_school_locations_2022 asl ON ea.acara_id = asl.\"acara sml id\"\n",
    "GROUP BY member, minister.id),\n",
    "    comb as (\n",
    "SELECT id,\n",
    "       member,\n",
    "    CASE\n",
    "        WHEN 'Government' = ANY(school_sector) AND ('Independent' = ANY(school_sector) OR 'Catholic' = ANY(school_sector))\n",
    "            THEN 'Both'\n",
    "        WHEN 'Government' != ANY(school_sector) AND 'Independent'  != ANY(school_sector) AND 'Catholic'  != ANY(school_sector)\n",
    "            THEN 'Unknown'\n",
    "        WHEN 'Government' = ANY(school_sector)\n",
    "            THEN 'Public'\n",
    "        WHEN 'Independent' = ANY(school_sector)\n",
    "            THEN 'Non-government'\n",
    "        WHEN 'Catholic' = ANY(school_sector)\n",
    "            THEN 'Non-government'\n",
    "    END AS school_sector_group\n",
    "FROM school_agg)\n",
    "UPDATE minister\n",
    "SET high_school = comb.school_sector_group\n",
    "FROM comb\n",
    "WHERE minister.id = comb.id;\n",
    "\"\"\""
   ],
   "metadata": {
    "collapsed": false
   }
  },
  {
   "cell_type": "code",
   "execution_count": null,
   "outputs": [],
   "source": [
    "# add house\n",
    "\"\"\"ALTER TABLE minister ADD COLUMN house varchar(6);\n",
    "UPDATE minister SET house = 'house' WHERE is_representative = True;\n",
    "UPDATE minister SET house = 'senate' WHERE is_senator = True;\n",
    "\"\"\""
   ],
   "metadata": {
    "collapsed": false
   }
  },
  {
   "cell_type": "code",
   "execution_count": null,
   "outputs": [],
   "source": [
    "# Fix members secondary school\n",
    "\"UPDATE public.members_secondary_school SET secondaryschool = 'Rosny College'::text WHERE id = 79::bigint AND phid LIKE '008CH' ESCAPE '#' AND secondaryschool LIKE 'Rosny College (Hobart)' ESCAPE '#' AND ctid = '(0,72)'\"\n",
    "\"UPDATE public.members_secondary_school SET secondaryschool = 'St Ignatius College'::text WHERE id = 303::bigint AND phid LIKE '275424' ESCAPE '#' AND secondaryschool LIKE 'St. Ignatius College' ESCAPE '#' AND ctid = '(2,42)'\"\n",
    "\"UPDATE public.members_secondary_school SET secondaryschool = 'Lauriston Girls'' School'::text WHERE id = 203::bigint AND phid LIKE '124514' ESCAPE '#' AND secondaryschool LIKE 'Lauriston Girls School' ESCAPE '#' AND ctid = '(1,67)'\""
   ],
   "metadata": {
    "collapsed": false
   }
  },
  {
   "cell_type": "code",
   "execution_count": null,
   "outputs": [],
   "source": [
    "# Tidy wikipedia members\n",
    "\"\"\"\n",
    "alter table members_wiki\n",
    "    rename column item to wikidata_entity;\n",
    "\n",
    "alter table members_wiki\n",
    "    rename column start to service_start;\n",
    "\n",
    "alter table members_wiki\n",
    "    rename column \"end\" to service_end;\n",
    "\n",
    "alter table members_wiki\n",
    "    rename column district to district_link;\n",
    "\n",
    "alter table members_wiki\n",
    "    rename column \"itemLabel\" to member;\n",
    "\n",
    "alter table members_wiki\n",
    "    rename column \"districtLabel\" to division;\n",
    "\n",
    "alter table members_wiki\n",
    "    rename column edu to school_link;\n",
    "\n",
    "alter table members_wiki\n",
    "    rename column \"eduLabel\" to school_name;\n",
    "\n",
    "alter table members_wiki\n",
    "    rename column \"group\" to party_link;\n",
    "\n",
    "alter table members_wiki\n",
    "    rename column \"groupLabel\" to party_name;\n",
    "\n",
    "\"\"\""
   ],
   "metadata": {
    "collapsed": false
   }
  },
  {
   "cell_type": "code",
   "execution_count": null,
   "outputs": [],
   "source": [
    "\"\"\"\n",
    "UPDATE education\n",
    "SET school_link = NULL\n",
    "WHERE school_link = 'http://www.wikidata.org/entity/None';\n",
    "\n",
    "UPDATE members\n",
    "SET wiki_link = NULL\n",
    "WHERE wiki_link = '';\n",
    "\n",
    "-- update school link where empty string to null\n",
    "UPDATE education\n",
    "SET school_link = NULL\n",
    "WHERE school_link = '';\n",
    "\"\"\""
   ],
   "metadata": {
    "collapsed": false
   }
  },
  {
   "cell_type": "code",
   "execution_count": null,
   "outputs": [],
   "source": [
    "\"\"\" INSERT INTO members_education(education_id, member_id)  VALUES\n",
    "(3,62),\n",
    "(57,240),\n",
    "(246,170),\n",
    "(17,199),\n",
    "(247,78),\n",
    "(145,19),\n",
    "(251,219);\"\"\""
   ],
   "metadata": {
    "collapsed": false
   }
  }
 ],
 "metadata": {
  "kernelspec": {
   "display_name": "Python 3",
   "language": "python",
   "name": "python3"
  },
  "language_info": {
   "codemirror_mode": {
    "name": "ipython",
    "version": 2
   },
   "file_extension": ".py",
   "mimetype": "text/x-python",
   "name": "python",
   "nbconvert_exporter": "python",
   "pygments_lexer": "ipython2",
   "version": "2.7.6"
  }
 },
 "nbformat": 4,
 "nbformat_minor": 0
}
