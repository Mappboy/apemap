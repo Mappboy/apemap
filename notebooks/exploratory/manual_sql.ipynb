{
 "cells": [
  {
   "cell_type": "code",
   "execution_count": null,
   "metadata": {
    "collapsed": true
   },
   "outputs": [],
   "source": []
  },
  {
   "cell_type": "markdown",
   "source": [
    "Data cleaning to relational tables"
   ],
   "metadata": {
    "collapsed": false
   }
  },
  {
   "cell_type": "code",
   "execution_count": null,
   "outputs": [],
   "source": [
    "sql = \"\"\"create table minister\n",
    "(\n",
    "    id                integer primary key,\n",
    "    \"wiki link\"       TEXT,\n",
    "    start             TEXT,\n",
    "    district_link     TEXT,\n",
    "    \"group\"           TEXT,\n",
    "    member            TEXT,\n",
    "    party             TEXT,\n",
    "    district          TEXT,\n",
    "    is_senator        INT,\n",
    "    is_representative INT,\n",
    "    graduated INT\n",
    ");\n",
    "\n",
    "insert into minister(\"wiki link\", start, district_link, \"group\", member, party, district, is_senator,\n",
    "                            is_representative, graduated)\n",
    "select distinct \"wiki link\",\n",
    "       start,\n",
    "       district_link,\n",
    "       \"group\",\n",
    "       member,\n",
    "       party,\n",
    "       district,\n",
    "       is_senator,\n",
    "       is_representative,\n",
    "       graduated,\n",
    "       mp_id\n",
    "from cleaning_data_ministers;\n",
    "\n",
    "ALTER TABLE minister ADD COLUMN mp_id integer;\n",
    "UPDATE minister\n",
    "SET mp_id = a.mp_id from (SELECT distinct member, mp_id from ministers) a WHERE a.member = minister.member;\n",
    "\n",
    "\n",
    "create TABLE minister as SELECT distinct \"wiki link\", start, district_link, \"group\", member, party, district, is_senator, is_representative, graduated from ministers;\n",
    "ALTER TABLE minister ADD COLUMN mp_id integer;\n",
    "UPDATE minister\n",
    "SET mp_id = a.mp_id from (SELECT distinct member, mp_id from ministers) a WHERE a.member = minister.member;\n",
    "\n",
    "create TABLE minister_education as SELECT distinct ministers.education_id, minister.id as minister_id  from ministers join minister on ministers.member = minister.member;\n",
    "\n",
    "CREATE TABLE education_acara as SELECT e.fid as education_id,  \"ACARA SML ID\" as acara_id from acara__education JOIN education e on acara__education.school_name = e.school_name;\n",
    "\n",
    "drop table  if exists education_acara_dg_tmp;\n",
    "create table education_acara_dg_tmp\n",
    "(\n",
    "    education_id INT not null\n",
    "        constraint education_acara_education_fid_fk\n",
    "            references education,\n",
    "    acara_id     integer not null\n",
    "        constraint education_acara_acara_fid_fk\n",
    "            references acara_school_locations_2022,\n",
    "    id           integer primary key /*autoincrement needs PK*/\n",
    ");\n",
    "\n",
    "insert into education_acara_dg_tmp(education_id, acara_id, id)\n",
    "select education_id, asl.fid as acara_id, id\n",
    "from education_acara JOIN acara_school_locations_2022 asl on asl.\"ACARA SML ID\" = education_acara.acara_id;\n",
    "\n",
    "drop table education_acara;\n",
    "\n",
    "alter table education_acara_dg_tmp\n",
    "    rename to education_acara;\n",
    "\n",
    "alter table ministers rename to  cleaning_data_ministers;\n",
    "\n",
    "drop table  if exists education_acara_dg_tmp;\n",
    "create table education_acara_dg_tmp\n",
    "(\n",
    "    education_id INT not null\n",
    "        constraint education_acara_education_fid_fk\n",
    "            references education,\n",
    "    acara_id     integer not null\n",
    "        constraint education_acara_acara_fid_fk\n",
    "            references acara_school_locations_2022,\n",
    "    id           integer primary key /*autoincrement needs PK*/\n",
    ");\n",
    "\n",
    "insert into education_acara_dg_tmp(education_id, acara_id)\n",
    "select e.fid as education_id, asl.fid as acara_id\n",
    "from acara__education ae\n",
    "    JOIN acara_school_locations_2022 asl on asl.\"ACARA SML ID\" = ae.\"ACARA SML ID\"\n",
    "    JOIN education e  on e.school_name = ae.school_name;\n",
    ";\n",
    "\n",
    "drop table education_acara;\n",
    "\n",
    "alter table education_acara_dg_tmp\n",
    "    rename to education_acara;\n",
    "\n",
    "\"\"\"\n"
   ],
   "metadata": {
    "collapsed": false
   }
  },
  {
   "cell_type": "markdown",
   "source": [
    "Add some nice views for analysis\n",
    "\n"
   ],
   "metadata": {
    "collapsed": false
   }
  },
  {
   "cell_type": "code",
   "execution_count": null,
   "outputs": [],
   "source": [],
   "metadata": {
    "collapsed": false
   }
  },
  {
   "cell_type": "code",
   "execution_count": null,
   "outputs": [],
   "source": [
    "# add mary doyle manually\n",
    "INSERT INTO minister_education(minister_id, education_id)\n",
    "SELECT id,fid  from minister,  education\n",
    "where member = 'Mary Doyle' AND  school_name IN  ('Bendigo Senior Secondary College', 'St Joseph’s College,  Echuca' );\n",
    "\n",
    "INSERT INTO education_acara(education_id, acara_id)\n",
    "SELECT e.fid, a.fid from education e , acara_school_locations_2022 a\n",
    "where school_name IN  ('Bendigo Senior Secondary College', 'St Joseph’s College, Echuca' )\n",
    "AND ( \"School Name\" LIKE '%joseph%' AND \"Suburb\" = 'ECHUCA' OR \"School Name\" = 'Bendigo Senior Secondary College')"
   ],
   "metadata": {
    "collapsed": false
   }
  }
 ],
 "metadata": {
  "kernelspec": {
   "display_name": "Python 3",
   "language": "python",
   "name": "python3"
  },
  "language_info": {
   "codemirror_mode": {
    "name": "ipython",
    "version": 2
   },
   "file_extension": ".py",
   "mimetype": "text/x-python",
   "name": "python",
   "nbconvert_exporter": "python",
   "pygments_lexer": "ipython2",
   "version": "2.7.6"
  }
 },
 "nbformat": 4,
 "nbformat_minor": 0
}
