{
 "cells": [
  {
   "cell_type": "code",
   "execution_count": 2,
   "metadata": {
    "collapsed": true
   },
   "outputs": [
    {
     "data": {
      "text/plain": "     index                                  wiki link  \\\n0        0    http://www.wikidata.org/entity/Q4932983   \n1        1     http://www.wikidata.org/entity/Q335697   \n2        2     http://www.wikidata.org/entity/Q335697   \n3        3     http://www.wikidata.org/entity/Q335697   \n4        4    http://www.wikidata.org/entity/Q7684036   \n..     ...                                        ...   \n395    251  http://www.wikidata.org/entity/Q112112804   \n396    251  http://www.wikidata.org/entity/Q112112804   \n397    253  http://www.wikidata.org/entity/Q112114544   \n398    253  http://www.wikidata.org/entity/Q112114544   \n399    255  http://www.wikidata.org/entity/Q112116312   \n\n                                  schoollink  \\\n0     http://www.wikidata.org/entity/Q866012   \n1     http://www.wikidata.org/entity/Q487556   \n2    http://www.wikidata.org/entity/Q7594250   \n3    http://www.wikidata.org/entity/Q7896374   \n4     http://www.wikidata.org/entity/Q741082   \n..                                       ...   \n395                                      NaN   \n396                                      NaN   \n397                                      NaN   \n398                                      NaN   \n399                                      NaN   \n\n                              school name                 start  \\\n0                University of Queensland  1993-03-13T00:00:00Z   \n1                    University of Sydney  1996-03-02T00:00:00Z   \n2             St Mary's Cathedral College  1996-03-02T00:00:00Z   \n3    University of Sydney Business School  1996-03-02T00:00:00Z   \n4                    Macquarie University  1998-10-03T00:00:00Z   \n..                                    ...                   ...   \n395         University of South Australia  2022-05-21T00:00:00Z   \n396                   Adelaide University  2022-05-21T00:00:00Z   \n397                   La Trobe University  2022-05-21T00:00:00Z   \n398                     Deakin University  2022-05-21T00:00:00Z   \n399         University of New South Wales  2022-05-21T00:00:00Z   \n\n                               district_link  \\\n0    http://www.wikidata.org/entity/Q2973687   \n1    http://www.wikidata.org/entity/Q1079489   \n2    http://www.wikidata.org/entity/Q1079489   \n3    http://www.wikidata.org/entity/Q1079489   \n4    http://www.wikidata.org/entity/Q1075639   \n..                                       ...   \n395  http://www.wikidata.org/entity/Q2973469   \n396  http://www.wikidata.org/entity/Q2973469   \n397  http://www.wikidata.org/entity/Q2973490   \n398  http://www.wikidata.org/entity/Q2973490   \n399   http://www.wikidata.org/entity/Q817830   \n\n                                       group               member  \\\n0    http://www.wikidata.org/entity/Q6378340           Bob Katter   \n1     http://www.wikidata.org/entity/Q216082     Anthony Albanese   \n2     http://www.wikidata.org/entity/Q216082     Anthony Albanese   \n3     http://www.wikidata.org/entity/Q216082     Anthony Albanese   \n4     http://www.wikidata.org/entity/Q216082      Tanya Plibersek   \n..                                       ...                  ...   \n395   http://www.wikidata.org/entity/Q216082  Louise Miller-Frost   \n396   http://www.wikidata.org/entity/Q216082  Louise Miller-Frost   \n397  http://www.wikidata.org/entity/Q1065320          Aaron Violi   \n398  http://www.wikidata.org/entity/Q1065320          Aaron Violi   \n399   http://www.wikidata.org/entity/Q216082        Jerome Laxale   \n\n                         party   district  is_senator  is_representative  \\\n0    Katter's Australian Party    Kennedy           0                  1   \n1       Australian Labor Party  Grayndler           0                  1   \n2       Australian Labor Party  Grayndler           0                  1   \n3       Australian Labor Party  Grayndler           0                  1   \n4       Australian Labor Party     Sydney           0                  1   \n..                         ...        ...         ...                ...   \n395     Australian Labor Party    Boothby           0                  1   \n396     Australian Labor Party    Boothby           0                  1   \n397                  Coalition      Casey           0                  1   \n398                  Coalition      Casey           0                  1   \n399     Australian Labor Party  Bennelong           0                  1   \n\n    school_accuracy  graduated geometry  \n0               NaN          1     None  \n1               NaN          1     None  \n2               NaN          1     None  \n3               NaN          1     None  \n4               NaN          1     None  \n..              ...        ...      ...  \n395             NaN          1     None  \n396             NaN          1     None  \n397             NaN          1     None  \n398             NaN          1     None  \n399             NaN          1     None  \n\n[400 rows x 15 columns]",
      "text/html": "<div>\n<style scoped>\n    .dataframe tbody tr th:only-of-type {\n        vertical-align: middle;\n    }\n\n    .dataframe tbody tr th {\n        vertical-align: top;\n    }\n\n    .dataframe thead th {\n        text-align: right;\n    }\n</style>\n<table border=\"1\" class=\"dataframe\">\n  <thead>\n    <tr style=\"text-align: right;\">\n      <th></th>\n      <th>index</th>\n      <th>wiki link</th>\n      <th>schoollink</th>\n      <th>school name</th>\n      <th>start</th>\n      <th>district_link</th>\n      <th>group</th>\n      <th>member</th>\n      <th>party</th>\n      <th>district</th>\n      <th>is_senator</th>\n      <th>is_representative</th>\n      <th>school_accuracy</th>\n      <th>graduated</th>\n      <th>geometry</th>\n    </tr>\n  </thead>\n  <tbody>\n    <tr>\n      <th>0</th>\n      <td>0</td>\n      <td>http://www.wikidata.org/entity/Q4932983</td>\n      <td>http://www.wikidata.org/entity/Q866012</td>\n      <td>University of Queensland</td>\n      <td>1993-03-13T00:00:00Z</td>\n      <td>http://www.wikidata.org/entity/Q2973687</td>\n      <td>http://www.wikidata.org/entity/Q6378340</td>\n      <td>Bob Katter</td>\n      <td>Katter's Australian Party</td>\n      <td>Kennedy</td>\n      <td>0</td>\n      <td>1</td>\n      <td>NaN</td>\n      <td>1</td>\n      <td>None</td>\n    </tr>\n    <tr>\n      <th>1</th>\n      <td>1</td>\n      <td>http://www.wikidata.org/entity/Q335697</td>\n      <td>http://www.wikidata.org/entity/Q487556</td>\n      <td>University of Sydney</td>\n      <td>1996-03-02T00:00:00Z</td>\n      <td>http://www.wikidata.org/entity/Q1079489</td>\n      <td>http://www.wikidata.org/entity/Q216082</td>\n      <td>Anthony Albanese</td>\n      <td>Australian Labor Party</td>\n      <td>Grayndler</td>\n      <td>0</td>\n      <td>1</td>\n      <td>NaN</td>\n      <td>1</td>\n      <td>None</td>\n    </tr>\n    <tr>\n      <th>2</th>\n      <td>2</td>\n      <td>http://www.wikidata.org/entity/Q335697</td>\n      <td>http://www.wikidata.org/entity/Q7594250</td>\n      <td>St Mary's Cathedral College</td>\n      <td>1996-03-02T00:00:00Z</td>\n      <td>http://www.wikidata.org/entity/Q1079489</td>\n      <td>http://www.wikidata.org/entity/Q216082</td>\n      <td>Anthony Albanese</td>\n      <td>Australian Labor Party</td>\n      <td>Grayndler</td>\n      <td>0</td>\n      <td>1</td>\n      <td>NaN</td>\n      <td>1</td>\n      <td>None</td>\n    </tr>\n    <tr>\n      <th>3</th>\n      <td>3</td>\n      <td>http://www.wikidata.org/entity/Q335697</td>\n      <td>http://www.wikidata.org/entity/Q7896374</td>\n      <td>University of Sydney Business School</td>\n      <td>1996-03-02T00:00:00Z</td>\n      <td>http://www.wikidata.org/entity/Q1079489</td>\n      <td>http://www.wikidata.org/entity/Q216082</td>\n      <td>Anthony Albanese</td>\n      <td>Australian Labor Party</td>\n      <td>Grayndler</td>\n      <td>0</td>\n      <td>1</td>\n      <td>NaN</td>\n      <td>1</td>\n      <td>None</td>\n    </tr>\n    <tr>\n      <th>4</th>\n      <td>4</td>\n      <td>http://www.wikidata.org/entity/Q7684036</td>\n      <td>http://www.wikidata.org/entity/Q741082</td>\n      <td>Macquarie University</td>\n      <td>1998-10-03T00:00:00Z</td>\n      <td>http://www.wikidata.org/entity/Q1075639</td>\n      <td>http://www.wikidata.org/entity/Q216082</td>\n      <td>Tanya Plibersek</td>\n      <td>Australian Labor Party</td>\n      <td>Sydney</td>\n      <td>0</td>\n      <td>1</td>\n      <td>NaN</td>\n      <td>1</td>\n      <td>None</td>\n    </tr>\n    <tr>\n      <th>...</th>\n      <td>...</td>\n      <td>...</td>\n      <td>...</td>\n      <td>...</td>\n      <td>...</td>\n      <td>...</td>\n      <td>...</td>\n      <td>...</td>\n      <td>...</td>\n      <td>...</td>\n      <td>...</td>\n      <td>...</td>\n      <td>...</td>\n      <td>...</td>\n      <td>...</td>\n    </tr>\n    <tr>\n      <th>395</th>\n      <td>251</td>\n      <td>http://www.wikidata.org/entity/Q112112804</td>\n      <td>NaN</td>\n      <td>University of South Australia</td>\n      <td>2022-05-21T00:00:00Z</td>\n      <td>http://www.wikidata.org/entity/Q2973469</td>\n      <td>http://www.wikidata.org/entity/Q216082</td>\n      <td>Louise Miller-Frost</td>\n      <td>Australian Labor Party</td>\n      <td>Boothby</td>\n      <td>0</td>\n      <td>1</td>\n      <td>NaN</td>\n      <td>1</td>\n      <td>None</td>\n    </tr>\n    <tr>\n      <th>396</th>\n      <td>251</td>\n      <td>http://www.wikidata.org/entity/Q112112804</td>\n      <td>NaN</td>\n      <td>Adelaide University</td>\n      <td>2022-05-21T00:00:00Z</td>\n      <td>http://www.wikidata.org/entity/Q2973469</td>\n      <td>http://www.wikidata.org/entity/Q216082</td>\n      <td>Louise Miller-Frost</td>\n      <td>Australian Labor Party</td>\n      <td>Boothby</td>\n      <td>0</td>\n      <td>1</td>\n      <td>NaN</td>\n      <td>1</td>\n      <td>None</td>\n    </tr>\n    <tr>\n      <th>397</th>\n      <td>253</td>\n      <td>http://www.wikidata.org/entity/Q112114544</td>\n      <td>NaN</td>\n      <td>La Trobe University</td>\n      <td>2022-05-21T00:00:00Z</td>\n      <td>http://www.wikidata.org/entity/Q2973490</td>\n      <td>http://www.wikidata.org/entity/Q1065320</td>\n      <td>Aaron Violi</td>\n      <td>Coalition</td>\n      <td>Casey</td>\n      <td>0</td>\n      <td>1</td>\n      <td>NaN</td>\n      <td>1</td>\n      <td>None</td>\n    </tr>\n    <tr>\n      <th>398</th>\n      <td>253</td>\n      <td>http://www.wikidata.org/entity/Q112114544</td>\n      <td>NaN</td>\n      <td>Deakin University</td>\n      <td>2022-05-21T00:00:00Z</td>\n      <td>http://www.wikidata.org/entity/Q2973490</td>\n      <td>http://www.wikidata.org/entity/Q1065320</td>\n      <td>Aaron Violi</td>\n      <td>Coalition</td>\n      <td>Casey</td>\n      <td>0</td>\n      <td>1</td>\n      <td>NaN</td>\n      <td>1</td>\n      <td>None</td>\n    </tr>\n    <tr>\n      <th>399</th>\n      <td>255</td>\n      <td>http://www.wikidata.org/entity/Q112116312</td>\n      <td>NaN</td>\n      <td>University of New South Wales</td>\n      <td>2022-05-21T00:00:00Z</td>\n      <td>http://www.wikidata.org/entity/Q817830</td>\n      <td>http://www.wikidata.org/entity/Q216082</td>\n      <td>Jerome Laxale</td>\n      <td>Australian Labor Party</td>\n      <td>Bennelong</td>\n      <td>0</td>\n      <td>1</td>\n      <td>NaN</td>\n      <td>1</td>\n      <td>None</td>\n    </tr>\n  </tbody>\n</table>\n<p>400 rows × 15 columns</p>\n</div>"
     },
     "execution_count": 2,
     "metadata": {},
     "output_type": "execute_result"
    }
   ],
   "source": [
    "import geopandas as gpd\n",
    "import pathlib\n",
    "\n",
    "data_dir = pathlib.Path(\"..\").resolve() / \"data\"\n",
    "spl_lite = str(data_dir / \"ppm_spatiallite.sqlite\")\n",
    "# splite_con = sqlite3.connect()\n",
    "ministers = gpd.read_file(spl_lite, layer='ministers')\n",
    "ministers"
   ]
  },
  {
   "cell_type": "code",
   "execution_count": 4,
   "outputs": [
    {
     "data": {
      "text/plain": "     index                                 wiki link  \\\n260    260  http://www.wikidata.org/entity/Q20983429   \n378    117  http://www.wikidata.org/entity/Q16185446   \n379    118  http://www.wikidata.org/entity/Q16185446   \n\n                                  schoollink                  school name  \\\n260   http://www.wikidata.org/entity/Q866012     University of Queensland   \n378  http://www.wikidata.org/entity/Q1375146           Murdoch University   \n379  http://www.wikidata.org/entity/Q4792525  Armadale Senior High School   \n\n                    start district_link group       member party district  \\\n260  2022-07-26T00:00:00Z           NaN   NaN  Milton Dick   NaN      NaN   \n378  2022-07-26T00:00:00Z           NaN   NaN    Sue Lines   NaN      NaN   \n379  2022-07-26T00:00:00Z           NaN   NaN    Sue Lines   NaN      NaN   \n\n     is_senator  is_representative school_accuracy  graduated geometry  \n260           0                  1             NaN          1     None  \n378           1                  0             NaN          1     None  \n379           1                  0             NaN          1     None  ",
      "text/html": "<div>\n<style scoped>\n    .dataframe tbody tr th:only-of-type {\n        vertical-align: middle;\n    }\n\n    .dataframe tbody tr th {\n        vertical-align: top;\n    }\n\n    .dataframe thead th {\n        text-align: right;\n    }\n</style>\n<table border=\"1\" class=\"dataframe\">\n  <thead>\n    <tr style=\"text-align: right;\">\n      <th></th>\n      <th>index</th>\n      <th>wiki link</th>\n      <th>schoollink</th>\n      <th>school name</th>\n      <th>start</th>\n      <th>district_link</th>\n      <th>group</th>\n      <th>member</th>\n      <th>party</th>\n      <th>district</th>\n      <th>is_senator</th>\n      <th>is_representative</th>\n      <th>school_accuracy</th>\n      <th>graduated</th>\n      <th>geometry</th>\n    </tr>\n  </thead>\n  <tbody>\n    <tr>\n      <th>260</th>\n      <td>260</td>\n      <td>http://www.wikidata.org/entity/Q20983429</td>\n      <td>http://www.wikidata.org/entity/Q866012</td>\n      <td>University of Queensland</td>\n      <td>2022-07-26T00:00:00Z</td>\n      <td>NaN</td>\n      <td>NaN</td>\n      <td>Milton Dick</td>\n      <td>NaN</td>\n      <td>NaN</td>\n      <td>0</td>\n      <td>1</td>\n      <td>NaN</td>\n      <td>1</td>\n      <td>None</td>\n    </tr>\n    <tr>\n      <th>378</th>\n      <td>117</td>\n      <td>http://www.wikidata.org/entity/Q16185446</td>\n      <td>http://www.wikidata.org/entity/Q1375146</td>\n      <td>Murdoch University</td>\n      <td>2022-07-26T00:00:00Z</td>\n      <td>NaN</td>\n      <td>NaN</td>\n      <td>Sue Lines</td>\n      <td>NaN</td>\n      <td>NaN</td>\n      <td>1</td>\n      <td>0</td>\n      <td>NaN</td>\n      <td>1</td>\n      <td>None</td>\n    </tr>\n    <tr>\n      <th>379</th>\n      <td>118</td>\n      <td>http://www.wikidata.org/entity/Q16185446</td>\n      <td>http://www.wikidata.org/entity/Q4792525</td>\n      <td>Armadale Senior High School</td>\n      <td>2022-07-26T00:00:00Z</td>\n      <td>NaN</td>\n      <td>NaN</td>\n      <td>Sue Lines</td>\n      <td>NaN</td>\n      <td>NaN</td>\n      <td>1</td>\n      <td>0</td>\n      <td>NaN</td>\n      <td>1</td>\n      <td>None</td>\n    </tr>\n  </tbody>\n</table>\n</div>"
     },
     "execution_count": 4,
     "metadata": {},
     "output_type": "execute_result"
    }
   ],
   "source": [
    "# Sue lines is duplicated due to being president of the senate\n",
    "# Milton dick is speak of house of reps\n",
    "# Going to delete in QGIS\n",
    "ministers[ministers.duplicated([\"school name\", \"member\"])]"
   ],
   "metadata": {
    "collapsed": false
   }
  },
  {
   "cell_type": "code",
   "execution_count": null,
   "outputs": [],
   "source": [],
   "metadata": {
    "collapsed": false
   }
  }
 ],
 "metadata": {
  "kernelspec": {
   "display_name": "Python 3",
   "language": "python",
   "name": "python3"
  },
  "language_info": {
   "codemirror_mode": {
    "name": "ipython",
    "version": 2
   },
   "file_extension": ".py",
   "mimetype": "text/x-python",
   "name": "python",
   "nbconvert_exporter": "python",
   "pygments_lexer": "ipython2",
   "version": "2.7.6"
  }
 },
 "nbformat": 4,
 "nbformat_minor": 0
}
